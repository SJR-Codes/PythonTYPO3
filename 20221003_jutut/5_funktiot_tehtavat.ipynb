{
 "cells": [
  {
   "cell_type": "markdown",
   "metadata": {},
   "source": [
    "3.10.2022"
   ]
  },
  {
   "cell_type": "markdown",
   "metadata": {},
   "source": [
    "# Omat funktiot"
   ]
  },
  {
   "cell_type": "markdown",
   "metadata": {},
   "source": [
    "tavoitteet\n",
    "\n",
    "- osaa luoda oman funktion\n",
    "- osaa käyttää parametreja omassa funktiossa\n",
    "- osaa palauttaa arvon funktiosta\n",
    "- osaa antaa tyyppivihjeet paluuarvolle ja parametrille"
   ]
  },
  {
   "cell_type": "markdown",
   "metadata": {},
   "source": [
    "# Omien funktioiden tekeminen ja muuttujien näkyvyys"
   ]
  },
  {
   "cell_type": "code",
   "execution_count": 4,
   "metadata": {},
   "outputs": [
    {
     "name": "stdout",
     "output_type": "stream",
     "text": [
      "Tämä tulee funktiosta\n",
      "Tämä tulee funktiosta\n",
      "Tämä tulee funktiosta\n"
     ]
    }
   ],
   "source": [
    "# funktio ilman parametria\n",
    "# def define\n",
    "\n",
    "def viesti():\n",
    "    print(\"Tämä tulee funktiosta\")\n",
    "\n",
    "viesti()\n",
    "viesti()            # pääohjelma\n",
    "viesti()            # voi kutsua niin tarvittaessa useita kertoja\n"
   ]
  },
  {
   "cell_type": "code",
   "execution_count": null,
   "metadata": {},
   "outputs": [],
   "source": [
    "def viesti():\n",
    "    print(\"Tämä tulee funktiosta\")\n",
    "\n",
    "if __name__ == \"__main__\":  # käytetään .py tiedostoissa/moduuleissa osoittamaan pääohjelmaa\n",
    "\n",
    "    viesti()\n",
    "\n",
    "\n",
    "#https://www.freecodecamp.org/news/if-name-main-python-example/"
   ]
  },
  {
   "cell_type": "markdown",
   "metadata": {},
   "source": [
    "## muuttujien näkyvyys\n",
    "\n",
    "Funktio on yleensä itsenäinen kokonaisuus. Parametrit annetaan tietylle funktiolle, joka palauttaa tietyn tuloksen.\n",
    "\n",
    "Näin funktiota voi testata muusta koodista riippumatta.\n",
    "\n",
    "Globaalia muuttujaa tarvitaan, jos tarvitaan funktioille ylemmän tason tietoa."
   ]
  },
  {
   "cell_type": "code",
   "execution_count": 7,
   "metadata": {},
   "outputs": [
    {
     "name": "stdout",
     "output_type": "stream",
     "text": [
      "testi 1 5\n",
      "testi2 15\n",
      "globaalimuuttuja 15\n"
     ]
    }
   ],
   "source": [
    "# muuttujien näkyvyys\n",
    "\n",
    "def test1():\n",
    "    print('testi 1', muuttuja) # Printtaa globaalin muuttuja\n",
    "\n",
    "def test2():\n",
    "    #print(muuttuja) \n",
    "    global muuttuja \n",
    "    muuttuja += 10 # nyt global ei Lokaali/funktion paikallinen muuttuja\n",
    "    print('testi2', muuttuja)\n",
    "\n",
    "muuttuja = 5 # Globaali muuttuja\n",
    "test1()\n",
    "test2()  \n",
    "\n",
    "print('globaalimuuttuja', muuttuja)"
   ]
  },
  {
   "cell_type": "code",
   "execution_count": 8,
   "metadata": {},
   "outputs": [
    {
     "name": "stdout",
     "output_type": "stream",
     "text": [
      "laskuri 1\n",
      "5\n",
      "laskuri 2\n",
      "10\n",
      "laskuri 3\n",
      "3\n",
      "laskuri 4\n",
      "1\n",
      "Funktioita kutsuttiin 4 kertaa\n"
     ]
    }
   ],
   "source": [
    "def laske_summa(a, b):\n",
    "    global laskuri\n",
    "    laskuri += 1\n",
    "    print('laskuri', laskuri)\n",
    "    return a + b                        #return palauttaa arvon\n",
    "\n",
    "def laske_erotus(a, b):\n",
    "    global laskuri\n",
    "    laskuri += 1\n",
    "    print('laskuri', laskuri)\n",
    "    return a - b\n",
    "\n",
    "laskuri = 0                 # globaali muuttuja\n",
    "\n",
    "print(laske_summa(2, 3))\n",
    "print(laske_summa(5, 5))\n",
    "print(laske_erotus(5, 2))\n",
    "print(laske_summa(1, 0))\n",
    "print(\"Funktioita kutsuttiin\", laskuri, \"kertaa\")"
   ]
  },
  {
   "cell_type": "markdown",
   "metadata": {},
   "source": [
    "Teht. \n",
    "\n",
    "tee funktio, joka laskee veron allaolevan taulukon mukaan\n",
    "\n",
    "käytä ehtorakennetta ja globaalimuuttujaa\n",
    "\n",
    "voit laajentaa vielä kysymällä palkan\n",
    "\n",
    "Verotettava tulo €\t| veroprosentti( %)\n",
    "-|-\n",
    "10000\t   |         0\n",
    "10000-20000\t |       10\n",
    "20000      |          20\n",
    "\n",
    "\n",
    "Esimerkiksi 45 000 euron tuloilla\n",
    "\n",
    "10000 x 0% + 10000 x 10%  + 25000 x 20%  = 6000"
   ]
  },
  {
   "cell_type": "code",
   "execution_count": 18,
   "metadata": {},
   "outputs": [
    {
     "name": "stdout",
     "output_type": "stream",
     "text": [
      "Palkasta 500 täytyy maksaa veroa: 0.00 euroa.\n"
     ]
    }
   ],
   "source": [
    "def getTax(salary:int) -> float:\n",
    "    \"\"\"\n",
    "    Calculate tax amount for given salary\n",
    "    :return: returns tax amount\n",
    "    :rtype: return float\n",
    "    \"\"\"\n",
    "    if salary > 0:\n",
    "        if salary <= 10000:\n",
    "            amount = 0\n",
    "        elif salary <= 20000:\n",
    "            amount = (salary-10000) * 0.1\n",
    "        else:\n",
    "            amount = 1000 + (salary-20000) * 0.2\n",
    "\n",
    "        return amount\n",
    "    else: \n",
    "        return False\n",
    "\n",
    "def main():\n",
    "    salary = int(input(\"Palkka: \"))\n",
    "    tax = getTax(salary)\n",
    "    if tax is not False: #0 == False\n",
    "        print(f\"Palkasta {salary} täytyy maksaa veroa: {tax:.2f} euroa.\")\n",
    "    else:\n",
    "        print(f\"Palkalle {salary} ei voida laskea veroa\")\n",
    "\n",
    "# run blocks of code only if our program is the main program executed\n",
    "if __name__ == \"__main__\":\n",
    "    main()"
   ]
  },
  {
   "cell_type": "markdown",
   "metadata": {},
   "source": [
    "## Parametrin nimen ja oletusarvon käyttö"
   ]
  },
  {
   "cell_type": "code",
   "execution_count": 9,
   "metadata": {},
   "outputs": [
    {
     "name": "stdout",
     "output_type": "stream",
     "text": [
      "63\n",
      "90\n",
      "40\n",
      "40\n",
      "50\n"
     ]
    }
   ],
   "source": [
    "# Esim.\n",
    "\n",
    "def test(param1=5, param2=10):\n",
    "    return param1*param2\n",
    "\n",
    "print(test(9,7))\n",
    "print(test(9))      # käyttää oletusarvoa\n",
    "print(test(param2=5, param1=8))  # voi muuttaa järjestystä\n",
    "print(test(param2=8)) # oletusarvoa voi muuttaa\n",
    "print(test())"
   ]
  },
  {
   "cell_type": "code",
   "execution_count": 10,
   "metadata": {},
   "outputs": [
    {
     "name": "stdout",
     "output_type": "stream",
     "text": [
      "Nimi Ville palkka 2000\n",
      "Nimi Maija palkka 3000\n"
     ]
    }
   ],
   "source": [
    "# avain-arvo parametrit (key -value) ja oletusparametri\n",
    "\n",
    "# kirjoita ohjelma oletusparamerilla\n",
    "# pyytää ja tulostaa työntekijän nimen ja palkan\n",
    "# jos palkkaa ei anneta, ohjelmaa tulostaa oletuspalkan 3000\n",
    "\n",
    "#Oletustulostus\n",
    "# Nimi: Ville palkka: 2000\n",
    "# Nimi: Maija palkka: 3000\n",
    "def naytaTyontekija(nimi, palkka=3000):\n",
    "    print(\"Nimi\", nimi, \"palkka\", palkka)\n",
    "naytaTyontekija(\"Ville\", 2000)\n",
    "naytaTyontekija(\"Maija\")"
   ]
  },
  {
   "cell_type": "markdown",
   "metadata": {},
   "source": [
    "## parametrin tyyppi"
   ]
  },
  {
   "cell_type": "code",
   "execution_count": 13,
   "metadata": {},
   "outputs": [
    {
     "name": "stdout",
     "output_type": "stream",
     "text": [
      "Moikka\n",
      "Moikka\n",
      "Moikka\n"
     ]
    }
   ],
   "source": [
    "# Esim.\n",
    "\n",
    "def tulosta_monesti(viesti, kerrat):\n",
    "    while kerrat > 0:\n",
    "        print(viesti)\n",
    "        kerrat -= 1\n",
    "\n",
    "tulosta_monesti(\"Moikka\", 3)\n",
    "#tulosta_monesti(\"Moikka\",\"3\")"
   ]
  },
  {
   "cell_type": "code",
   "execution_count": 14,
   "metadata": {},
   "outputs": [
    {
     "name": "stdout",
     "output_type": "stream",
     "text": [
      "Moikka\n",
      "Moikka\n",
      "Moikka\n",
      "3\n",
      "3\n",
      "3\n"
     ]
    }
   ],
   "source": [
    "def tulosta_monesti(viesti : str, kerrat : int):\n",
    "    while kerrat > 0:\n",
    "        print(viesti)\n",
    "        kerrat -= 1\n",
    "\n",
    "tulosta_monesti(\"Moikka\", 3)\n",
    "tulosta_monesti(\"3\",3)"
   ]
  },
  {
   "cell_type": "code",
   "execution_count": 15,
   "metadata": {},
   "outputs": [
    {
     "name": "stdout",
     "output_type": "stream",
     "text": [
      "moikka maria\n"
     ]
    }
   ],
   "source": [
    "def kysy_nimi() -> str:\n",
    "    nimi = input(\"Mikä on nimesi? \")\n",
    "    return nimi\n",
    "\n",
    "print('moikka', kysy_nimi())"
   ]
  },
  {
   "cell_type": "markdown",
   "metadata": {},
   "source": [
    "## Funktion sisäkkäinen kutsu"
   ]
  },
  {
   "cell_type": "code",
   "execution_count": 16,
   "metadata": {},
   "outputs": [
    {
     "name": "stdout",
     "output_type": "stream",
     "text": [
      "tulostus Moikka\n",
      "tulostus Moikka\n",
      "tulostus Moikka\n"
     ]
    }
   ],
   "source": [
    "# sisäkkäinen kutsu\n",
    "\n",
    "def tulosta(viesti):\n",
    "    print('tulostus', viesti)\n",
    "\n",
    "def tulosta_monesti(viesti : str, kerrat : int):\n",
    "    while kerrat > 0:\n",
    "        tulosta(viesti)\n",
    "        kerrat -= 1\n",
    "\n",
    "tulosta_monesti(\"Moikka\", 3)"
   ]
  },
  {
   "cell_type": "markdown",
   "metadata": {},
   "source": [
    "## pakolliset parametrit"
   ]
  },
  {
   "cell_type": "code",
   "execution_count": 19,
   "metadata": {},
   "outputs": [
    {
     "name": "stdout",
     "output_type": "stream",
     "text": [
      "(50, 30)\n"
     ]
    }
   ],
   "source": [
    "# pakolliset parametrit\n",
    "\n",
    "# kirjoita ohjelma joka laskee kahden luvun summan ja erotuksen (3)\n",
    "\n",
    "def laske(a,b):\n",
    "    summa = a+b\n",
    "    vahennys = a-b\n",
    "    #pilkku väliin\n",
    "    return summa, vahennys # return käy myös a+b, a-b, palauttaa arvon\n",
    "    \n",
    "yhteensa = laske(40,10)\n",
    "print(yhteensa)"
   ]
  },
  {
   "cell_type": "markdown",
   "metadata": {},
   "source": [
    "## muuttujien määrä vaihtelee argumenttien määrän mukaan\n",
    "\n",
    "*args -parametri"
   ]
  },
  {
   "cell_type": "code",
   "execution_count": 20,
   "metadata": {},
   "outputs": [
    {
     "name": "stdout",
     "output_type": "stream",
     "text": [
      "20\n",
      "40\n",
      "60\n",
      "70\n",
      "90\n",
      "\n",
      "80\n",
      "100\n",
      "200\n"
     ]
    }
   ],
   "source": [
    "# Esim.\n",
    "\n",
    "def montaMuuttujaa(*args):\n",
    "    for i in args:\n",
    "        print(i)\n",
    "\n",
    "# 5 muuttujaa\n",
    "montaMuuttujaa(20, 40, 60, 70, 90)\n",
    "\n",
    "print()\n",
    "\n",
    "# 2 muuttujaa\n",
    "montaMuuttujaa(80, 100,200)"
   ]
  },
  {
   "cell_type": "markdown",
   "metadata": {},
   "source": [
    "TEHT. Ensimmäinen merkki / MOOC\n",
    "\n",
    "Täydennä koodipohjassa oleva funktio ensimmainen siten, että se tulostaa parametrinaan saamansa merkkijonon ensimmäisen merkin.\n",
    "\n",
    "def ensimmainen(merkkijono):\n",
    "\n",
    "     # kirjoita koodia tähän\n",
    "\n",
    "kokeillaan funktiota:\n",
    "\n",
    "if __name__ == \"__main__\":\n",
    "\n",
    "    ensimmainen('python')\n",
    "\n",
    "    ensimmainen('yhtälö')\n",
    "\n",
    "    ensimmainen('tieto')\n",
    "\n",
    "    ensimmainen('huominen')\n",
    "\n",
    "    ensimmainen('omena')\n",
    "    \n",
    "    ensimmainen('nukkumaanmenoaika')"
   ]
  },
  {
   "cell_type": "code",
   "execution_count": 7,
   "metadata": {},
   "outputs": [
    {
     "name": "stdout",
     "output_type": "stream",
     "text": [
      "p\n",
      "y\n",
      "h\n",
      "t\n",
      "o\n",
      "n\n"
     ]
    }
   ],
   "source": [
    "def ensimmainen(jono) -> str:\n",
    "    \"\"\"\n",
    "    Tulostaa merkkijonon \"jono\" ensimmäisen merkin\n",
    "    \"\"\"\n",
    "    \n",
    "    print(jono[0])\n",
    "\n",
    "def main():\n",
    "    ensimmainen('python')\n",
    "    ensimmainen('yhtälö')\n",
    "    ensimmainen('huominen')\n",
    "    ensimmainen('tieto')\n",
    "    ensimmainen('omena')    \n",
    "    ensimmainen('nukkumaanmenoaika')\n",
    "\n",
    "# run blocks of code only if our program is the main program executed\n",
    "if __name__ == \"__main__\":\n",
    "    main()"
   ]
  },
  {
   "cell_type": "markdown",
   "metadata": {},
   "source": [
    "TEHT. tulosta monesti / MOOC\n",
    "\n",
    "Tee funktio tulosta_monesti(merkkijono, kertaa), joka saa parametriksi merkkijonon sekä kokonaisluvun, joka kertoo, montako kertaa funktion tulee tulostaa parametrina saamansa merkkijono:\n",
    "\n",
    "tulosta_monesti(\"hei\", 5)\n",
    "\n",
    "print()\n",
    "\n",
    "merkkijono = \"Alussa olivat suo, kuokka ja Python\"\n",
    "\n",
    "kertaa = 3\n",
    "\n",
    "tulosta_monesti(merkkijono, kertaa)\n",
    "\n",
    "Esimerkkitulostus\n",
    "\n",
    "hei\n",
    "\n",
    "hei\n",
    "\n",
    "hei\n",
    "\n",
    "hei\n",
    "\n",
    "hei\n",
    "\n",
    "Alussa olivat suo, kuokka ja Python.\n",
    "\n",
    "Alussa olivat suo, kuokka ja Python.\n",
    "\n",
    "Alussa olivat suo, kuokka ja Python."
   ]
  },
  {
   "cell_type": "code",
   "execution_count": 21,
   "metadata": {},
   "outputs": [
    {
     "name": "stdout",
     "output_type": "stream",
     "text": [
      "Hei!\n",
      "Hei!\n",
      "Alussa oli suo, Python ja Jussi\n",
      "Alussa oli suo, Python ja Jussi\n",
      "Alussa oli suo, Python ja Jussi\n",
      "Alussa oli suo, Python ja Jussi\n",
      "Alussa oli suo, Python ja Jussi\n"
     ]
    }
   ],
   "source": [
    "def tulostamonesti(jono:str, maara:int) -> None:\n",
    "    \"\"\"\n",
    "    Tulostaa merkkijonon 'jono' 'maara' kertaa\n",
    "    :return: Nothing\n",
    "    :rtype: None\n",
    "    \"\"\"\n",
    "    \n",
    "    for _ in range(maara):\n",
    "        print(jono)\n",
    "\n",
    "def main():\n",
    "    tulostamonesti(\"Hei!\", 2)\n",
    "    tulostamonesti(\"Alussa oli suo, Python ja Jussi\", 5)\n",
    "\n",
    "# run blocks of code only if our program is the main program executed\n",
    "if __name__ == \"__main__\":\n",
    "    main()"
   ]
  },
  {
   "cell_type": "markdown",
   "metadata": {},
   "source": [
    "Teht. Risuneliö / MOOC\n",
    "\n",
    "Tee funktio risunelio(pituus) joka saa parametriksi kokonaisluvun, joka kertoo kuinka suuri risuneliö funktion pitää tulostaa:\n",
    "\n",
    "risunelio(3)\n",
    "\n",
    "print()\n",
    "\n",
    "risunelio(5)"
   ]
  },
  {
   "cell_type": "code",
   "execution_count": 23,
   "metadata": {},
   "outputs": [
    {
     "name": "stdout",
     "output_type": "stream",
     "text": [
      "# # # # # # # # # # \n",
      "# # # # # # # # # # \n",
      "# # # # # # # # # # \n",
      "# # # # # # # # # # \n",
      "# # # # # # # # # # \n",
      "# # # # # # # # # # \n",
      "# # # # # # # # # # \n",
      "# # # # # # # # # # \n",
      "# # # # # # # # # # \n",
      "# # # # # # # # # # \n"
     ]
    }
   ],
   "source": [
    "def risunelio(koko):    \n",
    "    for _ in range(koko):\n",
    "        print(\"# \" * koko)\n",
    "\n",
    "def main():\n",
    "    try:\n",
    "        risunelio(int(input(\"Koko: \")))\n",
    "\n",
    "    except ValueError:\n",
    "        print(\"Virhe: Koitappa positiivista kokonaislukua!\")\n",
    "\n",
    "\n",
    "# run blocks of code only if our program is the main program executed\n",
    "if __name__ == \"__main__\":\n",
    "    main()"
   ]
  },
  {
   "cell_type": "markdown",
   "metadata": {},
   "source": [
    "TEHT. Sananeliö /MOOC\n",
    "\n",
    "Tee funktio nelio, joka tulostaa sananeliön alla olevien esimerkkien mukaisesti.\n",
    "\n",
    "nelio(\"ab\", 3)\n",
    "\n",
    "print()\n",
    "\n",
    "nelio(\"aybabtu\", 5)\n",
    "\n",
    "Esimerkkitulostus\n",
    "\n",
    "aba\n",
    "\n",
    "bab\n",
    "\n",
    "aba\n",
    "\n",
    "\n",
    "aybab\n",
    "\n",
    "tuayb\n",
    "\n",
    "abtua\n",
    "\n",
    "ybabt\n",
    "\n",
    "uayba"
   ]
  },
  {
   "cell_type": "code",
   "execution_count": 3,
   "metadata": {},
   "outputs": [
    {
     "name": "stdout",
     "output_type": "stream",
     "text": [
      "asdfa\n",
      "sdfas\n",
      "dfasd\n",
      "fasdf\n",
      "asdfa\n"
     ]
    }
   ],
   "source": [
    "import sys\n",
    "\n",
    "def sananelio(sana:str, koko:int) ->  None:\n",
    "    \"\"\"\n",
    "    Tulostaa sananeliön\n",
    "    \"\"\"\n",
    "    sana *= koko*koko #tehdään merkkijonosta riittävän pitkä\n",
    "    z = 0\n",
    "    for _ in range(koko):\n",
    "        for _ in range(koko):\n",
    "            print(sana[z], end=\"\")\n",
    "            z += 1\n",
    "        print(\"\")\n",
    "\n",
    "def getSana() -> str:\n",
    "    cnt = 0\n",
    "    while True:\n",
    "        sana = input(\"Anna sana:\")\n",
    "        if len(sana) <= 0:            \n",
    "            cnt += 1\n",
    "            if cnt > 3:\n",
    "                sys.exit()\n",
    "            else:\n",
    "                print(\"Antaisit vaan sen sanan...\")\n",
    "        else:\n",
    "            return(sana)\n",
    "\n",
    "def main():\n",
    "\n",
    "    try:\n",
    "        sananelio(getSana(), int(input(\"Koko:\")))\n",
    "\n",
    "    except SystemExit:\n",
    "        print(\"Huoh... annetaan olla...\")\n",
    "    except ValueError:\n",
    "        print(\"Virhe: Koitappa positiivista kokonaislukua!\")\n",
    "\n",
    "# run blocks of code only if our program is the main program executed\n",
    "if __name__ == \"__main__\":\n",
    "    main()\n",
    "\n"
   ]
  },
  {
   "cell_type": "code",
   "execution_count": 17,
   "metadata": {},
   "outputs": [
    {
     "name": "stdout",
     "output_type": "stream",
     "text": [
      "aba\n",
      "bab\n",
      "aba\n"
     ]
    }
   ],
   "source": [
    "def sananelio(sana, koko):\n",
    "    sana *= koko**2 #tehdään merkkijonosta riittävän pitkä\n",
    "    for _ in range(koko):\n",
    "        print(sana[:koko])\n",
    "        sana = sana[koko:]\n",
    "        \n",
    "sananelio(input(\"Sana: \"), int(input(\"Koko: \")))"
   ]
  },
  {
   "cell_type": "code",
   "execution_count": null,
   "metadata": {},
   "outputs": [],
   "source": [
    "# TEHT Viiva MOOC\n",
    "\n",
    "# Tee funktio viiva, joka saa kaksi parametria (leveys, merkkijono).\n",
    "# Funktio tulostaa ensimmäisen parametrin määrittämän pituisen \n",
    "# viivankäyttäen toisena parametrina olevan merkkijonon ensimmäistä\n",
    "# merkkiä.\n",
    "# Jos parametrina oleva merkkijono on tyhjä, \n",
    "# tulostuu viiva tähtinä.\n",
    "#\n",
    "\n",
    "#  Tulostus\n",
    "# # %%%%%%%\n",
    "# LLLLLLLLLL\n",
    "# ***\n",
    "\n",
    "# Käyttöesimerkki:\n",
    "\n",
    "viiva(7, \"%\")\n",
    "viiva(10, \"LOL\")\n",
    "viiva(3, \"\")"
   ]
  },
  {
   "cell_type": "code",
   "execution_count": 5,
   "metadata": {},
   "outputs": [
    {
     "name": "stdout",
     "output_type": "stream",
     "text": [
      "%%%%%%%\n",
      "LLLLLLLLLL\n",
      "***\n"
     ]
    }
   ],
   "source": [
    "def viiva(leveys, jono = \"*\"):\n",
    "    if len(jono) == 0: jono = \"*\"\n",
    "    print(jono[0] * leveys)\n",
    "\n",
    "viiva(7, \"%\")\n",
    "viiva(10, \"LOL\")\n",
    "viiva(3, \"\")"
   ]
  },
  {
   "cell_type": "code",
   "execution_count": null,
   "metadata": {},
   "outputs": [],
   "source": [
    "# TEHT Risulaatikko /MOOC\n",
    "\n",
    "# Tee funktio risulaatikko, joka piirtää risuaitamerkkiä \n",
    "# käyttäen parametrinsa korkuisen, \n",
    "# kymmenen merkkiä leveän risulaatikon.\n",
    "\n",
    "# Funktion tulee kutsua edellisen tehtävän funktiota viiva \n",
    "# kaiken tulostuksen tekemiseen!\n",
    "# Kopioi edellisen tehtävän funktion koodi tämän\n",
    "# tehtävän funktion koodin yläpuolelle. \n",
    "# Älä muuta funktiota mitenkaan!\n",
    "\n",
    "# Tulostus\n",
    "\n",
    "# ##########\n",
    "# ##########\n",
    "# ##########\n",
    "# ##########\n",
    "# ##########\n",
    "\n",
    "# ##########\n",
    "# ##########\n",
    "\n",
    "\n",
    "# KÄYTTÖESIMERKKI\n",
    "def risulaatikko(korkeus):\n",
    "\n",
    "risulaatikko(5)\n",
    "print()\n",
    "risulaatikko(2)"
   ]
  },
  {
   "cell_type": "code",
   "execution_count": 6,
   "metadata": {},
   "outputs": [
    {
     "name": "stdout",
     "output_type": "stream",
     "text": [
      "#####\n",
      "#####\n",
      "#####\n",
      "#####\n",
      "#####\n",
      "\n",
      "##\n",
      "##\n"
     ]
    }
   ],
   "source": [
    "def viiva(leveys, jono = \"*\"):\n",
    "    if len(jono) == 0: jono = \"*\"\n",
    "    print(jono[0] * leveys)\n",
    "\n",
    "def risulaatikko(koko):\n",
    "    for _ in range(koko):\n",
    "        viiva(koko, \"#\")\n",
    "\n",
    "risulaatikko(5)\n",
    "print()\n",
    "risulaatikko(2)"
   ]
  },
  {
   "cell_type": "code",
   "execution_count": null,
   "metadata": {},
   "outputs": [],
   "source": [
    "# Risuneliö /MOOC\n",
    "\n",
    "# Tee funktio risunelio, joka piirtää risuaitamerkkiä käyttäen parametrinsa kokoisen risuneliön.\n",
    "# Funktion tulee kutsua edellisen tehtävän funktiota viiva kaiken tulostuksen tekemiseen!\n",
    "# Kopioi edellisen tehtävän funktion koodi tämän tehtävän funktion koodin yläpuolelle. \n",
    "# Älä muuta funktiota mitenkaan!\n",
    "\n",
    "esimerkkitulostus\n",
    "\n",
    "#####\n",
    "#####\n",
    "#####\n",
    "#####\n",
    "#####\n",
    "\n",
    "###\n",
    "###\n",
    "###\n",
    "\n",
    "# KÄYTTÖESIMERKKI\n",
    "\n",
    "risunelio(5)\n",
    "print()\n",
    "risunelio(3)\n",
    "\n",
    "# Tulostus"
   ]
  },
  {
   "cell_type": "code",
   "execution_count": null,
   "metadata": {},
   "outputs": [],
   "source": [
    "#Teht. Neliö / MOOC\n",
    "\n",
    "#Tee funktio nelio, joka saa kaksi parametria. Funktio tulostaa neliön jonka korkeuden ja leveyden kertoo ensimmäinen parametri. \n",
    "# Toinen parametri määrittelee mitä merkkiä käyttäen neliö piirretään.\n",
    "\n",
    "#Funktion tulee kutsua edellisen tehtävän funktiota viiva kaiken tulostuksen tekemiseen! \n",
    "# Kopioi edellisen tehtävän funktion koodi tämän tehtävän funktion koodin yläpuolelle. Älä muuta funktiota mitenkaan!\n",
    "\n",
    "# esimerkkitulostus\n",
    "# *****\n",
    "# *****\n",
    "# *****\n",
    "# *****\n",
    "# *****\n",
    "\n",
    "# ooo\n",
    "# ooo\n",
    "# ooo\n",
    "\n",
    "#Pari käyttöesimerkkiä\n",
    "\n",
    "\n",
    "risunelio(5, \"*\")\n",
    "print()\n",
    "risunelio(3, \"o\")"
   ]
  },
  {
   "cell_type": "code",
   "execution_count": 1,
   "metadata": {},
   "outputs": [
    {
     "name": "stdout",
     "output_type": "stream",
     "text": [
      "#####\n",
      "#####\n",
      "#####\n",
      "#####\n",
      "#####\n",
      "\n",
      "&&\n",
      "&&\n"
     ]
    }
   ],
   "source": [
    "def viiva(leveys, jono = \"*\"):\n",
    "    if len(jono) == 0: jono = \"*\"\n",
    "    print(jono[0] * leveys)\n",
    "\n",
    "def risunelio(koko, merkki):\n",
    "    for _ in range(koko):\n",
    "        viiva(koko, merkki)\n",
    "\n",
    "risunelio(5, \"#\")\n",
    "print()\n",
    "risunelio(2, \"&\")"
   ]
  },
  {
   "cell_type": "code",
   "execution_count": null,
   "metadata": {},
   "outputs": [],
   "source": [
    "# Teht. Kuvio / MOOC\n",
    "\n",
    "#Tee funktio kuvio, joka saa neljä parametria. Funktio tulostaa \n",
    "# kuvion, jonka yläosana on kahden ensimmäisen \n",
    "# parametrin määrittelemä kolmio ja alaosana ensimmäisen \n",
    "# ja kahden jälkimmäisen parametrin määrittelemä suorakulmio.\n",
    "\n",
    "#Funktion tulee kutsua edellisen tehtävän funktiota viiva \n",
    "# kaiken tulostuksen tekemiseen! \n",
    "# Kopioi edellisen tehtävän funktion koodi \n",
    "# tämän tehtävän funktion koodin yläpuolelle.\n",
    "\n",
    "# käyttöesimerkki\n",
    "\n",
    "kuvio(5, \"X\", 3, \"*\")\n",
    "print()\n",
    "kuvio(2, \"o\", 4, \"+\")\n",
    "print()\n",
    "kuvio(3, \".\", 0, \",\")\n",
    "\n",
    "# esimerkkitulostus\n",
    "\n",
    "# X\n",
    "# XX\n",
    "# XXX\n",
    "# XXXX\n",
    "# XXXXX\n",
    "# *****\n",
    "# *****\n",
    "# *****\n",
    "\n",
    "# o\n",
    "# oo\n",
    "# ++\n",
    "# ++\n",
    "# ++\n",
    "# ++\n",
    "\n",
    "# .\n",
    "# ..\n",
    "# ..."
   ]
  },
  {
   "cell_type": "code",
   "execution_count": 3,
   "metadata": {},
   "outputs": [
    {
     "name": "stdout",
     "output_type": "stream",
     "text": [
      "X\n",
      "XX\n",
      "XXX\n",
      "XXXX\n",
      "XXXXX\n",
      "***\n",
      "***\n",
      "***\n",
      "\n",
      "o\n",
      "oo\n",
      "++++\n",
      "++++\n",
      "++++\n",
      "++++\n",
      "\n",
      ".\n",
      "..\n",
      "...\n"
     ]
    }
   ],
   "source": [
    "def viiva(leveys, jono = \"*\"):\n",
    "    if len(jono) == 0: jono = \"*\"\n",
    "    print(jono[0] * leveys)\n",
    "\n",
    "def kuvio(koko, merkki, koko2, merkki2):\n",
    "    for i in range(koko):\n",
    "        viiva(i+1, merkki)\n",
    "    for _ in range(koko2):\n",
    "        viiva(koko2, merkki2)\n",
    "\n",
    "kuvio(5, \"X\", 3, \"*\")\n",
    "print()\n",
    "kuvio(2, \"o\", 4, \"+\")\n",
    "print()\n",
    "kuvio(3, \".\", 0, \",\")"
   ]
  },
  {
   "cell_type": "code",
   "execution_count": null,
   "metadata": {},
   "outputs": [],
   "source": [
    "# Teht. Joulukuusi / MOOC\n",
    "\n",
    "#Tee funktio joulukuusi, joka saa yhden parametrin. Funktio tulostaa tekstin joulukuusi! ja parametrinsa kokoisen joulukuusen.\n",
    "\n",
    "#Esim. kutsuttaessa joulukuusi(3) tulostuu\n",
    "\n",
    "# joulukuusi!\n",
    "#   *\n",
    "#  ***\n",
    "# *****\n",
    "#   *\n",
    "\n",
    "# Esim. kutsuttaessa joulukuusi(5) tulostuu\n",
    "\n",
    "# Esimerkkitulostus\n",
    "# joulukuusi!\n",
    "#     *\n",
    "#    ***\n",
    "#   *****\n",
    "#  *******\n",
    "# *********\n",
    "#     *"
   ]
  },
  {
   "cell_type": "code",
   "execution_count": 5,
   "metadata": {},
   "outputs": [
    {
     "name": "stdout",
     "output_type": "stream",
     "text": [
      "              Joulukuusi!               \n",
      "                   *                    \n",
      "                  ***                   \n",
      "                 *****                  \n",
      "                *******                 \n",
      "               *********                \n",
      "              ***********               \n",
      "             *************              \n",
      "            ***************             \n",
      "           *****************            \n",
      "          *******************           \n",
      "         *********************          \n",
      "        ***********************         \n",
      "       *************************        \n",
      "      ***************************       \n",
      "     *****************************      \n",
      "    *******************************     \n",
      "   *********************************    \n",
      "  ***********************************   \n",
      " *************************************  \n",
      "*************************************** \n",
      "                   *                    \n"
     ]
    }
   ],
   "source": [
    "def kuusi(koko):\n",
    "    leveys = koko * 2\n",
    "    print(\"Joulukuusi!\".center(leveys))\n",
    "    for i in range(1, leveys, 2):\n",
    "        s = \"*\" * i\n",
    "        print(s.center(leveys))\n",
    "\n",
    "    print(\"*\".center(leveys)) #puun juuri\n",
    "\n",
    "kuusi(20)"
   ]
  },
  {
   "cell_type": "code",
   "execution_count": null,
   "metadata": {},
   "outputs": [],
   "source": [
    "#Tee funktio palindromi, joka saa parametriksi merkkijonon ja palauttaa True, jos merkkijono on palindromi \n",
    "# (eli samansisältöinen luettuna alusta loppuun tai lopusta alkuun).\n",
    "\n",
    "#Tee myös funktiota hyödyntävä pääohjelma, joka kyselee käyttäjältä sanoja niin kauan, kunnes käyttäjä syöttää palindromin:\n",
    "\n",
    "#Esimerkkitulostus\n",
    "#Anna sana: python\n",
    "#ei ollut palindromi\n",
    "#Anna sana: saippuakauppias\n",
    "#saippuakauppias on palindromi!"
   ]
  },
  {
   "cell_type": "code",
   "execution_count": null,
   "metadata": {},
   "outputs": [],
   "source": [
    "def is_palin(word):\n",
    "    return word == word[::-1]\n",
    "\n",
    "def main():\n",
    "    while True:\n",
    "        word = input(\"Anna palindromi: \")\n",
    "        if is_palin(word):\n",
    "            print(f\"{word} on palindromi\")\n",
    "            break\n",
    "        else:\n",
    "            print(f\"{word} ei ole palindromi\")\n",
    "main()\n",
    "     \n"
   ]
  },
  {
   "cell_type": "markdown",
   "metadata": {},
   "source": [
    "tee ohjelma, jossa pyydetään luku ja ohjelma vastaa onko kyseessä alkuluku vai ei\n",
    "\n",
    "Ohjelma voi tarkistaa alussa, että käyttäjä syöttää numeron.\n",
    "\n",
    "https://www.practicepython.org/exercise/2014/04/16/11-check-primality-functions.html\n",
    "\n",
    "https://fi.wikipedia.org/wiki/Alkuluku"
   ]
  },
  {
   "cell_type": "code",
   "execution_count": 6,
   "metadata": {},
   "outputs": [
    {
     "name": "stdout",
     "output_type": "stream",
     "text": [
      "Luku, siis numero, syötä numero!\n"
     ]
    }
   ],
   "source": [
    "def checkPrime(luku):\n",
    "    for x in range(2, luku-1):\n",
    "        if luku % x == 0: return False    \n",
    "    return True\n",
    "\n",
    "try:\n",
    "    if checkPrime(int(input(\"Anna luku: \"))):\n",
    "        print(\"Luku on alkuluku\")\n",
    "    else:\n",
    "        print(\"Luku ei ole alkuluku\")\n",
    "except ValueError:\n",
    "    print(\"Luku, siis numero, syötä numero!\")"
   ]
  }
 ],
 "metadata": {
  "kernelspec": {
   "display_name": "Python 3.10.7 64-bit",
   "language": "python",
   "name": "python3"
  },
  "language_info": {
   "codemirror_mode": {
    "name": "ipython",
    "version": 3
   },
   "file_extension": ".py",
   "mimetype": "text/x-python",
   "name": "python",
   "nbconvert_exporter": "python",
   "pygments_lexer": "ipython3",
   "version": "3.10.7"
  },
  "orig_nbformat": 4,
  "vscode": {
   "interpreter": {
    "hash": "26de051ba29f2982a8de78e945f0abaf191376122a1563185a90213a26c5da77"
   }
  }
 },
 "nbformat": 4,
 "nbformat_minor": 2
}

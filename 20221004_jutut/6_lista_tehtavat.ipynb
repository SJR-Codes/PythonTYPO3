{
 "cells": [
  {
   "cell_type": "markdown",
   "metadata": {},
   "source": [
    "4.10.2022"
   ]
  },
  {
   "cell_type": "markdown",
   "metadata": {},
   "source": [
    "# Listan käsittelyä\n"
   ]
  },
  {
   "cell_type": "markdown",
   "metadata": {},
   "source": [
    "## tavoitteet\n",
    "\n",
    "- osaa viitata listaan\n",
    "- osaa hakea alkion indeksin perusteella\n",
    "- osaa lisätä ja poistaa alkioita\n",
    "- osaa muokata alkioita\n",
    "- osaa käyttää tavallisimpia listan käsittelyyn liittyviä metodeja\n"
   ]
  },
  {
   "cell_type": "markdown",
   "metadata": {},
   "source": [
    "- merkitään hakasulkeilla: list = [  ]\n",
    "\n",
    "- muokattavissa\n",
    "\n",
    "- ordered -> indeksi\n",
    "\n",
    "- hyväksyy duplikaatteja"
   ]
  },
  {
   "cell_type": "markdown",
   "metadata": {},
   "source": [
    "https://www.w3schools.com/python/python_ref_list.asp\n",
    "\n",
    "https://docs.python.org/3/library/stdtypes.html#sequence-types-list-tuple-range\n",
    "\n",
    "https://www.learnpython.org/en/Lists"
   ]
  },
  {
   "cell_type": "markdown",
   "metadata": {},
   "source": [
    "## metodeja ja viittauksia"
   ]
  },
  {
   "cell_type": "markdown",
   "metadata": {},
   "source": [
    "    index() palauttaa tietyn arvon indeksin"
   ]
  },
  {
   "cell_type": "code",
   "execution_count": null,
   "metadata": {},
   "outputs": [],
   "source": [
    "# etsitään listasta ensimmäinen luku 20 \n",
    "\n",
    "lista4 = [5,10,15,20,25,20,50,20]\n",
    "\n",
    "index = lista4.index(20)\n",
    "\n",
    "print('indeksi', index)\n",
    "\n",
    "# muutetaan luku luvuksi 200 \n",
    "\n",
    "lista4[index] = 200\n",
    "\n",
    "print(lista4)"
   ]
  },
  {
   "cell_type": "markdown",
   "metadata": {},
   "source": [
    "    min()\n",
    "\n",
    "    max()\n",
    "\n",
    "    len()"
   ]
  },
  {
   "cell_type": "code",
   "execution_count": null,
   "metadata": {},
   "outputs": [],
   "source": [
    "lista = [2,5,1,2,4]\n",
    "\n",
    "print(min(lista))   # pienin\n",
    "print(max(lista))   # suurin\n",
    "print(len(lista))   # pituus\n",
    "\n",
    "lista = ['auto', 'mopo', 'bussi', 'polkupyörä']\n",
    "\n",
    "print(min(lista))   # pienin\n",
    "print(max(lista))   # suurin\n",
    "print(len(lista))   # pituus"
   ]
  },
  {
   "cell_type": "markdown",
   "metadata": {},
   "source": [
    "    append() lisää yhden alkion listan loppuun"
   ]
  },
  {
   "cell_type": "markdown",
   "metadata": {},
   "source": [
    "teht.\n",
    "\n",
    "laske neliöjuuri listan jokaisesta luvusta ja luo uusi lista\n",
    "\n",
    "luvut = [1,2,3,4,5,6,7]"
   ]
  },
  {
   "cell_type": "code",
   "execution_count": 14,
   "metadata": {},
   "outputs": [
    {
     "name": "stdout",
     "output_type": "stream",
     "text": [
      "[1.0, 1.4142135623730951, 1.7320508075688772, 2.0, 2.23606797749979, 2.449489742783178, 2.6457513110645907]\n",
      "[1, 4, 9, 16, 25, 36, 49]\n"
     ]
    }
   ],
   "source": [
    "import math\n",
    "\n",
    "luvut = [1,2,3,4,5,6,7]\n",
    "juuret = []\n",
    "potenssit = []\n",
    "\n",
    "for luku in luvut:\n",
    "    juuret.append(math.sqrt(luku))\n",
    "    potenssit.append(luku*luku)\n",
    "\n",
    "print(juuret)\n",
    "print(potenssit)\n",
    "\n"
   ]
  },
  {
   "cell_type": "markdown",
   "metadata": {},
   "source": [
    "teht.\n",
    "\n",
    "lisää luku 7000 luvun 6000 jälkeen\n",
    "\n",
    "luvut2 = [10,20, [300,400, [5000, 6000], 500], 30, 40]\n",
    "\n",
    "huomaa indeksi\n",
    "\n",
    "käytä append()"
   ]
  },
  {
   "cell_type": "code",
   "execution_count": 13,
   "metadata": {},
   "outputs": [
    {
     "name": "stdout",
     "output_type": "stream",
     "text": [
      "[5000, 6000]\n",
      "[10, 20, [300, 400, [5000, 6000, 7000], 500], 30, 40]\n"
     ]
    }
   ],
   "source": [
    "luvut2 = [10,20, [300,400, [5000, 6000], 500], 30, 40]\n",
    "print(luvut2[2][2])\n",
    "index = luvut2[2][2].index(6000)\n",
    "luvut2[2][2].insert(index+1, 7000)\n",
    "print(luvut2)\n"
   ]
  },
  {
   "cell_type": "markdown",
   "metadata": {},
   "source": [
    "Teht. Alkiden arvojen muutokset /MOOC\n",
    "\n",
    "Tee ohjelma, joka alustaa listan jossa on arvot [1, 2, 3, 4, 5]. Tämän jälkeen ohjelma kysyy käyttäjältä alkion indeksin ja uuden arvon, vaihtaa kyseisen alkion arvon ja tulostaa listan uudelleen. Ohjelman suoritus päättyy, jos käyttäjä antaa alkion indeksiksi -1.\n",
    "\n",
    "Esimerkkisuoritus:\n",
    "\n",
    "Esimerkkitulostus\n",
    "\n",
    "Anna indeksi: 0\n",
    "\n",
    "Anna arvo: 10\n",
    "\n",
    "[10, 2, 3, 4, 5]\n",
    "\n",
    "Anna indeksi: 2\n",
    "\n",
    "Anna arvo: 250\n",
    "\n",
    "[10, 2, 250, 4, 5]\n",
    "\n",
    "Anna indeksi: 4\n",
    "\n",
    "\n",
    "[10, 2, 250, 4, -45]\n",
    "\n",
    "Anna indeksi: -1\n",
    "\n",
    "Huom: tässä tehtävässä (eikä missään muussakaan tehtävissä missä ei erikseen pyydetä funktioiden toteuttamista) mitään koodia ei tule sijoittaa if __name__ == \"__main__\"-lohkoon!"
   ]
  },
  {
   "cell_type": "code",
   "execution_count": 18,
   "metadata": {},
   "outputs": [
    {
     "name": "stdout",
     "output_type": "stream",
     "text": [
      "Muutettu lista: \n",
      "[1, 2, '100', 4, 5]\n",
      "Muutettu lista: \n",
      "[1, 2, '100', '300', 5]\n",
      "Muutettu lista: \n",
      "['9999', 2, '100', '300', 5]\n",
      "Muutettu lista: \n",
      "['9999', 2, 'hippa', '300', 5]\n"
     ]
    }
   ],
   "source": [
    "arvot = [1, 2, 3, 4, 5]\n",
    "\n",
    "while True:\n",
    "    index = int(input(\"Anna indeksi: \"))\n",
    "    if index < 0: \n",
    "        break\n",
    "    luku = input(\"Anna arvo: \")\n",
    "\n",
    "    try:\n",
    "        arvot[index] = luku\n",
    "        print(\"Muutettu lista: \")\n",
    "        print(arvot)\n",
    "    except IndexError:\n",
    "        print(\"Virhe: indeksi yli hilseen!\")\n"
   ]
  },
  {
   "cell_type": "markdown",
   "metadata": {},
   "source": [
    "## sisäkkäiset listat\n",
    "\n",
    "listan alkiona voi olla myös toinen lista"
   ]
  },
  {
   "cell_type": "markdown",
   "metadata": {},
   "source": [
    "    extend() lisää monia alkioita  listan loppuun"
   ]
  },
  {
   "cell_type": "markdown",
   "metadata": {},
   "source": [
    "teht.\n",
    "\n",
    "lisää alilista listaan niin, että tulostus menee aakkosjärjestyksessä\n",
    "\n",
    "käytä extend() ja indeksit\n",
    "\n",
    "lista3 = [\"a\", \"b\", [\"c\", [\"d\", \"e\", [\"f\", \"g\"], \"k\"], \"l\"], \"m\", \"n\"]\n",
    "\n",
    "aliLista = [\"h\", \"i\", \"j\"]\n",
    "\n",
    "\n",
    "ole tarkkana indeksin kanssa"
   ]
  },
  {
   "cell_type": "code",
   "execution_count": 28,
   "metadata": {},
   "outputs": [
    {
     "name": "stdout",
     "output_type": "stream",
     "text": [
      "['f', 'g']\n",
      "['a', 'b', ['c', ['d', 'e', ['f', 'g', 'h', 'i', 'j'], 'k'], 'l'], 'm', 'n']\n"
     ]
    }
   ],
   "source": [
    "lista3 = [\"a\", \"b\", [\"c\", [\"d\", \"e\", [\"f\", \"g\"], \"k\"], \"l\"], \"m\", \"n\"]\n",
    "aliLista = [\"h\", \"i\", \"j\"]\n",
    "\n",
    "lista3[2][1][2].extend(aliLista)\n",
    "\n",
    "print(lista3)"
   ]
  },
  {
   "cell_type": "markdown",
   "metadata": {},
   "source": [
    "    remove() poistaa tietyn alkion sen arvon mukaan"
   ]
  },
  {
   "cell_type": "markdown",
   "metadata": {},
   "source": [
    "teht\n",
    "\n",
    "poista listalta kaikki arvot 20\n",
    "\n",
    "lista = [5,10,15,20,25,20,50,20]\n",
    "\n"
   ]
  },
  {
   "cell_type": "code",
   "execution_count": 30,
   "metadata": {},
   "outputs": [
    {
     "name": "stdout",
     "output_type": "stream",
     "text": [
      "[5, 10, 15, 25, 50]\n"
     ]
    }
   ],
   "source": [
    "lista = [5,10,15,20,25,20,50,20]\n",
    "while 20 in lista:\n",
    "    lista.remove(20)\n",
    "print(lista)\n"
   ]
  },
  {
   "cell_type": "markdown",
   "metadata": {},
   "source": [
    "    pop() poistaa tietyn alkion sen indeksin mukaan."
   ]
  },
  {
   "cell_type": "code",
   "execution_count": 31,
   "metadata": {},
   "outputs": [
    {
     "name": "stdout",
     "output_type": "stream",
     "text": [
      "25\n",
      "[5, 10, 15, 20, 20, 50, 20]\n"
     ]
    }
   ],
   "source": [
    "# esim.\n",
    "\n",
    "lista = [5,10,15,20,25,20,50,20]\n",
    "\n",
    "luku = lista.pop(4)     #annetaan indeksi\n",
    "print(luku)             #tulostaa arvon\n",
    "print(lista)            # tulostaa muokatun listaan"
   ]
  },
  {
   "cell_type": "code",
   "execution_count": null,
   "metadata": {},
   "outputs": [],
   "source": [
    "lista = [5,10,15,20,25,20,50,20]\n",
    "\n",
    "for index, x in enumerate(lista):\n",
    "    if x == 20:\n",
    "        lista.pop(index)\n",
    "print(lista)"
   ]
  },
  {
   "cell_type": "markdown",
   "metadata": {},
   "source": [
    "Teht. Lisäys ja poisto /MOOC\n",
    "\n",
    "Tee ohjelma, joka pyytää käyttäjää valitsemaan alkion lisäyksen tai poiston. Sekä lisäys että poisto tehdään listan loppuun. Lisättävän alkion arvo on aina yhtä suurempi kuin listan viimeinen alkio (tai 1, jos listassa ei ole alkioita).\n",
    "\n",
    "Joka operaation välissä lista tulostetaan. Katso esimerkkiä seuraavasta tulosteesta:\n",
    "\n",
    "Esimerkkitulostus\n",
    "Lista on nyt []\n",
    "\n",
    "(l)isää, (p)oista vai e(x)it: l\n",
    "\n",
    "Lista on nyt [1]\n",
    "\n",
    "(l)isää, (p)oista vai e(x)it: l\n",
    "\n",
    "Lista on nyt [1, 2]\n",
    "\n",
    "(l)isää, (p)oista vai e(x)it: l\n",
    "\n",
    "Lista on nyt [1, 2, 3]\n",
    "\n",
    "(l)isää, (p)oista vai e(x)it: p\n",
    "\n",
    "Lista on nyt [1, 2]\n",
    "\n",
    "(l)isää, (p)oista vai e(x)it: l\n",
    "\n",
    "Lista on nyt [1, 2, 3]\n",
    "\n",
    "(l)isää, (p)oista vai e(x)it: x\n",
    "\n",
    "Moi!\n",
    "\n",
    "Voit olettaa, että listalta ei yritetä poistaa alkioita, jos lista on tyhjä.\n",
    "\n",
    "Huom: tässä tehtävässä (eikä missään muussakaan tehtävissä missä ei erikseen pyydetä funktioiden toteuttamista) mitään koodia ei tule sijoittaa if __name__ == \"__main__\"-lohkoon!"
   ]
  },
  {
   "cell_type": "code",
   "execution_count": 36,
   "metadata": {},
   "outputs": [
    {
     "name": "stdout",
     "output_type": "stream",
     "text": [
      "Lista on nyt:  [1]\n",
      "Lista on nyt:  [1, 2]\n",
      "Lista on nyt:  [1]\n"
     ]
    }
   ],
   "source": [
    "lista = []\n",
    "laskuri = 0\n",
    "\n",
    "while True:\n",
    "    toimi = input(\"(l)isää, (p)oista vai e(x)it: \").lower()\n",
    "    if toimi == \"x\":\n",
    "        break\n",
    "    elif toimi == \"l\":\n",
    "        lista.append(laskuri+1)\n",
    "        laskuri += 1\n",
    "    elif toimi == \"p\":\n",
    "        laskuri -= 1\n",
    "        lista.pop(laskuri)\n",
    "    print(\"Lista on nyt: \", lista)\n"
   ]
  },
  {
   "cell_type": "markdown",
   "metadata": {},
   "source": [
    "## kaksi listaa yhdistetään operaattorilla"
   ]
  },
  {
   "cell_type": "code",
   "execution_count": 37,
   "metadata": {},
   "outputs": [
    {
     "name": "stdout",
     "output_type": "stream",
     "text": [
      "['eka kolmas', 'eka neljäs', 'toka kolmas', 'toka neljäs']\n"
     ]
    }
   ],
   "source": [
    "# Esim.\n",
    "#  Miten tulostus ['eka kolmas', 'eka neljäs', 'toka kolmas', 'toka neljäs']?\n",
    "lista7 = [\"eka \", \"toka \"]\n",
    "lista8 = [\"kolmas\", \"neljäs\"]\n",
    "\n",
    "tulos2 = [x + y for x in lista7 for y in lista8]\n",
    "\n",
    "print(tulos2)"
   ]
  },
  {
   "cell_type": "markdown",
   "metadata": {},
   "source": [
    "Teht. \n",
    "\n",
    "lisaa uuteen listaan listan ensimmäinen ja viimeinen\n",
    "\n",
    "lista = [5, 10, 15, 20, 25]\n",
    "\n",
    "uusilista = [5, 25]\n",
    "\n",
    "- kokeile append\n",
    "- kokeile indeksi"
   ]
  },
  {
   "cell_type": "code",
   "execution_count": 38,
   "metadata": {},
   "outputs": [
    {
     "name": "stdout",
     "output_type": "stream",
     "text": [
      "[5, 25, 5, 25]\n"
     ]
    }
   ],
   "source": [
    "lista = [5, 10, 15, 20, 25]\n",
    "uusilista = [5, 25]\n",
    "\n",
    "uusilista.append(lista[0])\n",
    "uusilista.append(lista[4])\n",
    "\n",
    "print(uusilista)"
   ]
  },
  {
   "cell_type": "markdown",
   "metadata": {},
   "source": [
    "    sort() järjestää olemassa olevan listan\n",
    "\n",
    "    sorted() palauttaa järjestetetyn listan"
   ]
  },
  {
   "cell_type": "code",
   "execution_count": 1,
   "metadata": {},
   "outputs": [
    {
     "name": "stdout",
     "output_type": "stream",
     "text": [
      "[1, 2, 2, 4, 5]\n",
      "[1, 2, 2, 4, 5]\n"
     ]
    }
   ],
   "source": [
    "#esim.\n",
    "\n",
    "lista = [2,5,1,2,4]\n",
    "\n",
    "lista.sort()\n",
    "\n",
    "print(lista)\n",
    "\n",
    "sorted = sorted(lista)\n",
    "\n",
    "print(sorted)"
   ]
  },
  {
   "cell_type": "markdown",
   "metadata": {},
   "source": [
    "Teht. Lista kahdesti /MOOC\n",
    "\n",
    "\n",
    "Tee ohjelma, joka kysyy käyttäjältä lukuja ja lisää niitä listaan. Lista tulostetaan jokaisen luvun lisäyksen jälkeen kahdella eri tavalla:\n",
    "\n",
    "- alkiot lisäysjärjestyksessä ja\n",
    "-järjestettynä pienimmästä suurimpaan alkioon\n",
    "\n",
    "Ohjelman suoritus päättyy, kun käyttäjä syöttää luvun 0.\n",
    "\n",
    "Esimerkkisuoritus:\n",
    "\n",
    "Anna luku: 3\n",
    "\n",
    "Lista: [3]\n",
    "\n",
    "Järjestettynä: [3]\n",
    "\n",
    "Anna luku: 1\n",
    "\n",
    "Lista: [3, 1]\n",
    "\n",
    "Järjestettynä: [1, 3]\n",
    "\n",
    "Anna luku: 9\n",
    "\n",
    "Lista: [3, 1, 9]\n",
    "\n",
    "Järjestettynä: [1, 3, 9]\n",
    "\n",
    "Anna luku: 5\n",
    "\n",
    "Lista: [3, 1, 9, 5]\n",
    "\n",
    "Järjestettynä: [1, 3, 5, 9]\n",
    "\n",
    "Anna luku: 0\n",
    "\n",
    "Moi!"
   ]
  },
  {
   "cell_type": "code",
   "execution_count": 4,
   "metadata": {},
   "outputs": [
    {
     "name": "stdout",
     "output_type": "stream",
     "text": [
      "[2]\n",
      "[2]\n",
      "[2, 1]\n",
      "[1, 2]\n",
      "[2, 1, 3]\n",
      "[1, 2, 3]\n",
      "[2, 1, 3, 4]\n",
      "[1, 2, 3, 4]\n"
     ]
    }
   ],
   "source": [
    "lista = []\n",
    "\n",
    "while True:\n",
    "    luku = int(input(\"Anna luku: \"))\n",
    "\n",
    "    if luku != 0:\n",
    "        lista.append(luku)\n",
    "        print(\"Lista:\", lista)\n",
    "        print(\"Järjestettynä: \", sorted(lista))\n",
    "    else:\n",
    "        break"
   ]
  },
  {
   "cell_type": "markdown",
   "metadata": {},
   "source": [
    "Teht.\n",
    "\n",
    "tee ohjelma funktioilla, jossa pyydetään luku ja ohjelma vastaa onko kyseessä alkuluku vai ei\n",
    "\n",
    "https://www.practicepython.org/exercise/2014/04/16/11-check-primality-functions.html\n",
    "\n",
    "https://fi.wikipedia.org/wiki/Alkuluku"
   ]
  },
  {
   "cell_type": "markdown",
   "metadata": {},
   "source": [
    "teht.\n",
    "\n",
    "tee ohjelma funtioilla , joka kysyy kuinka monta Fibonacci-lukua tulostetaan.\n",
    "\n",
    "varmista, että käyttäjä syöttää numeron tai pyydä korjaamaan syöte luvuksi.\n",
    "\n",
    "https://www.practicepython.org/exercise/2014/04/30/13-fibonacci.html\n",
    "\n",
    "https://fi.wikipedia.org/wiki/Fibonaccin_lukujono\n",
    "\n",
    "https://www.datacamp.com/tutorial/role-underscore-python"
   ]
  },
  {
   "cell_type": "code",
   "execution_count": 17,
   "metadata": {},
   "outputs": [
    {
     "name": "stdout",
     "output_type": "stream",
     "text": [
      "Pyydettiin antamaan luku...\n",
      "[0, 1, 1, 2, 3]\n"
     ]
    }
   ],
   "source": [
    "def fibonacci(count:int) -> list:\n",
    "    ''' Returns count amount of Fibonacci numbers as list '''\n",
    "    fib = [0,1]\n",
    "    for x in range(2,count):\n",
    "        fib.append(fib[x-2] + fib[x-1])\n",
    "    return fib[0:count]\n",
    "\n",
    "while True:\n",
    "    try:\n",
    "        count = int(input(\"Anna luku:\"))\n",
    "        print(fibonacci(count))\n",
    "        break\n",
    "    except ValueError:\n",
    "        print(\"Pyydettiin antamaan luku...\")\n",
    "\n"
   ]
  },
  {
   "cell_type": "markdown",
   "metadata": {},
   "source": [
    "teht.\n",
    "\n",
    "tee ohjelma funktioilla, joka poistaa duplikaatit\n",
    "\n",
    "\n",
    "names = [\"Michele\", \"Robin\", \"Sara\", \"Michele\", \"Taylor\", \"Nora\"]\n",
    "\n",
    "kokeile\n",
    "\n",
    "1. for loop ja append()\n",
    "2. set()\n",
    "\n",
    "https://www.practicepython.org/exercise/2014/05/15/14-list-remove-duplicates.html\n",
    "\n",
    "x not in s\n",
    "\n",
    "https://docs.python.org/3/library/stdtypes.html#sequence-types-list-tuple-range"
   ]
  },
  {
   "cell_type": "code",
   "execution_count": 20,
   "metadata": {},
   "outputs": [
    {
     "name": "stdout",
     "output_type": "stream",
     "text": [
      "['Robin', 'Sara', 'Michele', 'Taylor', 'Nora']\n"
     ]
    }
   ],
   "source": [
    "names = [\"Michele\", \"Robin\", \"Michele\", \"Sara\", \"Michele\", \"Taylor\", \"Nora\", \"Nora\"]\n",
    "\n",
    "for name in names:\n",
    "    if names.count(name) > 1:\n",
    "        names.remove(name)\n",
    "print(names)"
   ]
  },
  {
   "cell_type": "markdown",
   "metadata": {},
   "source": [
    "teht\n",
    "\n",
    "hae joku tietty alkio listalta. Kirjoita funktio. \n",
    "\n",
    "\n",
    " lista = [2, 4, 6, 8, 10]\n",
    "\n",
    " hae esim. 5 mitä palauttaa?\n",
    "\n",
    " hae esim. 2 mitä palauttaa?\n",
    "\n",
    "\n",
    "https://www.practicepython.org/exercise/2014/11/11/20-element-search.html\n",
    "\n"
   ]
  },
  {
   "cell_type": "markdown",
   "metadata": {},
   "source": [
    "Teht.\n",
    "\n",
    "Arvosanatilasto:\n",
    "\n",
    "Tämä vähän laajempi tehtävä on viimeinen tehtävä sivulla : \n",
    "\n",
    "https://ohjelmointi-22.mooc.fi/osa-4/6-lisaa-rakenteista\n"
   ]
  }
 ],
 "metadata": {
  "kernelspec": {
   "display_name": "Python 3.10.7 64-bit",
   "language": "python",
   "name": "python3"
  },
  "language_info": {
   "codemirror_mode": {
    "name": "ipython",
    "version": 3
   },
   "file_extension": ".py",
   "mimetype": "text/x-python",
   "name": "python",
   "nbconvert_exporter": "python",
   "pygments_lexer": "ipython3",
   "version": "3.10.7"
  },
  "orig_nbformat": 4,
  "vscode": {
   "interpreter": {
    "hash": "26de051ba29f2982a8de78e945f0abaf191376122a1563185a90213a26c5da77"
   }
  }
 },
 "nbformat": 4,
 "nbformat_minor": 2
}

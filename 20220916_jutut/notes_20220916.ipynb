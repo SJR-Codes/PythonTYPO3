{
 "cells": [
  {
   "cell_type": "code",
   "execution_count": 5,
   "metadata": {},
   "outputs": [
    {
     "name": "stdout",
     "output_type": "stream",
     "text": [
      "Twinkle, twinkle, little star,\n",
      "\tHow I wonder what you are!\n",
      "\t\tUp above the world so high,\n",
      "\t\tLike a diamond in the sky.\n",
      "Twinkle, twinkle, little star,\n",
      "\tHow I wonder what you are\n"
     ]
    }
   ],
   "source": [
    "song = \"Twinkle, twinkle, little star,\\n\\tHow I wonder what you are!\\n\\t\\tUp above the world so high,\\n\\t\\tLike a diamond in the sky.\\nTwinkle, twinkle, little star,\\n\\tHow I wonder what you are\"\n",
    "\n",
    "print(song)"
   ]
  },
  {
   "cell_type": "code",
   "execution_count": 6,
   "metadata": {},
   "outputs": [
    {
     "name": "stdout",
     "output_type": "stream",
     "text": [
      "Twinkle, twinkle, little star,\n",
      "    How I wonder what you are!\n",
      "        Up above the world so high,\n",
      "        Like a diamond in the sky.\n",
      "Twinkle, twinkle, little star,\n",
      "    How I wonder what you are\n"
     ]
    }
   ],
   "source": [
    "song = \"\"\"Twinkle, twinkle, little star,\n",
    "    How I wonder what you are!\n",
    "        Up above the world so high,\n",
    "        Like a diamond in the sky.\n",
    "Twinkle, twinkle, little star,\n",
    "    How I wonder what you are\"\"\"\n",
    "\n",
    "print(song)"
   ]
  },
  {
   "cell_type": "markdown",
   "metadata": {},
   "source": [
    "#Syötteet käyttäjältä"
   ]
  },
  {
   "cell_type": "code",
   "execution_count": 1,
   "metadata": {},
   "outputs": [
    {
     "name": "stdout",
     "output_type": "stream",
     "text": [
      "Moikka, Teppo Tuppo. Lempivärisi on siis Punainen\n"
     ]
    }
   ],
   "source": [
    "nimi = input(\"Kerroppa nimesi: \")\n",
    "lempivari = input(\"Lempivärisi: \")\n",
    "print(f\"Moikka, {nimi}. Lempivärisi on siis {lempivari}\")"
   ]
  },
  {
   "cell_type": "code",
   "execution_count": 7,
   "metadata": {},
   "outputs": [
    {
     "name": "stdout",
     "output_type": "stream",
     "text": [
      "Ikäsi vuonna 2035 on 69\n"
     ]
    }
   ],
   "source": [
    "synt_vuosi = input(\"Syntymävuotesi: \")\n",
    "vuosi = input(\"Vuosi: \")\n",
    "\n",
    "ika = int(vuosi) - int(synt_vuosi)\n",
    "\n",
    "print(f\"Ikäsi vuonna {vuosi} on {ika}\")"
   ]
  },
  {
   "cell_type": "code",
   "execution_count": null,
   "metadata": {},
   "outputs": [],
   "source": [
    "synt_vuosi = int(input(\"Syntymävuotesi: \"))\n",
    "vuosi = int(input(\"Vuosi: \"))\n",
    "\n",
    "ika = vuosi-synt_vuosi\n",
    "\n",
    "print(f\"Ikäsi vuonna {str(vuosi)} on {ika}\")"
   ]
  },
  {
   "cell_type": "code",
   "execution_count": 8,
   "metadata": {},
   "outputs": [
    {
     "name": "stdout",
     "output_type": "stream",
     "text": [
      "Teppo Testi\n",
      "Testitie 5\n",
      "00510 Tampesteri\n"
     ]
    }
   ],
   "source": [
    "enimi = input(\"Etunimi: \")\n",
    "snimi = input(\"Sukunimi: \")\n",
    "katuos = input(\"Katuosoite: \")\n",
    "postinro = input(\"Postinumero: \")\n",
    "kaupunki = input(\"kaupunki: \")\n",
    "ppaikka = f\"{postinro} {kaupunki}\"\n",
    "\n",
    "print(f\"{enimi} {snimi}\\n{katuos}\\n{ppaikka}\")"
   ]
  },
  {
   "cell_type": "code",
   "execution_count": 9,
   "metadata": {},
   "outputs": [
    {
     "name": "stdout",
     "output_type": "stream",
     "text": [
      "hissun-kissun-vaapula!\n"
     ]
    }
   ],
   "source": [
    "var1 = input(\"Kirjoita jotain: \")\n",
    "var2 = input(\"Loruile lisää: \")\n",
    "var3 = input(\"Yksi vielä: \")\n",
    "\n",
    "print(f\"{var1}-{var2}-{var3}!\")"
   ]
  },
  {
   "cell_type": "code",
   "execution_count": 16,
   "metadata": {},
   "outputs": [
    {
     "name": "stdout",
     "output_type": "stream",
     "text": [
      "Tessa on kopea kalastaja, syntynyt vuonna 1980. Eräänä jouluna Tessa heräsi kovaan meluun: nälkäkiukku lähestyi kapakkaa. Vain Tessa voisi pelastaa sen asukkaat.\n"
     ]
    }
   ],
   "source": [
    "import random as r\n",
    "nimi = input(\"Anna nimi: \")\n",
    "vuosi = input(\"Anna vuosi: \")\n",
    "\n",
    "kuvaus = r.choice([\"urhea\",\"loistava\",\"harmiton\",\"kopea\",\"viekas\"])\n",
    "ammatti = r.choice([\"ritari\",\"koodari\",\"työtön\",\"kokki\",\"kalastaja\"])\n",
    "aika = r.choice([\"aamuna\",\"iltana\",\"jouluna\",\"päivänä\",\"laskuvetenä\"])\n",
    "paikka = r.choice([\"kylää\",\"toimistoa\",\"kapakkaa\",\"keittiötä\",\"satamaa\"])\n",
    "ongelma = r.choice([\"lohikäärme\",\"bugi\",\"työvoimatoimisto\",\"nälkäkiukku\",\"valas\"])\n",
    "\n",
    "print(f\"{nimi} on {kuvaus} {ammatti}, syntynyt vuonna {vuosi}. Eräänä {aika} {nimi} heräsi kovaan meluun: {ongelma} lähestyi {paikka}. Vain {nimi} voisi pelastaa sen asukkaat.\")"
   ]
  }
 ],
 "metadata": {
  "kernelspec": {
   "display_name": "Python 3.10.7 64-bit",
   "language": "python",
   "name": "python3"
  },
  "language_info": {
   "codemirror_mode": {
    "name": "ipython",
    "version": 3
   },
   "file_extension": ".py",
   "mimetype": "text/x-python",
   "name": "python",
   "nbconvert_exporter": "python",
   "pygments_lexer": "ipython3",
   "version": "3.10.7"
  },
  "orig_nbformat": 4,
  "vscode": {
   "interpreter": {
    "hash": "26de051ba29f2982a8de78e945f0abaf191376122a1563185a90213a26c5da77"
   }
  }
 },
 "nbformat": 4,
 "nbformat_minor": 2
}

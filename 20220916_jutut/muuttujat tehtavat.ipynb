{
 "cells": [
  {
   "cell_type": "markdown",
   "metadata": {},
   "source": [
    "# Muuttujat, tulostaminen, laskeminen ja kommentit\n"
   ]
  },
  {
   "cell_type": "markdown",
   "metadata": {},
   "source": [
    "## tulostaminen\n",
    "print()\n",
    "\n",
    "tulostaa tekstin näytölle"
   ]
  },
  {
   "cell_type": "code",
   "execution_count": 10,
   "metadata": {},
   "outputs": [
    {
     "name": "stdout",
     "output_type": "stream",
     "text": [
      "Hello, world!\n"
     ]
    }
   ],
   "source": [
    "\n",
    "print('Hello, world!')"
   ]
  },
  {
   "cell_type": "markdown",
   "metadata": {},
   "source": [
    "Muuttujia on eri tyyppejä:\n",
    "\n",
    "## teksti\n",
    "\n",
    "String \n",
    "\n",
    "tyyppi str eli merkkijono, \"tämä on merkkijono\"\n",
    "\n",
    "## Numerot\n",
    "\n",
    "Integer\n",
    "\n",
    "tyyppi int eli kokonaisluku, 3\n",
    "\n",
    "Float \n",
    "\n",
    "tyyppi float eli desimaaliluku, 2.5\n",
    "\n",
    "## Boolean\n",
    "\n",
    "True/False\n",
    "\n"
   ]
  },
  {
   "cell_type": "markdown",
   "metadata": {},
   "source": [
    "muuttujissa voi käyttää \n",
    "- isoja tai pieniä kirjaimia\n",
    "- numeroita\n",
    "- alaviivaa uusi_merkkijono\n",
    "\n",
    "- ei voi käyttää esim. erikoismerkkejä\n",
    "- ei voi alkaa numerolla\n",
    "\n",
    "isoilla ja pienillä kirjaimilla on ero \n",
    "\n",
    "x = 10\n",
    "\n",
    "X = 10\n",
    "\n",
    "Kannattaa antaa selkeitä nimiä muuttujille, helpottaa jatkossa kun lukee uudelleen koodia."
   ]
  },
  {
   "cell_type": "code",
   "execution_count": 11,
   "metadata": {},
   "outputs": [
    {
     "name": "stdout",
     "output_type": "stream",
     "text": [
      "esimerkki 40 3.7\n",
      "esimerkki403.7\n",
      "esimerkki 40 3.7\n"
     ]
    }
   ],
   "source": [
    "\n",
    "# kannattaa myös kommentoida omaa koodia\n",
    "# kannattaa huomioida värikoodit\n",
    "\n",
    "teksti = \"esimerkki\" # voi käyttää sekä lainausmerkkejä, että hipsuja\n",
    "luku1 = 40\n",
    "luku2 = 3.7\n",
    "\n",
    "print(teksti, luku1, luku2)\n",
    "#print(teksti + luku1 + luku2) #tulee virhe\n",
    "print(teksti + str(luku1) + str(luku2))\n",
    "print(teksti + \" \" + str(luku1) + \" \" + str(luku2)) \n"
   ]
  },
  {
   "cell_type": "code",
   "execution_count": 30,
   "metadata": {},
   "outputs": [
    {
     "data": {
      "text/plain": [
       "str"
      ]
     },
     "execution_count": 30,
     "metadata": {},
     "output_type": "execute_result"
    }
   ],
   "source": [
    "# voit tarkistaa tyypin\n",
    "type(teksti)\n",
    "#print(type(teksti))\n",
    "#print(type(luku1))\n",
    "#print(type(luku2))"
   ]
  },
  {
   "cell_type": "markdown",
   "metadata": {},
   "source": [
    "## tekstin tulostus\n",
    "\n",
    "TEHT.1\n",
    "\n",
    "1) Tallenna muuttujat nimi ja ika. Anna muuttujille haluamasi arvot\n",
    "2) Kirjoita ohjelma, joka tulostaa tekstin: \"Olen `nimi` ja olen `ika` -vuotias\"\n"
   ]
  },
  {
   "cell_type": "code",
   "execution_count": 2,
   "metadata": {},
   "outputs": [
    {
     "name": "stdout",
     "output_type": "stream",
     "text": [
      "Olen Teppo Testaaja ja olen 56 vuotias\n"
     ]
    }
   ],
   "source": [
    "nimi = \"Teppo Testaaja\"\n",
    "ika = 56\n",
    "\n",
    "print(f\"Olen {nimi} ja olen {str(ika)} vuotias\")"
   ]
  },
  {
   "cell_type": "markdown",
   "metadata": {},
   "source": [
    "TEHT. 2\n",
    "\n",
    "1) Tallenna muuttujat vari. Anna muuttujille haluamasi arvo.\n",
    "2) Kirjoita ohjelma, joka tulostaa tekstin: \"Olen `nimi` ja lempivärini on `vari`\"\n"
   ]
  },
  {
   "cell_type": "code",
   "execution_count": 3,
   "metadata": {},
   "outputs": [
    {
     "name": "stdout",
     "output_type": "stream",
     "text": [
      "Olen Teppo Testaaja ja lempivärini on musta\n"
     ]
    }
   ],
   "source": [
    "nimi = \"Teppo Testaaja\"\n",
    "vari = \"musta\"\n",
    "\n",
    "print(f\"Olen {nimi} ja lempivärini on {vari}\")"
   ]
  },
  {
   "cell_type": "markdown",
   "metadata": {},
   "source": [
    "## laskutoimituksia\n",
    "\n",
    "https://en.wikibooks.org/wiki/Python_Programming/Basic_Math\n",
    "\n",
    "TEHT.3\n",
    "\n",
    "1) tee kaksi numeromuuttujaa\n",
    "\n",
    "2) laske ne\n",
    "- yhteen + \n",
    "- vähennys -\n",
    "- kerto *\n",
    "- jako /\n",
    "- kokonaislukujako //\n",
    "- modulo eli jakojäännös %\n",
    "- itseisarvo abs() (molemmat erikseen)\n",
    "- potenssi **"
   ]
  },
  {
   "cell_type": "code",
   "execution_count": 7,
   "metadata": {},
   "outputs": [
    {
     "name": "stdout",
     "output_type": "stream",
     "text": [
      "12 + 42 = 54\n",
      "12 - 42 = -30\n",
      "12 * 42 = 504\n",
      "12 / 42 = 0.2857142857142857\n",
      "12 // 42 = 0\n",
      "12 % 42 = 12\n",
      "Itseisarvo (abs) 12 ja 42 = 12 ja 42\n",
      "12 potenssiin 42 = 2116471057875484488839167999221661362284396544\n"
     ]
    }
   ],
   "source": [
    "num1 = 12\n",
    "num2 = 42\n",
    "\n",
    "print(f\"{num1} + {num2} = {num1+num2}\")\n",
    "print(f\"{num1} - {num2} = {num1-num2}\")\n",
    "print(f\"{num1} * {num2} = {num1*num2}\")\n",
    "print(f\"{num1} / {num2} = {num1/num2}\")\n",
    "print(f\"{num1} // {num2} = {num1//num2}\")\n",
    "print(f\"{num1} % {num2} = {num1%num2}\")\n",
    "print(f\"Itseisarvo (abs) {num1} ja {num2} = {abs(num1)} ja {abs(num2)}\")\n",
    "print(f\"{num1} potenssiin {num2} = {num1**num2}\")"
   ]
  },
  {
   "cell_type": "markdown",
   "metadata": {},
   "source": [
    "TEHT. 4\n",
    " \n",
    "1) Tallenna muuttujat nimi, kuluva_vuosi, syntymavuosi. Anna muuttujalle kuluva_vuosi arvoksi 2022. Anna muille muuttujille haluamasi arvot.\n",
    "2) Tallenna muuttuja ika, joka laskee kuluvan vuoden ja syntymävuoden erotuksen.\n",
    "2) Kirjoita ohjelma, joka tulostaa tekstin: \"Olen `nimi` ja olen `ika` -vuotias\""
   ]
  },
  {
   "cell_type": "code",
   "execution_count": 8,
   "metadata": {},
   "outputs": [
    {
     "name": "stdout",
     "output_type": "stream",
     "text": [
      "Olen Teppo Testaaja ja olen 56-vuotias\n"
     ]
    }
   ],
   "source": [
    "nimi = \"Teppo Testaaja\"\n",
    "synt_vuosi = 1966\n",
    "kuluva_vuosi = 2022\n",
    "\n",
    "ika = kuluva_vuosi-synt_vuosi\n",
    "\n",
    "print(f\"Olen {nimi} ja olen {ika}-vuotias\")"
   ]
  },
  {
   "cell_type": "markdown",
   "metadata": {},
   "source": [
    "TEHT. 5\n",
    "\n",
    "Laske seuraavat laskut Pythonilla ja tulosta niiden vastaus:\n",
    "\n",
    "35135 + 424*987\n",
    "\n",
    "721412/2 +  11²\n",
    "\n",
    "Jakojäännös, kun 3513590 jaetaan luvulla 3"
   ]
  },
  {
   "cell_type": "code",
   "execution_count": 1,
   "metadata": {},
   "outputs": [
    {
     "name": "stdout",
     "output_type": "stream",
     "text": [
      "35135 + 424*987 = 453623\n",
      "721412/2 +  11² = 360827.0\n",
      "Jakojäännös kun 3513590 jaetaan luvulla 3 = 2\n"
     ]
    }
   ],
   "source": [
    "print(f\"35135 + 424*987 = {35135+424*987}\")\n",
    "print(f\"721412/2 +  11² = {721412/2+11**2}\")\n",
    "print(f\"Jakojäännös kun 3513590 jaetaan luvulla 3 = {3513590%3}\")"
   ]
  },
  {
   "cell_type": "markdown",
   "metadata": {},
   "source": [
    "TEHT. 6\n",
    "\n",
    "\n",
    "Mitä seuraavat ohjelmat tulostavat lopuksi? Yritä päätellä vastaus ilman, että suoritat koodia.\n",
    "\n",
    "---\n",
    "\n",
    "a = 5\n",
    "\n",
    "b = 7\n",
    "\n",
    "c = a * b\n",
    "\n",
    "print(c) #tulostaa 35\n",
    "\n",
    "---\n",
    "\n",
    "a = 5\n",
    "\n",
    "a += 7\n",
    "\n",
    "print(a) #tulostaa 12\n",
    "\n",
    "---\n",
    "\n",
    "a = 10\n",
    "\n",
    "b = 2\n",
    "\n",
    "a = a - 5\n",
    "\n",
    "b = 2*b\n",
    "\n",
    "print(a,b) #tulostaa 5 4\n",
    "\n",
    "---\n",
    "\n",
    "a = 1\n",
    "\n",
    "b = 2\n",
    "\n",
    "c = a\n",
    "\n",
    "a = b\n",
    "\n",
    "b = c\n",
    "\n",
    "print(b) #tulostaa 1"
   ]
  },
  {
   "cell_type": "markdown",
   "metadata": {},
   "source": [
    "TEHT. 7 \n",
    "\n",
    "Laske minuutit vuodessa"
   ]
  },
  {
   "cell_type": "code",
   "execution_count": 11,
   "metadata": {},
   "outputs": [
    {
     "name": "stdout",
     "output_type": "stream",
     "text": [
      "Vuodessa on minuutteja: 525600\n"
     ]
    }
   ],
   "source": [
    "#vuodessa on 365 päivää, päivässä 24 tuntia ja tunnissa 60 minuuttia\n",
    "print(f\"Vuodessa on minuutteja: {365*24*60}\")"
   ]
  },
  {
   "cell_type": "markdown",
   "metadata": {},
   "source": [
    "TEHT. 8 Laskutoimituksia\n",
    "\n",
    "x = 27\n",
    "\n",
    "y = 15\n",
    "\n",
    "Täydennä ohjelma siten, että sen tulostus on seuraava:\n",
    "\n",
    "27 + 15 = 42\n",
    "\n",
    "27 - 15 = 12\n",
    "\n",
    "27 * 15 = 405\n",
    "\n",
    "27 / 15 = 1.8\n",
    "\n",
    "Ohjelman tulee toimia siinäkin tapauksessa, että muuttujien arvoa vaihdetaan. Eli jos ensimmäiset rivit muuttuvat muotoon\n",
    "\n",
    "x = 4\n",
    "\n",
    "y = 9\n",
    "\n",
    "4 + 9 = 13\n",
    "\n",
    "4 - 9 = -5\n",
    "\n",
    "4 * 9 = 36\n",
    "\n",
    "4 / 9 = 0.4444444444444444\n",
    "\n"
   ]
  },
  {
   "cell_type": "code",
   "execution_count": 13,
   "metadata": {},
   "outputs": [
    {
     "name": "stdout",
     "output_type": "stream",
     "text": [
      "4 + 9 = 13\n",
      "4 - 9 = -5\n",
      "4 * 9 = 36\n",
      "4 / 9 = 0.4444444444444444\n"
     ]
    }
   ],
   "source": [
    "x = 4\n",
    "y = 9\n",
    "\n",
    "print(f\"{x} + {y} = {x+y}\")\n",
    "print(f\"{x} - {y} = {x-y}\")\n",
    "print(f\"{x} * {y} = {x*y}\")\n",
    "print(f\"{x} / {y} = {x/y}\")"
   ]
  },
  {
   "cell_type": "markdown",
   "metadata": {},
   "source": [
    "TEHT. 9 Tulostukset samalla riville\n",
    "\n",
    "Jos print-komennolle annetaan lisäparametri end = \"\", komento ei tulosta rivinvaihtoa merkkijonon jälkeen.\n",
    "\n",
    "Esimerkiksi:\n",
    "\n",
    "print(\"Moi \", end=\"\")\n",
    "\n",
    "print(\"kaikki!\")\n",
    "\n",
    "Moi kaikki!\n",
    "\n",
    "Korjaa ohjelma niin, että koko lasku tuloksineen tulostetaan yhdelle riville muuttamatta kuitenkaan print-komentojen määrää:\n",
    "\n",
    "print(5)\n",
    "\n",
    "print(\" + \")\n",
    "\n",
    "print(8)\n",
    "\n",
    "print(\" - \")\n",
    "\n",
    "print(4)\n",
    "\n",
    "print(\" = \")\n",
    "\n",
    "print(5 + 8 - 4)"
   ]
  },
  {
   "cell_type": "code",
   "execution_count": 14,
   "metadata": {},
   "outputs": [
    {
     "name": "stdout",
     "output_type": "stream",
     "text": [
      "5 + 8 - 4 = 9"
     ]
    }
   ],
   "source": [
    "print(5, end=\"\")\n",
    "print(\" + \", end=\"\")\n",
    "print(8, end=\"\")\n",
    "print(\" - \", end=\"\")\n",
    "print(4, end=\"\")\n",
    "print(\" = \", end=\"\")\n",
    "print(5 + 8 - 4)"
   ]
  },
  {
   "cell_type": "markdown",
   "metadata": {},
   "source": []
  }
 ],
 "metadata": {
  "kernelspec": {
   "display_name": "Python 3.10.7 64-bit",
   "language": "python",
   "name": "python3"
  },
  "language_info": {
   "codemirror_mode": {
    "name": "ipython",
    "version": 3
   },
   "file_extension": ".py",
   "mimetype": "text/x-python",
   "name": "python",
   "nbconvert_exporter": "python",
   "pygments_lexer": "ipython3",
   "version": "3.10.7"
  },
  "orig_nbformat": 4,
  "vscode": {
   "interpreter": {
    "hash": "26de051ba29f2982a8de78e945f0abaf191376122a1563185a90213a26c5da77"
   }
  }
 },
 "nbformat": 4,
 "nbformat_minor": 2
}

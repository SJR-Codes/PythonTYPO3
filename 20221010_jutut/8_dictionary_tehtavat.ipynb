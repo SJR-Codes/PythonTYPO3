{
 "cells": [
  {
   "cell_type": "markdown",
   "metadata": {},
   "source": [
    "10.10.2022"
   ]
  },
  {
   "cell_type": "markdown",
   "metadata": {},
   "source": [
    "# Dictionary / Sanakirja\n",
    "\n",
    "- pythonin tietorakenne\n",
    "- avain - arvo -parit\n",
    "- tietty avain voi esiintyä vain kerran\n",
    "- avaimia, joilla sama arvo voi olla useita\n",
    "- avaimet ja arvot voivat olla eri tietotyyppiä§\n",
    "\n",
    "esimerkkejä\n",
    "https://www.learnpython.org/en/Dictionaries"
   ]
  },
  {
   "cell_type": "markdown",
   "metadata": {},
   "source": [
    "## tavoitteet\n",
    "\n",
    "- osaa käyttää dictionaryä tiedon tallentamiseen\n",
    "- tunnistaa erilaisia Pythonin tietorakenteita"
   ]
  },
  {
   "cell_type": "code",
   "execution_count": null,
   "metadata": {},
   "outputs": [],
   "source": [
    "# tyhjä sanakirja\n",
    "henkilot5 = {}\n",
    "henkilot5"
   ]
  },
  {
   "cell_type": "code",
   "execution_count": null,
   "metadata": {},
   "outputs": [],
   "source": [
    "# luo uusi sanakirja {}\n",
    "henkilot = {\n",
    "    \"Matti\" : \"25\",\n",
    "    \"maija\" : \"34\",\n",
    "    \"Liisa\" : \"12\"\n",
    "}\n",
    "henkilot"
   ]
  },
  {
   "cell_type": "code",
   "execution_count": null,
   "metadata": {},
   "outputs": [],
   "source": [
    "# luo sanakirja käyttäen dict()\n",
    "henkilot2 = dict({\n",
    "    \"Matti\" : \"25\",\n",
    "    \"maija\" : \"34\",\n",
    "    \"Liisa\" : \"12\"\n",
    "})\n",
    "henkilot2"
   ]
  },
  {
   "cell_type": "code",
   "execution_count": null,
   "metadata": {},
   "outputs": [],
   "source": [
    "# luo sanakirja dict, lista ja tuple\n",
    "henkilot3 = dict([(\"Matti\",\"25\"), (\"Maija\", \"34\"), (\"Liisa\", \"12\")])\n",
    "henkilot3"
   ]
  },
  {
   "cell_type": "code",
   "execution_count": null,
   "metadata": {},
   "outputs": [],
   "source": [
    "# arvo on lista, esim. tässä puhelinnumerot\n",
    "henkilot4 = {\"nimi\": \"Jessa\", \"numerot\":[1178,2563,4569]}\n",
    "henkilot4"
   ]
  },
  {
   "cell_type": "code",
   "execution_count": null,
   "metadata": {},
   "outputs": [],
   "source": [
    "# tulosta arvo hakemalla avaimella\n",
    "print(henkilot4['nimi'])\n",
    "print(henkilot4['numerot'])"
   ]
  },
  {
   "cell_type": "code",
   "execution_count": null,
   "metadata": {},
   "outputs": [],
   "source": [
    "# hae arvot get() ja avain\n",
    "print(henkilot4.get('numerot'))"
   ]
  },
  {
   "cell_type": "code",
   "execution_count": null,
   "metadata": {},
   "outputs": [],
   "source": [
    "# avaimet\n",
    "henkilot2 = dict({\n",
    "    \"Matti\" : \"25\",\n",
    "    \"maija\" : \"34\",\n",
    "    \"Liisa\" : \"12\"\n",
    "})\n",
    "henkilot2.keys()"
   ]
  },
  {
   "cell_type": "code",
   "execution_count": null,
   "metadata": {},
   "outputs": [],
   "source": [
    "# arvot\n",
    "henkilot2.values()"
   ]
  },
  {
   "cell_type": "code",
   "execution_count": null,
   "metadata": {},
   "outputs": [],
   "source": [
    "# sekä avaimet että arvot\n",
    "henkilot2.items()"
   ]
  },
  {
   "cell_type": "code",
   "execution_count": null,
   "metadata": {},
   "outputs": [],
   "source": [
    "# tyypit\n",
    "print(type(henkilot2.keys()))"
   ]
  },
  {
   "cell_type": "code",
   "execution_count": null,
   "metadata": {},
   "outputs": [],
   "source": [
    "# käydään dictionarya läpi, avaimella löytää myös arvon\n",
    "for avain in henkilot2:\n",
    "    print(avain, \":\", henkilot2[avain])"
   ]
  },
  {
   "cell_type": "code",
   "execution_count": null,
   "metadata": {},
   "outputs": [],
   "source": [
    "# for -looppi items()\n",
    "for avain in henkilot2.items():\n",
    "    print(avain[0], avain[1])"
   ]
  },
  {
   "cell_type": "code",
   "execution_count": null,
   "metadata": {},
   "outputs": [],
   "source": [
    "# kuinka monta osumaa len()\n",
    "print(len(henkilot2))"
   ]
  },
  {
   "cell_type": "code",
   "execution_count": null,
   "metadata": {},
   "outputs": [],
   "source": [
    "# lisää alkio, avain hakasulkuihin \n",
    "henkilot2['Pekka'] = 50\n",
    "henkilot2"
   ]
  },
  {
   "cell_type": "code",
   "execution_count": null,
   "metadata": {},
   "outputs": [],
   "source": [
    "# lisää yksi tai useampia alkioita update()\n",
    "\n",
    "henkilot2.update({\"Nelli\": 30, \"Ville\": 25})\n",
    "henkilot2"
   ]
  },
  {
   "cell_type": "code",
   "execution_count": null,
   "metadata": {},
   "outputs": [],
   "source": [
    "# oletus avaimet ja arvot setdefault()\n",
    "henkilot6 = {\"nimi\": \"Jessa\", \"numerot\":[1178,2563,4569]}\n",
    "henkilot6.setdefault('kaupunki', 'helsinki')\n",
    "henkilot6.setdefault('postinumero')\n",
    "# ei muuta mitään, koska puhelinnumerot on olemassa jo\n",
    "henkilot6.setdefault('numerot', '1222')\n",
    "henkilot6"
   ]
  },
  {
   "cell_type": "code",
   "execution_count": null,
   "metadata": {},
   "outputs": [],
   "source": [
    "# muutetaan arvoa tietyllä avaimella\n",
    "henkilot6['kaupunki'] = \"Tampere\"\n",
    "henkilot6"
   ]
  },
  {
   "cell_type": "code",
   "execution_count": null,
   "metadata": {},
   "outputs": [],
   "source": [
    "# muutetaan arvoa update()\n",
    "#henkilot6['postinumero'] = 12345\n",
    "henkilot6.update({'postinumero': 12346})\n",
    "henkilot6"
   ]
  },
  {
   "cell_type": "code",
   "execution_count": null,
   "metadata": {},
   "outputs": [],
   "source": [
    "#tyhjentää dictionaryn\n",
    "henkilot6.clear()\n",
    "henkilot6"
   ]
  },
  {
   "cell_type": "code",
   "execution_count": null,
   "metadata": {},
   "outputs": [],
   "source": [
    "# poistaa yhden avaimen\n",
    "henkilot6 = {'nimi': 'Jessa',\n",
    " 'numerot': [1178, 2563, 4569],\n",
    " 'kaupunki': 'Tampere',\n",
    " 'postinumero': '12324'}\n",
    "\n",
    "del henkilot6['kaupunki']\n",
    "\n",
    "henkilot6"
   ]
  },
  {
   "cell_type": "code",
   "execution_count": null,
   "metadata": {},
   "outputs": [],
   "source": [
    "#poistaa koko sanakirjan\n",
    "\n",
    "henkilot6 = {'nimi': 'Jessa',\n",
    " 'numerot': [1178, 2563, 4569],\n",
    " 'kaupunki': 'Tampere',\n",
    " 'postinumero': '12324'}\n",
    "\n",
    "henkilot6\n",
    "\n",
    "del henkilot6\n",
    "\n",
    "# NameError koska koko dictioarya ei enää ole\n",
    "henkilot6"
   ]
  },
  {
   "cell_type": "code",
   "execution_count": null,
   "metadata": {},
   "outputs": [],
   "source": [
    "#poistaa viimeksi lisätyn avain-arvo parin\n",
    "\n",
    "henkilot6 = {'nimi': 'Jessa',\n",
    " 'numerot': [1178, 2563, 4569],\n",
    " 'kaupunki': 'Tampere',\n",
    " 'postinumero': '12324'}\n",
    " \n",
    "henkilot6.popitem()\n",
    "henkilot6"
   ]
  },
  {
   "cell_type": "code",
   "execution_count": null,
   "metadata": {},
   "outputs": [],
   "source": [
    "# poistaa avaimen perusteella\n",
    "henkilot6 = {'nimi': 'Jessa',\n",
    " 'numerot': [1178, 2563, 4569],\n",
    " 'kaupunki': 'Tampere',\n",
    " 'postinumero': '12324'}\n",
    "\n",
    "henkilot6.pop('kaupunki')\n",
    "henkilot6"
   ]
  },
  {
   "cell_type": "code",
   "execution_count": null,
   "metadata": {},
   "outputs": [],
   "source": [
    "# poista annetuilla avaimilla edellisestä dictionarysta\n",
    "\n",
    "print(henkilot6)\n",
    "\n",
    "avaimet = [\"nimi\", \"numerot\"]\n",
    "\n",
    "for a in avaimet:\n",
    "    henkilot6.pop(a)\n",
    "\n",
    "print(henkilot6)"
   ]
  },
  {
   "cell_type": "code",
   "execution_count": null,
   "metadata": {},
   "outputs": [],
   "source": [
    "# anna avaimelle uusi arvo kaupunki -> kunta\n",
    "\n",
    "henkilo = {\n",
    "  \"nimi\": \"Liisa\",\n",
    "  \"ika\":25,\n",
    "  \"palkka\": 8000,\n",
    "  \"kaupunki\": \"Helsinki\"\n",
    "}\n",
    "\n",
    "print(henkilo)\n",
    "\n",
    "# {'nimi': 'Liisa', 'ika': 25, 'palkka': 8000, 'kunta': 'Helsinki'}\n",
    "\n",
    "henkilo['kunta'] = henkilo.pop('kaupunki')\n",
    "print(henkilo)"
   ]
  },
  {
   "cell_type": "code",
   "execution_count": 1,
   "metadata": {},
   "outputs": [
    {
     "name": "stdout",
     "output_type": "stream",
     "text": [
      "avainta ei löydy\n"
     ]
    }
   ],
   "source": [
    "# hakee avaimen perusteella keys()\n",
    "\n",
    "henkilot6 = {'nimi': 'Jessa',\n",
    " 'numerot': [1178, 2563, 4569],\n",
    " 'kaupunki': 'Tampere',\n",
    " 'postinumero': 12324}\n",
    "\n",
    "henkilot6\n",
    "\n",
    "avain = 'ika'\n",
    "if avain in henkilot6.keys():\n",
    "    print('nimi löytyy', henkilot6[avain])\n",
    "else:\n",
    "    print('avainta ei löydy')\n"
   ]
  },
  {
   "cell_type": "code",
   "execution_count": null,
   "metadata": {},
   "outputs": [],
   "source": [
    "# tarkista löytyykö arvo ja tulosta se, esim postinumero 12324 \n",
    "\n",
    "# mieti miten voisi hakea Tamperetta tai vaikka puhelinnumeroa\n",
    "\n",
    "if 12324 in henkilot6.values():\n",
    "    print(f' {12324} löytyi')"
   ]
  },
  {
   "cell_type": "code",
   "execution_count": 2,
   "metadata": {},
   "outputs": [
    {
     "name": "stdout",
     "output_type": "stream",
     "text": [
      "Tampesteri löytyi\n"
     ]
    }
   ],
   "source": [
    "henkilot6 = {'nimi': 'Jessa',\n",
    " 'numerot': [1178, 2563, 4569],\n",
    " 'kaupunki': 'Tampere',\n",
    " 'postinumero': 12324}\n",
    "\n",
    "if 'Tampere' in henkilot6.values():\n",
    "    print(\"Tampesteri löytyi\")"
   ]
  },
  {
   "cell_type": "code",
   "execution_count": null,
   "metadata": {},
   "outputs": [],
   "source": [
    "# Lisätään toinen dictionary, huom eri avaimet, lisää loppuun\n",
    "henkilot7 = {\n",
    "    'paino' : 60,\n",
    "    'pituus': 160\n",
    "}\n",
    "\n",
    "henkilot6.update(henkilot7)\n",
    "\n",
    "henkilot6"
   ]
  },
  {
   "cell_type": "code",
   "execution_count": null,
   "metadata": {},
   "outputs": [],
   "source": [
    "# muokataan arvoja uuden dictionaryn avulla\n",
    "henkilot7 = {\n",
    "    'paino' : 70,\n",
    "    'pituus': 150\n",
    "}\n",
    "\n",
    "henkilot6.update(henkilot7)\n",
    "\n",
    "henkilot6\n"
   ]
  },
  {
   "cell_type": "code",
   "execution_count": null,
   "metadata": {},
   "outputs": [],
   "source": [
    "# lisätään osoite\n",
    "henkilot6.update({'osoite': 'osoite'})\n",
    "henkilot6"
   ]
  },
  {
   "cell_type": "code",
   "execution_count": null,
   "metadata": {},
   "outputs": [],
   "source": [
    "# lisätään osoitteelle tiedot, dictionary dictionaryn sisään\n",
    "osoitteenmuutos= {\"katu\": \"valimotie\", \"talonnumero\": \"13\"}\n",
    "\n",
    "henkilot6['osoite'] = osoitteenmuutos\n",
    "\n",
    "henkilot6"
   ]
  },
  {
   "cell_type": "code",
   "execution_count": null,
   "metadata": {},
   "outputs": [],
   "source": [
    "# käy läpi sisällä olevan dictionaryn\n",
    "print(henkilot6)\n",
    "\n",
    "print('\\n    Henkilön tiedot:')\n",
    "for avain, arvo in henkilot6.items():\n",
    "    if avain == \"osoite\":\n",
    "        print('\\n   Henkilön osoite:')\n",
    "        for sisa_avain, sisa_arvo in arvo.items():  # toimii ainakin, kun vain yhdellä avaimella on dictionary-arvo\n",
    "            print(sisa_avain, ':', sisa_arvo)\n",
    "    else:\n",
    "        print(avain, \":\", arvo)"
   ]
  },
  {
   "cell_type": "code",
   "execution_count": 3,
   "metadata": {},
   "outputs": [
    {
     "name": "stdout",
     "output_type": "stream",
     "text": [
      "dict_keys(['nimi', 'numerot', 'kaupunki', 'postinumero'])\n",
      "\n",
      "['kaupunki', 'nimi', 'numerot', 'postinumero']\n",
      "\n",
      "[('kaupunki', 'Tampere'), ('nimi', 'Jessa'), ('numerot', [1178, 2563, 4569]), ('postinumero', 12324)]\n"
     ]
    }
   ],
   "source": [
    "# järjestää avaimen mukaan aakkosjärjestykseen sorted()\n",
    "\n",
    "print(henkilot6.keys())\n",
    "print()\n",
    "\n",
    "print(sorted(henkilot6.keys()))\n",
    "print()\n",
    "\n",
    "print(sorted(henkilot6.items()))"
   ]
  },
  {
   "cell_type": "code",
   "execution_count": 25,
   "metadata": {},
   "outputs": [
    {
     "name": "stdout",
     "output_type": "stream",
     "text": [
      "[12, 12, 25, 34]\n"
     ]
    }
   ],
   "source": [
    "# järjestää arvon mukaan\n",
    "henkilot = {\n",
    "    \"Liisa\" : 25,\n",
    "    \"maija\" : 34,\n",
    "    \"Ville\" : 12,\n",
    "    \"Ernesti\" : 12\n",
    "}\n",
    "\n",
    "print(sorted(henkilot.values()))"
   ]
  },
  {
   "cell_type": "code",
   "execution_count": 22,
   "metadata": {},
   "outputs": [
    {
     "name": "stdout",
     "output_type": "stream",
     "text": [
      "[1, 3, 5, 2, 8]\n",
      "{2: 4, 8: 16}\n"
     ]
    }
   ],
   "source": [
    "#comprehension {} myös dictionary\n",
    "numbers = [1, 3, 5, 2, 8]\n",
    "print(numbers)\n",
    "kerrotut = {x: x * 2 for x in numbers if x % 2 == 0} # kertoo kahdella jos luku on parillinen\n",
    "print(kerrotut)"
   ]
  },
  {
   "cell_type": "code",
   "execution_count": 26,
   "metadata": {},
   "outputs": [
    {
     "name": "stdout",
     "output_type": "stream",
     "text": [
      "{'Liisa': 25, 'maija': 34, 'Ville': 12, 'Ernesti': 12}\n",
      "maija\n",
      "Ernesti\n",
      "Ville\n"
     ]
    }
   ],
   "source": [
    "# min(), max() arvot -> tulostaa avaimen\n",
    "print(henkilot)\n",
    "print(max(henkilot))\n",
    "print(min(henkilot))\n",
    "print(min(henkilot, key=henkilot.get))  # muuten palauttaa avaimen mukaan\n",
    "\n"
   ]
  },
  {
   "cell_type": "markdown",
   "metadata": {},
   "source": [
    "TEHT.\n",
    "\n",
    "tee kahdesta listasta dictionary\n",
    "\n",
    "        avaimet = ['Kymmenen', 'kaksikymmentä', 'kolmekymmentä']\n",
    "        arvot = [10, 20, 30]\n",
    "\n",
    "esimerkkitulostus:\n",
    "\n",
    "{'Kymmenen': 10, 'kaksikymmentä': 20, 'kolmekymmentä': 30}"
   ]
  },
  {
   "cell_type": "code",
   "execution_count": 16,
   "metadata": {},
   "outputs": [
    {
     "name": "stdout",
     "output_type": "stream",
     "text": [
      "{'Kymmenen': 10, 'kaksikymmentä': 20, 'kolmekymmentä': 30}\n",
      "List comprehension:\n",
      "{'Kymmenen': 10, 'kaksikymmentä': 20, 'kolmekymmentä': 30}\n",
      "Most pythonic way (zip()): \n",
      "{'Kymmenen': 10, 'kaksikymmentä': 20, 'kolmekymmentä': 30}\n"
     ]
    }
   ],
   "source": [
    "avaimet = ['Kymmenen', 'kaksikymmentä', 'kolmekymmentä']\n",
    "arvot = [10, 20, 30]\n",
    "#thisdict = dict.fromkeys(avaimet, arvot)\n",
    "#thisdict = dict.fromkeys(avaimet, 0)\n",
    "thisdict = {}\n",
    "for i, avain in enumerate(avaimet):\n",
    "    thisdict.update({avain:arvot[i]})\n",
    "print(thisdict)\n",
    "\n",
    "# using dictionary comprehension\n",
    "# to convert lists to dictionary\n",
    "print(\"List comprehension:\")\n",
    "thisdict2 = {avaimet[i]: arvot[i] for i in range(len(avaimet))}\n",
    "print(thisdict2)\n",
    "\n",
    "#most pythonic way...\n",
    "#using zip to convert lists to dictionary\n",
    "print(\"Most pythonic way (zip()): \")\n",
    "thisdict3 = dict(zip(avaimet, arvot))\n",
    "print(thisdict3)\n"
   ]
  },
  {
   "cell_type": "code",
   "execution_count": 12,
   "metadata": {},
   "outputs": [
    {
     "name": "stdout",
     "output_type": "stream",
     "text": [
      "{'Kelly': {'ammatti': 'opettaja', 'palkka': 3000}, 'Emma': {'ammatti': 'opettaja', 'palkka': 3000}}\n",
      "{'ammatti': 'opettaja', 'palkka': 3000}\n"
     ]
    }
   ],
   "source": [
    "# default arvo fromkeys()\n",
    "\n",
    "henkilot = ['Kelly', 'Emma']\n",
    "oletusarvot = {\"ammatti\": 'opettaja', \"palkka\": 3000}\n",
    "\n",
    "uusi_sanakirja3 = dict.fromkeys(henkilot, oletusarvot)\n",
    "print(uusi_sanakirja3)\n",
    "\n",
    "print(uusi_sanakirja3['Emma'])"
   ]
  },
  {
   "cell_type": "code",
   "execution_count": null,
   "metadata": {},
   "outputs": [],
   "source": [
    "# uusi dictionary 'osoite' annetuista arvoista, muut jätetään pois\n",
    "\n",
    "henkilo = {'nimi': 'Jessa',\n",
    " 'numerot': [1178, 2563, 4569],\n",
    " 'kaupunki': 'Tampere',\n",
    " 'postinumero': '12324'}\n",
    "\n",
    "osoite= [\"postinumero\", \"kaupunki\"]\n",
    "\n",
    "uusi_sanakirja4 = {a: henkilo[a] for a in osoite}\n",
    "print(uusi_sanakirja4)\n"
   ]
  },
  {
   "cell_type": "markdown",
   "metadata": {},
   "source": [
    "Teht. \n",
    "\n",
    "tee kahdesta listasta dictionary\n",
    "\n",
    "avaimet = ['Kymmenen', 'kaksikymmentä', 'kolmekymmentä']\n",
    "\n",
    "arvot = [10, 20, 30]"
   ]
  },
  {
   "cell_type": "code",
   "execution_count": null,
   "metadata": {},
   "outputs": [],
   "source": [
    "# teht. \n",
    "\n"
   ]
  },
  {
   "cell_type": "markdown",
   "metadata": {},
   "source": [
    "Teht.\n",
    "\n",
    "millä avaimella on pienin arvo?\n",
    "\n",
    "    arvosanat = {\n",
    "        'kuvataide': 82,\n",
    "        'matematiikka': 65,\n",
    "        'historia': 75\n",
    "    }"
   ]
  },
  {
   "cell_type": "code",
   "execution_count": 36,
   "metadata": {},
   "outputs": [
    {
     "name": "stdout",
     "output_type": "stream",
     "text": [
      "Pienin arvosana:  matematiikka\n",
      "Pienin arvosana:  {'kotitalous', 'matematiikka'}\n",
      "Korkein arvosana:  {'kuvataide'}\n"
     ]
    }
   ],
   "source": [
    "arvosanat = {\n",
    "        'kuvataide': 82,\n",
    "        'matematiikka': 65,\n",
    "        'historia': 75,\n",
    "        'kotitalous': 65,\n",
    "    }\n",
    "#palauttaa ensimmäisen pienimmän\n",
    "#min():lle kerrotaan että käytetään arvosanaa järjestykseen dictionaryn .get-metodilla\n",
    "#.get palauttaa siis sanakirjan arvot\n",
    "val = min(arvosanat, key=arvosanat.get)\n",
    "print(\"Pienin arvosana: \", val)\n",
    "\n",
    "#palauttaa pienimmät\n",
    "val = {i for i in arvosanat if arvosanat[i] == min(arvosanat.values())}\n",
    "print(\"Pienin arvosana: \", val)\n",
    "\n",
    "#palauttaa suurimmat\n",
    "val = {i for i in arvosanat if arvosanat[i] == max(arvosanat.values())}\n",
    "print(\"Korkein arvosana: \", val)\n",
    "\n"
   ]
  },
  {
   "cell_type": "markdown",
   "metadata": {},
   "source": [
    "Teht.\n",
    "\n",
    "muuta arvoa, palkka tt3 palkka 500 -> 8500\n",
    "\n",
    "        tyontekijat = {\n",
    "            'tt1': {'nimi': 'Jussi', 'palkka': 7500},\n",
    "            'tt2': {'nimi': 'Emma', 'palkka': 8000},\n",
    "            'tt3': {'nimi': 'Bruno', 'palkka': 500}\n",
    "        }\n",
    "\n"
   ]
  },
  {
   "cell_type": "code",
   "execution_count": 31,
   "metadata": {},
   "outputs": [
    {
     "name": "stdout",
     "output_type": "stream",
     "text": [
      "{'tt1': {'nimi': 'Jussi', 'palkka': 7500}, 'tt2': {'nimi': 'Emma', 'palkka': 8000}, 'tt3': {'nimi': 'Bruno', 'palkka': 500}}\n",
      "\n",
      "{'tt1': {'nimi': 'Jussi', 'palkka': 7500}, 'tt2': {'nimi': 'Emma', 'palkka': 8000}, 'tt3': {'nimi': 'Bruno', 'palkka': 8500}}\n"
     ]
    }
   ],
   "source": [
    "tyontekijat = {\n",
    "    'tt1': {'nimi': 'Jussi', 'palkka': 7500},\n",
    "    'tt2': {'nimi': 'Emma', 'palkka': 8000},\n",
    "    'tt3': {'nimi': 'Bruno', 'palkka': 500}\n",
    "}\n",
    "\n",
    "print(tyontekijat)\n",
    "print()\n",
    "tyontekijat['tt3'].update({'palkka': 8500})\n",
    "print(tyontekijat)\n"
   ]
  },
  {
   "cell_type": "code",
   "execution_count": null,
   "metadata": {},
   "outputs": [],
   "source": [
    "#https://ohjelmointi-22.mooc.fi/osa-5/3-dictionary Puhelinluettelo versiot 1 j 2\n",
    "# nimi, numero\n",
    "# versio 1) tee puhelinluettelo, jossa uusi numero olemassaolevalle henkilölle korvaa numeron \n",
    "# versio 2) tee puhelinluettelo, jossa uusi numero olemassaolevalle henkilölle lisätään henkilölle (voi olla 2 tai useampia numeroita) \n",
    "# * extra: versio 3) poista luettelossa oleva numero"
   ]
  },
  {
   "cell_type": "markdown",
   "metadata": {},
   "source": [
    "teht. Puhelinluettelo, versio 1 /MOOC\n",
    "\n",
    "Tee puhelinluettelo, joka toimii seuraavasti:\n",
    "\n",
    "Esimerkkitulostus\n",
    "\n",
    "komento (1 hae, 2 lisää, 3 lopeta): 2\n",
    "\n",
    "nimi: pekka\n",
    "\n",
    "\n",
    "numero: 040-5466745\n",
    "ok!\n",
    "\n",
    "komento (1 hae, 2 lisää, 3 lopeta): 2\n",
    "\n",
    "nimi: emilia\n",
    "\n",
    "numero: 045-1212344\n",
    "\n",
    "ok!\n",
    "\n",
    "komento (1 hae, 2 lisää, 3 lopeta): 1\n",
    "\n",
    "nimi: pekka\n",
    "\n",
    "040-5466745\n",
    "\n",
    "komento (1 hae, 2 lisää, 3 lopeta): 1\n",
    "\n",
    "nimi: maija\n",
    "\n",
    "ei numeroa\n",
    "\n",
    "komento (1 hae, 2 lisää, 3 lopeta): 2\n",
    "\n",
    "nimi: pekka\n",
    "\n",
    "numero: 09-22223333\n",
    "\n",
    "ok!\n",
    "\n",
    "komento (1 hae, 2 lisää, 3 lopeta): 1\n",
    "\n",
    "nimi: pekka\n",
    "\n",
    "09-22223333\n",
    "\n",
    "komento (1 hae, 2 lisää, 3 lopeta): 3\n",
    "\n",
    "lopetetaan...\n",
    "\n",
    "Huomaa, että jokaiseen nimeen voi liittyä vain yksi puhelinnumero. Jos samalle henkilölle lisätään uusi numero, se korvaa aiemmin lisätyn numeron.\n",
    "\n",
    "Huom: tässä tehtävässä (eikä missään muussakaan tehtävissä missä ei erikseen pyydetä funktioiden toteuttamista) mitään koodia ei tule sijoittaa if __name__ == \"__main__\"-lohkoon!"
   ]
  },
  {
   "cell_type": "code",
   "execution_count": null,
   "metadata": {},
   "outputs": [],
   "source": [
    "# teht."
   ]
  },
  {
   "cell_type": "markdown",
   "metadata": {},
   "source": [
    "Puhelinluettelo, versio 2 / MOOC\n",
    "\n",
    "Tee puhelinluettelosta paranneltu versio, missä jokaisella henkilöllä voi olla useampia puhelinnumeroita.  Ohjelma toimii kuten edellisessä tehtävässä, mutta nyt se listaa jokaisen numeron:\n",
    "\n",
    "Esimerkkitulostus\n",
    "\n",
    "komento (1 hae, 2 lisää, 3 lopeta): 2\n",
    "\n",
    "nimi: pekka\n",
    "\n",
    "numero: 040-5466745\n",
    "\n",
    "ok!\n",
    "\n",
    "komento (1 hae, 2 lisää, 3 lopeta): 2\n",
    "\n",
    "nimi: emilia\n",
    "\n",
    "numero: 045-1212344\n",
    "\n",
    "ok!\n",
    "\n",
    "komento (1 hae, 2 lisää, 3 lopeta): 1\n",
    "\n",
    "nimi: pekka\n",
    "\n",
    "040-5466745\n",
    "\n",
    "komento (1 hae, 2 lisää, 3 lopeta): 1\n",
    "\n",
    "nimi: maija\n",
    "\n",
    "ei numeroa\n",
    "\n",
    "komento (1 hae, 2 lisää, 3 lopeta): 2\n",
    "\n",
    "nimi: pekka\n",
    "\n",
    "numero: 09-22223333\n",
    "\n",
    "ok!\n",
    "\n",
    "komento (1 hae, 2 lisää, 3 lopeta): 1\n",
    "\n",
    "nimi: pekka\n",
    "\n",
    "040-5466745\n",
    "\n",
    "09-22223333\n",
    "\n",
    "komento (1 hae, 2 lisää, 3 lopeta): 3\n",
    "\n",
    "lopetetaan..."
   ]
  },
  {
   "cell_type": "code",
   "execution_count": null,
   "metadata": {},
   "outputs": [],
   "source": []
  },
  {
   "cell_type": "markdown",
   "metadata": {},
   "source": [
    "Puhelinluettelon extraversio: poista henkilo"
   ]
  },
  {
   "cell_type": "code",
   "execution_count": null,
   "metadata": {},
   "outputs": [],
   "source": []
  },
  {
   "cell_type": "markdown",
   "metadata": {},
   "source": [
    "Elokuvarekisteri / MOOC\n",
    "\n",
    "Kirjoita funktio lisaa_elokuva(rekisteri: list, nimi: str, ohjaaja: str, vuosi: int, pituus: int), joka lisää yhden elokuvaolion elokuvarekisteriin.\n",
    "\n",
    "Rekisteri on toteutettu listana, ja jokainen listan alkio on yksi sanakirja. Sanakirjassa on seuraavat avaimet:\n",
    "\n",
    "        nimi\n",
    "        ohjaaja\n",
    "        vuosi\n",
    "        pituus\n",
    "        Arvot tulevat metodin parametreina.\n",
    "\n",
    "Esimerkki:\n",
    "\n",
    "rekisteri = []\n",
    "\n",
    "lisaa_elokuva(rekisteri, \"Pythonin viemää\", \"Pekka Python\", 2017, 116)\n",
    "\n",
    "lisaa_elokuva(rekisteri, \"Python lentokoneessa\", \"Renny Pytholin\", 2001, 94)\n",
    "\n",
    "print(rekisteri)\n",
    "\n",
    "Esimerkkitulostus\n",
    "\n",
    "[{\"nimi\": \"Pythonin viemää\", \"ohjaaja\": \"Pekka Python\", \"vuosi\": 2017, \"pituus\": 116}, {\"nimi\": \"Python lentokoneessa\", \"ohjaaja\": \"Renny Pytholin\", \"vuosi\": 2001, \"pituus\": 94}]"
   ]
  },
  {
   "cell_type": "code",
   "execution_count": null,
   "metadata": {},
   "outputs": [],
   "source": []
  },
  {
   "cell_type": "markdown",
   "metadata": {},
   "source": [
    "Etsi elokuvat / MOOC \n",
    "\n",
    "Kirjoita funktio etsi_elokuvat(rekisteri: list, hakusana: str), joka käsittelee edellisessä tehtävässä luotua elokuvarekisteriä. Funktio muodostaa uuden listan, jolle kopioidaan rekisteristä ne elokuvat, joiden nimestä löytyy hakusana. Pienet ja isot kirjaimet eivät merkitse haussa, joten hakusanalla paj pitää löytyä sekä elokuva Tappajahai että elokuva Pajatoiminnan historia.\n",
    "\n",
    "Esimerkki:\n",
    "\n",
    "rekisteri = [{\"nimi\": \"Pythonin viemää\", \"ohjaaja\": \"Pekka Python\", \"vuosi\": 2017, \"pituus\": 116},\n",
    "{\"nimi\": \"Python lentokoneessa\", \"ohjaaja\": \"Renny Pythonen\", \"vuosi\": 2001, \"pituus\": 94},\n",
    "{\"nimi\": \"Koodaajien yö\", \"ohjaaja\": \"M. Night Python\", \"vuosi\": 2011, \"pituus\": 101}]\n",
    "\n",
    "lista = etsi_elokuvat(rekisteri, \"python\")\n",
    "\n",
    "print(lista)\n",
    "\n",
    "Esimerkkitulostus\n",
    "\n",
    "[{\"nimi\": \"Pythonin viemää\", \"ohjaaja\": \"Pekka Python\", \"vuosi\": 2017, \"pituus\": 116}, {\"nimi\": \"Python lentokoneess"
   ]
  },
  {
   "cell_type": "code",
   "execution_count": null,
   "metadata": {},
   "outputs": [],
   "source": []
  },
  {
   "cell_type": "code",
   "execution_count": null,
   "metadata": {},
   "outputs": [],
   "source": [
    "#jos haluat harjoitella practice python\n",
    "# https://www.practicepython.org/exercise/2017/01/24/33-birthday-dictionaries.html"
   ]
  }
 ],
 "metadata": {
  "kernelspec": {
   "display_name": "Python 3.9.5 64-bit",
   "language": "python",
   "name": "python3"
  },
  "language_info": {
   "codemirror_mode": {
    "name": "ipython",
    "version": 3
   },
   "file_extension": ".py",
   "mimetype": "text/x-python",
   "name": "python",
   "nbconvert_exporter": "python",
   "pygments_lexer": "ipython3",
   "version": "3.9.5"
  },
  "orig_nbformat": 4,
  "vscode": {
   "interpreter": {
    "hash": "36cf16204b8548560b1c020c4e8fb5b57f0e4c58016f52f2d4be01e192833930"
   }
  }
 },
 "nbformat": 4,
 "nbformat_minor": 2
}

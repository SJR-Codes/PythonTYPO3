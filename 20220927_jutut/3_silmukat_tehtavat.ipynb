{
 "cells": [
  {
   "cell_type": "markdown",
   "metadata": {},
   "source": [
    "28.9.2022"
   ]
  },
  {
   "cell_type": "markdown",
   "metadata": {},
   "source": [
    "# tavoitteet\n",
    "- osaa käyttää eri toistorakenteita \n",
    "- tietää miten toisto voidaan pysäyttää tai ohjata takaisin alkuun\n",
    "- osaa käyttää ehtorakenteita silmukassa\n",
    "- osaa käyttää for-silmukkaa listojen ja merkkijonojen läpikäyntiin\n"
   ]
  },
  {
   "cell_type": "markdown",
   "metadata": {},
   "source": [
    "### Sanoja, joita ei saa käyttää, pythonin avainsanoja\n",
    "\n",
    "ei saa käyttää kuin niille varattuun tarkoitukseen\n",
    "\n",
    "https://docs.python.org/2.5/ref/keywords.html"
   ]
  },
  {
   "cell_type": "markdown",
   "metadata": {},
   "source": [
    "# Silmukat\n",
    "\n",
    "\n",
    "https://docs.python.org/3/tutorial/controlflow.html#\n",
    "\n",
    "- while\n",
    "- for - in\n",
    "- range()\n",
    "- list comprehension\n",
    "- debuggaus\n",
    "\n",
    "https://www.youtube.com/watch?v=oWjiJIoG3nQ\n",
    "\n",
    "https://www.slideshare.net/alvin567/lecture-1-computing-and-algorithms\n",
    "\n",
    "\n",
    "\n"
   ]
  },
  {
   "cell_type": "markdown",
   "metadata": {},
   "source": [
    "# While\n",
    "\n",
    "- samaa koodia voidaan toistaa useita kertoja\n",
    "- voi jäädä loputtomaan looppiin\n",
    "- ehtoa toistetaan niin kauan kuin ehto on totta (TRUE).\n",
    "- kun ehto ei ole enää totta, jatketaan koodin suorittamista while-lohkon jälkeen"
   ]
  },
  {
   "cell_type": "code",
   "execution_count": 2,
   "metadata": {},
   "outputs": [
    {
     "name": "stdout",
     "output_type": "stream",
     "text": [
      "Kierros 0\n",
      "Kierros 1\n",
      "Kierros 2\n",
      "Kierros 3\n",
      "Kierros 4\n",
      "Kierros 5\n",
      "Kierros 6\n",
      "Kierros 7\n",
      "Kierros 8\n",
      "Kierros 9\n"
     ]
    }
   ],
   "source": [
    "# ESIMERKKI, ehdossa käytetty muuttuja pitää olla alustettuna silmukan ulkopuolella\n",
    "\n",
    "i = 0\n",
    "\n",
    "while i < 10:\n",
    "    print(\"Kierros\", i) \n",
    "    i += 1"
   ]
  },
  {
   "cell_type": "markdown",
   "metadata": {},
   "source": [
    "While-silmukan kanssa voi käyttää kahta lausetta:\n",
    "\n",
    "- continue: \n",
    "\n",
    "jos halutaan jatkaa välittömästi seuraavalle kierrokselle. Muuten lohko pitää käydä loppuun."
   ]
  },
  {
   "cell_type": "code",
   "execution_count": null,
   "metadata": {},
   "outputs": [],
   "source": [
    "# ESIMERKKI\n",
    "i = 0                         # muuttujan alustus\n",
    "\n",
    "while i < 10:                 #ehto\n",
    "   i += 1                     # muuttujan muutos vie lähemmäs silmukan loppumista\n",
    "   if i % 2 == 0:             # toinen ehto: jos parillinen, hyppää alkuun\n",
    "    continue\n",
    "   print(\"Kierros\", i)"
   ]
  },
  {
   "cell_type": "markdown",
   "metadata": {},
   "source": [
    "- break:\n",
    "\n",
    "kun silmukasta pitää poistua"
   ]
  },
  {
   "cell_type": "code",
   "execution_count": null,
   "metadata": {},
   "outputs": [],
   "source": [
    "# ESIMERKKI\n",
    "\n",
    "i = 0\n",
    "\n",
    "while i < 10:\n",
    "   i += 1\n",
    "   if i == 5:\n",
    "    break\n",
    "   print(\"Kierros\", i) # viides i ei ehdi tulostukseen"
   ]
  },
  {
   "cell_type": "code",
   "execution_count": null,
   "metadata": {},
   "outputs": [],
   "source": [
    "# ESIMERKKI\n",
    "\n",
    "while True:\n",
    "    luku = int(input(\"Anna luku, -1 lopettaa: \"))\n",
    "    if luku == -1:\n",
    "        break                   # koodin suoritus loppuu tässä lohkossa, laskutoimitusta ei enää suoriteta\n",
    "\n",
    "    print(luku ** 2)\n",
    "\n",
    "print(\"Vika tulostus\")"
   ]
  },
  {
   "cell_type": "code",
   "execution_count": null,
   "metadata": {},
   "outputs": [],
   "source": [
    "# ESIMERKKI\n",
    "\n",
    "# apumuuttuja\n",
    "maara = 0\n",
    "\n",
    "while True:\n",
    "    luku = int(input(\"Anna luku, -1 lopettaa: \"))\n",
    "    if luku == -1:\n",
    "        break\n",
    "    maara += 1\n",
    "    print(luku ** 2)\n",
    "\n",
    "print(\"laskutoimituksia\", maara )\n",
    "print(\"Ohjelma on päättynyt\")"
   ]
  },
  {
   "cell_type": "markdown",
   "metadata": {},
   "source": [
    "TEHT. Luvut / MOOC\n",
    "\n",
    "Tee ohjelma, joka tulostaa kaikki käyttäjän antamaa lukua pienemmät luvut alkaen luvusta yksi.\n",
    "\n",
    "Mihin asti: 5\n",
    "\n",
    "1\n",
    "\n",
    "2\n",
    "\n",
    "3\n",
    "\n",
    "4"
   ]
  },
  {
   "cell_type": "code",
   "execution_count": 6,
   "metadata": {},
   "outputs": [
    {
     "name": "stdout",
     "output_type": "stream",
     "text": [
      "1\n",
      "2\n",
      "3\n",
      "4\n"
     ]
    }
   ],
   "source": [
    "raja = int(input(\"Mihin asti: \"))\n",
    "i = 1\n",
    "while i < raja:\n",
    "    print(i)\n",
    "    i += 1"
   ]
  },
  {
   "cell_type": "markdown",
   "metadata": {},
   "source": [
    "TEHT. PIN ja yritysten määrä /MOOC\n",
    "\n",
    "Tee sovellus, joka kysyy käyttäjältä PIN-koodia niin kauan, kunnes käyttäjä antaa oikean PIN-koodin 4321. Ohjelma kertoo yritysten lukumäärän:\n",
    "\n",
    "Esimerkkitulostus\n",
    "PIN-koodi: 3245\n",
    "\n",
    "Väärin\n",
    "\n",
    "PIN-koodi: 1234\n",
    "\n",
    "Väärin\n",
    "\n",
    "PIN-koodi: 0000\n",
    "\n",
    "Väärin\n",
    "\n",
    "PIN-koodi: 4321\n",
    "\n",
    "Oikein, tarvitsit 4 yritystä\n",
    "\n",
    "\n",
    "Tulostus on hieman erilainen jos PIN-koodi on oikea heti ensimmäisellä yrityksellä:\n",
    "\n",
    "\n",
    "PIN-koodi: 4321\n",
    "\n",
    "Oikein, tarvitsit vain yhden yrityksen!"
   ]
  },
  {
   "cell_type": "code",
   "execution_count": 8,
   "metadata": {},
   "outputs": [
    {
     "name": "stdout",
     "output_type": "stream",
     "text": [
      "Väärin\n",
      "Väärin\n",
      "Oikein, tarvitsit 3 yritystä\n"
     ]
    }
   ],
   "source": [
    "cnt = 0\n",
    "while True:\n",
    "    if \"4321\" == input(\"Pin-koodi: \"):\n",
    "        cnt += 1\n",
    "        if cnt == 1:\n",
    "            print(\"Oikein, tarvitsit vain yhden yrityksen!\")\n",
    "        else:\n",
    "            print(f\"Oikein, tarvitsit {cnt} yritystä\")\n",
    "        break\n",
    "    else:\n",
    "        cnt += 1\n",
    "        print(\"Väärin\")\n"
   ]
  },
  {
   "cell_type": "markdown",
   "metadata": {},
   "source": [
    "TEHT. Luvun potenssit /MOOC\n",
    "\n",
    "Tee ohjelma joka tulostaa ensin luvun 1 ja sen jälkeen käyttäjä saa määrätä kertoimen eli sen, minkä luvun potensseja ohjelma tulostaa.\n",
    "Ohjelman suoritus päättyy, kun on tulostettu luku, joka on korkeintaan käyttäjän syötteen suuruinen. Yhtään käyttäjän syötettä suurempaa lukua ei siis tulosteta!\n",
    "\n",
    "Mihin asti: 27\n",
    "\n",
    "Mikä kerroin: 3\n",
    "\n",
    "1\n",
    "\n",
    "3\n",
    "\n",
    "9\n",
    "\n",
    "27\n",
    "\n",
    "Mihin asti: 1234567\n",
    "\n",
    "Mikä kerroin: 10\n",
    "\n",
    "1\n",
    "\n",
    "10\n",
    "\n",
    "100\n",
    "\n",
    "1000\n",
    "\n",
    "10000\n",
    "\n",
    "100000\n",
    "\n",
    "1000000"
   ]
  },
  {
   "cell_type": "code",
   "execution_count": 2,
   "metadata": {},
   "outputs": [
    {
     "name": "stdout",
     "output_type": "stream",
     "text": [
      "1\n",
      "2\n",
      "4\n",
      "8\n",
      "16\n",
      "32\n",
      "64\n"
     ]
    }
   ],
   "source": [
    "raja = int(input(\"Mihin asti: \"))\n",
    "kerroin = int(input(\"Mikä kerroin: \"))\n",
    "alku = 1\n",
    "\n",
    "while alku <= raja:\n",
    "    print(alku)\n",
    "    alku *= kerroin"
   ]
  },
  {
   "cell_type": "markdown",
   "metadata": {},
   "source": [
    "# For -silmukka\n",
    "\n",
    "- for - in\n",
    "- käy läpi annetun rakenteen sisällön alkio kerrallaan ja suorittaa alikoille jonkin saman operaation\n",
    "- kun kaikki alkiot on käyty läpi, jatkuu koodi silmukan jälkeiseltä riviltä\n",
    "- kutsutaan myös iteroinniksi\n",
    "\n"
   ]
  },
  {
   "cell_type": "code",
   "execution_count": null,
   "metadata": {},
   "outputs": [],
   "source": [
    "# ESIMERKKI\n",
    "\n",
    "for i in \"merkkijono\":\n",
    "    print(i)"
   ]
  },
  {
   "cell_type": "code",
   "execution_count": null,
   "metadata": {},
   "outputs": [],
   "source": [
    "# \n",
    "# Esimerkki\n",
    "nimi = input(\"Anna nimesi: \")\n",
    "\n",
    "for merkki in nimi:\n",
    "    print(merkki)"
   ]
  },
  {
   "cell_type": "code",
   "execution_count": null,
   "metadata": {},
   "outputs": [],
   "source": [
    "# ESIMERKKI\n",
    "\n",
    "lista = [\"eka\", \"toka\", \"kolmas\"] # lista muodostetaan hakasulkeilla, ilman sulkeita tulee tuple\n",
    "\n",
    "for i in lista:\n",
    "    print(i)\n",
    "\n",
    "type(lista)"
   ]
  },
  {
   "cell_type": "code",
   "execution_count": null,
   "metadata": {},
   "outputs": [],
   "source": [
    "# Esimerkki lista sanoista ja sanojen pituus\n",
    "lista = [\"eka\", \"toka\", \"kolmas\"]\n",
    "\n",
    "for i in lista:\n",
    "    print(i, len(i))"
   ]
  },
  {
   "cell_type": "code",
   "execution_count": null,
   "metadata": {},
   "outputs": [],
   "source": [
    "# ESIMERKKI break\n",
    "\n",
    "lista = [\"eka\", \"toka\", \"kolmas\"]\n",
    "\n",
    "for i in lista:\n",
    "    print(i)\n",
    "    if i == \"toka\":\n",
    "        break           # keskeyttää koodin suorituksen tässä lohkossa, mutta voi muuten jatkaa loppuun\n",
    "print('tämä tulostuu vielä breakin jälkeen')"
   ]
  },
  {
   "cell_type": "code",
   "execution_count": 26,
   "metadata": {},
   "outputs": [
    {
     "name": "stdout",
     "output_type": "stream",
     "text": [
      "eka\n",
      "kolmas\n"
     ]
    }
   ],
   "source": [
    "# ESIMERKKI continue\n",
    "\n",
    "lista = [\"eka\", \"toka\", \"kolmas\"]\n",
    "\n",
    "for i in lista:\n",
    "    if i == \"toka\":\n",
    "       continue            # palaa välittömästi alkuun, ei suorita koodia tällä kierroksella loppuun\n",
    "    print(i)"
   ]
  },
  {
   "cell_type": "code",
   "execution_count": null,
   "metadata": {},
   "outputs": [],
   "source": [
    "# esimerkki, poimitaan listasta elementtejä uuteen listaan, jotka lisätään append()-metodilla\n",
    "\n",
    "hedelmat = [\"omena\", \"banaani\", \"kirsikka\", \"kiwi\", \"mango\"]\n",
    "uusilista = []              # pitää olla lista, muuuten append-metodi ei toimi\n",
    "\n",
    "for x in hedelmat:\n",
    "  if \"o\" in x:              # jos o-kirjain löytyy sanasta\n",
    "    uusilista.append(x)     # lisätään uuden listan\n",
    "\n",
    "print(uusilista)"
   ]
  },
  {
   "cell_type": "markdown",
   "metadata": {},
   "source": [
    "TEHT. 3 Vähemmän kuin 5\n",
    "\n",
    "\n",
    "Kirjoita ohjelma, joka poimii listasta kaikki lukua viisi pienemmät luvut\n",
    "\n",
    "  a = [1, 1, 2, 3, 5, 8, 13, 21, 34, 55, 89\n",
    "\n",
    "  käytä append()\n",
    "\n",
    "\n",
    "https://www.practicepython.org/exercise/2014/02/15/03-list-less-than-ten.html"
   ]
  },
  {
   "cell_type": "code",
   "execution_count": 4,
   "metadata": {},
   "outputs": [
    {
     "name": "stdout",
     "output_type": "stream",
     "text": [
      "[1, 1, 2, 3]\n"
     ]
    }
   ],
   "source": [
    "a = [1, 1, 2, 3, 5, 8, 13, 21, 34, 55, 89]\n",
    "b = []\n",
    "\n",
    "for num in a:\n",
    "    if num < 5:\n",
    "        b.append(num)\n",
    "\n",
    "print(b)"
   ]
  },
  {
   "cell_type": "code",
   "execution_count": 27,
   "metadata": {},
   "outputs": [
    {
     "name": "stdout",
     "output_type": "stream",
     "text": [
      "[1, 1, 2, 3]\n"
     ]
    }
   ],
   "source": [
    "a = [1, 1, 2, 3, 5, 8, 13, 21, 34, 55, 89]\n",
    "b = [x for x in a if x < 5]\n",
    "print(b)"
   ]
  },
  {
   "cell_type": "markdown",
   "metadata": {},
   "source": [
    "TEHT 5. Listojen päällekkäisyys\n",
    "\n",
    "https://www.practicepython.org/exercise/2014/03/05/05-list-overlap.html\n",
    "\n",
    "Kaksi listaa:\n",
    "\n",
    "  a = [1, 1, 2, 3, 5, 8, 13, 21, 34, 55, 89]\n",
    "\n",
    "  b = [1, 2, 3, 4, 5, 6, 7, 8, 9, 10, 11, 12, 13]\n",
    "\n",
    "Kirjoita ohjelma, joka etsii molemmissa listoissa olevat yhtenevät luvut ja lisää ne uuteen listaan append(). \n",
    "\n",
    "Varmista, että ohjelma käy läpi eri kokoiset listat.\n",
    "\n",
    "Extra: \n",
    "- voit valita luvut listalla random-moduulilla\n",
    "- voit kirjoittaa koodin yhdelle riville (list comprehension)\n"
   ]
  },
  {
   "cell_type": "code",
   "execution_count": 5,
   "metadata": {},
   "outputs": [
    {
     "name": "stdout",
     "output_type": "stream",
     "text": [
      "[1, 1, 2, 3, 5, 8, 13]\n"
     ]
    }
   ],
   "source": [
    "a = [1, 1, 2, 3, 5, 8, 13, 21, 34, 55, 89]\n",
    "b = [1, 2, 3, 4, 5, 6, 7, 8, 9, 10, 11, 12, 13]\n",
    "c = []\n",
    "\n",
    "for num in a:\n",
    "    if num in b:\n",
    "        c.append(num)\n",
    "\n",
    "print(c)"
   ]
  },
  {
   "cell_type": "code",
   "execution_count": 7,
   "metadata": {},
   "outputs": [
    {
     "name": "stdout",
     "output_type": "stream",
     "text": [
      "[1, 1, 2, 3, 5, 8, 13]\n"
     ]
    }
   ],
   "source": [
    "a = [1, 1, 2, 3, 5, 8, 13, 21, 34, 55, 89]\n",
    "b = [1, 2, 3, 4, 5, 6, 7, 8, 9, 10, 11, 12, 13]\n",
    "\n",
    "print([x for x in a if x in b])"
   ]
  },
  {
   "cell_type": "markdown",
   "metadata": {},
   "source": [
    "# List comprehension\n",
    "\n",
    "List comprehension'n avulla voidaan kirjoittaa kaikki samalle riville:\n",
    "\n",
    "https://www.w3schools.com/python/python_lists_comprehension.asp"
   ]
  },
  {
   "cell_type": "code",
   "execution_count": null,
   "metadata": {},
   "outputs": [],
   "source": [
    "# esimerkki list comprehension\n",
    "\n",
    "hedelmat = [\"omena\", \"banaani\", \"kirsikka\", \"kiwi\", \"mango\"]\n",
    "uusilista = [x for x in hedelmat if \"o\" in x]\n",
    "\n",
    "print(uusilista)"
   ]
  },
  {
   "cell_type": "markdown",
   "metadata": {},
   "source": [
    "# range()\n",
    "\n",
    "- joidenkin lukujen välillä\n",
    "- tietty määrä kertoja\n",
    "\n",
    "range() luo listan kaltaisen olion, joka sisältää tietyn määrän numeroita\n",
    "- range(5) # [0,1,2,3,4]. Oletuksena alkaa nollasta\n",
    "- range(5, 10) # [5,6,7,8,9]\n",
    "- range(0, 15, 2) # [0,2,4,6,8,10,12,14]\n",
    "- range(10, 5, -1) # [10,9,8,7,6]"
   ]
  },
  {
   "cell_type": "markdown",
   "metadata": {},
   "source": [
    "TEHT. Luvut / MOOC\n",
    "\n",
    "Tee ohjelma, joka tulostaa kaikki käyttäjän antamaa lukua pienemmät luvut alkaen luvusta yksi.\n",
    "\n",
    "Kokeile range()\n",
    "\n",
    "Mihin asti: 5\n",
    "\n",
    "1\n",
    "\n",
    "2\n",
    "\n",
    "3\n",
    "\n",
    "4"
   ]
  },
  {
   "cell_type": "code",
   "execution_count": 8,
   "metadata": {},
   "outputs": [
    {
     "name": "stdout",
     "output_type": "stream",
     "text": [
      "1\n",
      "2\n",
      "3\n",
      "4\n",
      "5\n",
      "6\n",
      "7\n",
      "8\n",
      "9\n"
     ]
    }
   ],
   "source": [
    "raja = int(input(\"Mihin asti: \"))\n",
    "lista = range(1, raja)\n",
    "for i in lista:\n",
    "    print(i)"
   ]
  },
  {
   "cell_type": "markdown",
   "metadata": {},
   "source": [
    "TEHT 4. Kirjoita ohjelma, jossa kysytään joku luku, jonka jälkeen ohjelma tulostaa luvun tekijät.\n",
    "\n",
    "esim. Luku 26, tekijät 1,2,13,26.\n",
    "\n",
    "https://fi.wikipedia.org/wiki/Aito_jakaja\n",
    "\n",
    "Tekijä on luku, joka menee tasan jaettavaan lukuun.\n",
    "\n",
    "käytä range() -metodia.\n",
    "\n",
    "Kokeile list comprehension.\n",
    "\n",
    "https://www.practicepython.org/exercise/2014/02/26/04-divisors.html"
   ]
  },
  {
   "cell_type": "code",
   "execution_count": 14,
   "metadata": {},
   "outputs": [
    {
     "name": "stdout",
     "output_type": "stream",
     "text": [
      "[1, 2, 13, 26]\n"
     ]
    }
   ],
   "source": [
    "luku = int(input(\"Luku: \"))\n",
    "raja = luku + 1\n",
    "lista = range(1, raja)\n",
    "print([x for x in lista if luku % x == 0])"
   ]
  },
  {
   "cell_type": "markdown",
   "metadata": {},
   "source": [
    "TEHT 7 List comprehension\n",
    "\n",
    "Kirjoita yhdellä rivillä ohjelma, joka etsii listasta parilliset luvut ja luo niistä uuden listan.\n",
    "\n",
    "a = [1, 4, 9, 16, 25, 36, 49, 64, 81, 100]\n",
    "\n",
    "https://www.practicepython.org/exercise/2014/03/19/07-list-comprehensions.html"
   ]
  },
  {
   "cell_type": "code",
   "execution_count": 16,
   "metadata": {},
   "outputs": [
    {
     "name": "stdout",
     "output_type": "stream",
     "text": [
      "[4, 16, 36, 64, 100]\n"
     ]
    }
   ],
   "source": [
    "lista = [1, 4, 9, 16, 25, 36, 49, 64, 81, 100]\n",
    "parilliset = [x for x in lista if x % 2 == 0]\n",
    "print(parilliset)"
   ]
  },
  {
   "cell_type": "code",
   "execution_count": 29,
   "metadata": {},
   "outputs": [],
   "source": [
    "parilliset = [x for x in [1, 4, 9, 16, 25, 36, 49, 64, 81, 100] if x % 2 == 0]"
   ]
  },
  {
   "cell_type": "markdown",
   "metadata": {},
   "source": [
    "# debuggaus\n",
    "\n",
    "- voi lisätä välitulosteita print() -koodiin\n",
    "- input() -syötteen voi testauksen ajaksi kommentoida pois ja muuttujan arvo kovakoodataan \n",
    "- vs code > run > start debugging\n",
    "- jupyter notebook > run by line\n",
    "- https://pythontutor.com/\n"
   ]
  },
  {
   "cell_type": "markdown",
   "metadata": {},
   "source": [
    "# Lisää tehtäviä"
   ]
  },
  {
   "cell_type": "markdown",
   "metadata": {},
   "source": [
    "TEHT. Tarina\n",
    "\n",
    "Osa 1\n",
    "\n",
    "Tee ohjelma, joka pyytää käyttäjää syöttämään sanoja. Kun käyttäjä syöttää sanan loppu, ohjelma tulostaa sanoista muodostuneen tarinan ja suoritus päättyy.\n",
    "\n",
    "Esimerkkitulostus\n",
    "\n",
    "Anna sana: Olipa\n",
    "\n",
    "Anna sana: kerran\n",
    "\n",
    "Anna sana: pieni\n",
    "\n",
    "Anna sana: talo\n",
    "\n",
    "Anna sana: preerialla\n",
    "\n",
    "Anna sana: loppu\n",
    "\n",
    "Olipa kerran pieni talo preerialla"
   ]
  },
  {
   "cell_type": "code",
   "execution_count": 17,
   "metadata": {},
   "outputs": [
    {
     "name": "stdout",
     "output_type": "stream",
     "text": [
      "olipa kerran pieni "
     ]
    }
   ],
   "source": [
    "tarina = []\n",
    "while True:\n",
    "    sana = input(\"Anna sana: \")\n",
    "    if(sana != \"loppu\"):\n",
    "        tarina.append(sana)\n",
    "    else:\n",
    "        break\n",
    "for i in tarina:\n",
    "    print(i, end=\" \")\n"
   ]
  },
  {
   "cell_type": "code",
   "execution_count": 28,
   "metadata": {},
   "outputs": [
    {
     "name": "stdout",
     "output_type": "stream",
     "text": [
      "olipa\n",
      "olipa kerran\n",
      "olipa kerran pieni\n"
     ]
    }
   ],
   "source": [
    "tarina = []\n",
    "while True:\n",
    "    sana = input(\"Anna sana: \")\n",
    "    if(sana != \"loppu\"):\n",
    "        tarina.append(sana)\n",
    "    else:\n",
    "        break\n",
    "print(*tarina)"
   ]
  },
  {
   "cell_type": "markdown",
   "metadata": {},
   "source": [
    "Osa 2\n",
    "Muokkaa edellisen tehtävän ohjelmaa niin, että sanojen syöttäminen päättyy, jos käyttäjä syöttää sanan loppu tai käyttäjä syöttää saman sanan kaksi kertaa peräkkäin.\n",
    "\n",
    "Esimerkkitulostus\n",
    "\n",
    "Anna sana: Alussa\n",
    "\n",
    "Anna sana: oli\n",
    "\n",
    "Anna sana: suo\n",
    "\n",
    "Anna sana: kuokka\n",
    "\n",
    "Anna sana: ja\n",
    "\n",
    "Anna sana: Jussi\n",
    "\n",
    "Anna sana: Jussi\n",
    "\n",
    "Alussa oli suo kuokka ja Jussi"
   ]
  },
  {
   "cell_type": "code",
   "execution_count": 20,
   "metadata": {},
   "outputs": [
    {
     "name": "stdout",
     "output_type": "stream",
     "text": [
      "suo kuokka ja "
     ]
    }
   ],
   "source": [
    "tarina = []\n",
    "last = \"\"\n",
    "while True:\n",
    "    sana = input(\"Anna sana: \")\n",
    "    if(sana != \"loppu\" and sana != last):\n",
    "        tarina.append(sana)\n",
    "        last = sana\n",
    "    else:\n",
    "        break\n",
    "print(*tarina)"
   ]
  },
  {
   "cell_type": "markdown",
   "metadata": {},
   "source": [
    "TEHT. Lukujen käsittelyä / MOOC\n",
    "\n",
    "Tee ohjelma, joka pyytää käyttäjää syöttämään kokonaislukuja. Ohjelma pyytää lukuja niin kauan kunnes käyttäjä syöttää nollan.\n",
    "\n",
    "Syötä kokonaislukuja, 0 lopettaa:\n",
    "\n",
    "Luku: 5\n",
    "\n",
    "Luku: 22\n",
    "\n",
    "Luku: 9\n",
    "\n",
    "Luku: -2\n",
    "\n",
    "Luku: 0\n"
   ]
  },
  {
   "cell_type": "code",
   "execution_count": 21,
   "metadata": {},
   "outputs": [],
   "source": [
    "```\n",
    "while True:\n",
    "    if int(input(\"Luku: \")) == 0:\n",
    "        break\n",
    "```"
   ]
  },
  {
   "cell_type": "markdown",
   "metadata": {},
   "source": [
    "\n",
    "##### Osa 1: lukumäärä\n",
    "\n",
    "Syötteiden lukemisen jälkeen ohjelman tulee tulostaa syötettyjen lukujen lukumäärä. Syötteen loppumisesta kertovaa nollaa ei tule ottaa huomioon lukumäärässä.\n",
    "\n",
    "Tarvitset tässä uuden muuttujan, jonka avulla pidät kirjaa luettujen lukujen määrästä.\n",
    "\n",
    "Esimerkkitulostus:\n",
    "\n",
    "Lukuja yhteensä 4\n"
   ]
  },
  {
   "cell_type": "code",
   "execution_count": 22,
   "metadata": {},
   "outputs": [
    {
     "name": "stdout",
     "output_type": "stream",
     "text": [
      "Lukuja yhteensä 3\n"
     ]
    }
   ],
   "source": [
    "yht = 0\n",
    "while True:\n",
    "    if int(input(\"Luku: \")) == 0:\n",
    "        break\n",
    "    else:\n",
    "        yht += 1\n",
    "print(f\"Lukuja yhteensä {yht}\")"
   ]
  },
  {
   "cell_type": "markdown",
   "metadata": {},
   "source": [
    "\n",
    "##### Osa 2: summa\n",
    "\n",
    "Laajenna ohjelmaa siten, että se tulostaa syötettyjen lukujen summa. Syötteen loppumisesta kertovaa nollaa ei tule ottaa huomioon summan laskemisessa.\n",
    "\n",
    "Ohjelman tulostus laajenee seuraavasti:\n",
    "\n",
    "Esimerkkitulostus\n",
    "\n",
    "Lukuja yhteensä 4\n",
    "\n",
    "Lukujen summa 34\n"
   ]
  },
  {
   "cell_type": "code",
   "execution_count": 23,
   "metadata": {},
   "outputs": [
    {
     "name": "stdout",
     "output_type": "stream",
     "text": [
      "Lukuja yhteensä 3\n",
      "Lukujen summa 6\n"
     ]
    }
   ],
   "source": [
    "yht = 0\n",
    "lukuja = 0\n",
    "while True:\n",
    "    luku = int(input(\"Luku: \"))\n",
    "    if luku == 0:\n",
    "        break\n",
    "    else:\n",
    "        yht += luku\n",
    "        lukuja += 1\n",
    "print(f\"Lukuja yhteensä {lukuja}\")\n",
    "print(f\"Lukujen summa {yht}\")"
   ]
  },
  {
   "cell_type": "markdown",
   "metadata": {},
   "source": [
    "\n",
    "##### Osa 3: keskiarvo\n",
    "Laajenna ohjelmaa siten, että se tulostaa syötettyjen lukujen keskiarvon. Syötteen loppumisesta kertovaa nollaa ei tule ottaa huomioon keskiarvon laskemisessa. Voit olettaa, että käyttäjä syöttää aina vähintään yhden luvun.\n",
    "\n",
    "Esimerkkitulostus\n",
    "\n",
    "Lukuja yhteensä 4\n",
    "\n",
    "Lukujen summa 34\n",
    "\n",
    "Lukujen keskiarvo 8.5\n"
   ]
  },
  {
   "cell_type": "code",
   "execution_count": 24,
   "metadata": {},
   "outputs": [
    {
     "name": "stdout",
     "output_type": "stream",
     "text": [
      "Lukuja yhteensä 3\n",
      "Lukujen summa 6\n",
      "Lukujen keskiarvo 2.0\n"
     ]
    }
   ],
   "source": [
    "yht = 0\n",
    "lukuja = 0\n",
    "while True:\n",
    "    luku = int(input(\"Luku: \"))\n",
    "    if luku == 0:\n",
    "        break\n",
    "    else:\n",
    "        yht += luku\n",
    "        lukuja += 1\n",
    "print(f\"Lukuja yhteensä {lukuja}\")\n",
    "print(f\"Lukujen summa {yht}\")\n",
    "print(f\"Lukujen keskiarvo {yht/lukuja}\")"
   ]
  },
  {
   "cell_type": "markdown",
   "metadata": {},
   "source": [
    "\n",
    "##### Osa 4: positiiviset ja negatiiviset\n",
    "\n",
    "Laajenna ohjelmaa siten, että se tulostaa positiivisten ja negatiivisten lukujen lukumäärät\n",
    "\n",
    "Esimerkkitulostus \n",
    "\n",
    "Lukuja yhteensä 4\n",
    "\n",
    "Lukujen summa 34\n",
    "\n",
    "Lukujen keskiarvo 8.5\n",
    "\n",
    "Positiivisia 3\n",
    "\n",
    "Negatiivisia 1"
   ]
  },
  {
   "cell_type": "code",
   "execution_count": 25,
   "metadata": {},
   "outputs": [
    {
     "name": "stdout",
     "output_type": "stream",
     "text": [
      "Lukuja yhteensä 5\n",
      "Lukujen summa 3\n",
      "Lukujen keskiarvo 0.6\n",
      "Positiivisia 3\n",
      "Negatiivisia 2\n"
     ]
    }
   ],
   "source": [
    "yht = 0\n",
    "lukuja = 0\n",
    "posit = 0\n",
    "negat = 0\n",
    "while True:\n",
    "    luku = int(input(\"Luku: \"))\n",
    "    if luku == 0:\n",
    "        break\n",
    "    else:\n",
    "        yht += luku\n",
    "        lukuja += 1\n",
    "        if luku < 0: negat += 1\n",
    "        if luku > 0: posit += 1\n",
    "print(f\"Lukuja yhteensä {lukuja}\")\n",
    "print(f\"Lukujen summa {yht}\")\n",
    "print(f\"Lukujen keskiarvo {yht/lukuja}\")\n",
    "print(f\"Positiivisia {posit}\")\n",
    "print(f\"Negatiivisia {negat}\")"
   ]
  }
 ],
 "metadata": {
  "kernelspec": {
   "display_name": "Python 3.10.7 64-bit",
   "language": "python",
   "name": "python3"
  },
  "language_info": {
   "codemirror_mode": {
    "name": "ipython",
    "version": 3
   },
   "file_extension": ".py",
   "mimetype": "text/x-python",
   "name": "python",
   "nbconvert_exporter": "python",
   "pygments_lexer": "ipython3",
   "version": "3.10.7"
  },
  "orig_nbformat": 4,
  "vscode": {
   "interpreter": {
    "hash": "26de051ba29f2982a8de78e945f0abaf191376122a1563185a90213a26c5da77"
   }
  }
 },
 "nbformat": 4,
 "nbformat_minor": 2
}

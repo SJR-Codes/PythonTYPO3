{
 "cells": [
  {
   "cell_type": "markdown",
   "metadata": {},
   "source": [
    "8.10.2022"
   ]
  },
  {
   "cell_type": "markdown",
   "metadata": {},
   "source": [
    "# Matriisit ja viittaukset"
   ]
  },
  {
   "cell_type": "markdown",
   "metadata": {},
   "source": [
    "## tavoitteet \n",
    "\n",
    "- osaa luoda tallentaa matriisin kaksiulotteisena\n",
    "- osaa laskea matriisin rivien ja sarakkeiden summan\n",
    "- osaa hakea ja muuttaa matriisin alkion\n"
   ]
  },
  {
   "cell_type": "markdown",
   "metadata": {},
   "source": [
    "parametrin ylikirjoittaminen ja liian aikainen return\n",
    "\n",
    "https://ohjelmointi-21.mooc.fi/osa-5/1-lisaa-listoja"
   ]
  },
  {
   "cell_type": "markdown",
   "metadata": {},
   "source": [
    "useampi viittaus samaan listaan\n",
    "\n",
    "https://ohjelmointi-21.mooc.fi/osa-5/2-viittaukset"
   ]
  },
  {
   "cell_type": "markdown",
   "metadata": {},
   "source": [
    "TEHT. Pisin / Mooc\n",
    "\n",
    "Tee funktio pisin(merkkijonot: list), joka saa parametrikseen listan merkkijonoja. Funktio etsii ja palauttaa listalta pisimmän merkkijonon. Voit olettaa, että vain yksi jonoista on pisin.\n",
    "\n",
    "Esimerkkikutsu:\n",
    "\n",
    "\n",
    "if __name__ == \"__main__\":\n",
    "\n",
    "    jonot = [\"moi\", \"moikka\", \"heip\", \"hellurei\", \"terve\"]\n",
    "\n",
    "    print(pisin(jonot))\n",
    "\n",
    "Esimerkkitulostus\n",
    "\n",
    "hellurei"
   ]
  },
  {
   "cell_type": "code",
   "execution_count": 1,
   "metadata": {},
   "outputs": [
    {
     "name": "stdout",
     "output_type": "stream",
     "text": [
      "hellurei\n"
     ]
    }
   ],
   "source": [
    "def pisin(jonot: list) -> str:\n",
    "    '''Find and return longest string from list of strings.'''\n",
    "    pisin = \"\"\n",
    "    for jono in jonot:\n",
    "        if len(jono) > len(pisin):\n",
    "            pisin = jono\n",
    "    return pisin\n",
    "\n",
    "def main():\n",
    "    jonot = [\"moi\", \"moikka\", \"heip\", \"hellurei\", \"terve\"]\n",
    "    print(pisin(jonot))\n",
    "\n",
    "# run blocks of code only if our program is the main program executed\n",
    "if __name__ == \"__main__\":\n",
    "    main()\n"
   ]
  },
  {
   "cell_type": "markdown",
   "metadata": {},
   "source": [
    "## Matriisit"
   ]
  },
  {
   "cell_type": "markdown",
   "metadata": {},
   "source": [
    "Sisäkkäisten listojen avulla voi luoda matriisi.\n",
    "\n",
    "Matriisi on kaksiulotteinen taulukko."
   ]
  },
  {
   "cell_type": "code",
   "execution_count": null,
   "metadata": {},
   "outputs": [],
   "source": [
    "matriisi = [[1,2,3], [4,5,6,], [7,8,9,]]\n",
    "matriisi"
   ]
  },
  {
   "cell_type": "markdown",
   "metadata": {},
   "source": [
    "Matriisiin alkioon viitataan käyttämällä hakasulkuja.\n",
    "\n",
    "Ensimmäinen indeksi viittaa riviin ja toinen sarakkeeseen."
   ]
  },
  {
   "cell_type": "code",
   "execution_count": null,
   "metadata": {},
   "outputs": [],
   "source": [
    "print(matriisi[0][1])\n",
    "\n",
    "# muuta lukua\n",
    "matriisi[2][2] = 10\n",
    "print(matriisi)"
   ]
  },
  {
   "cell_type": "markdown",
   "metadata": {},
   "source": [
    "läpikäynti for-loopilla"
   ]
  },
  {
   "cell_type": "code",
   "execution_count": null,
   "metadata": {},
   "outputs": [],
   "source": [
    "# tulostaa alilistat/rivit allekkain\n",
    "\n",
    "for i in matriisi:\n",
    "    print(i)"
   ]
  },
  {
   "cell_type": "markdown",
   "metadata": {},
   "source": [
    "alkiot yksitellen toisen for-loopin avulla"
   ]
  },
  {
   "cell_type": "code",
   "execution_count": null,
   "metadata": {},
   "outputs": [],
   "source": [
    "for i in matriisi:\n",
    "    print('rivi')\n",
    "    for alkio in i:\n",
    "        print(alkio)"
   ]
  },
  {
   "cell_type": "markdown",
   "metadata": {},
   "source": [
    "alilistan /rivin alkioiden summa"
   ]
  },
  {
   "cell_type": "code",
   "execution_count": null,
   "metadata": {},
   "outputs": [],
   "source": [
    "def rivin_alkioiden_summa(matriisi, rivi_nro: int):\n",
    "    # tarkasteluun valitaan yksi rivi\n",
    "    rivi = matriisi[rivi_nro]\n",
    "    summa = 0\n",
    "    for alkio in rivi:\n",
    "        summa += alkio\n",
    "\n",
    "    return summa\n",
    "\n",
    "matriisi = [\n",
    "    [1,2,3], \n",
    "    [4,5,6], \n",
    "    [7,8,9,]\n",
    "]\n",
    "\n",
    "summa = rivin_alkioiden_summa(matriisi, 2)\n",
    "\n",
    "for i in matriisi:\n",
    "    print(i)\n",
    "print(summa) # tulostuu 24 (saadaan laskemalla 7 + 8 + 9)\n"
   ]
  },
  {
   "cell_type": "markdown",
   "metadata": {},
   "source": [
    "sarakkeen alkioiden summa"
   ]
  },
  {
   "cell_type": "code",
   "execution_count": null,
   "metadata": {},
   "outputs": [],
   "source": [
    "def sarakkeen_alkioiden_summa(matriisi, sarake_nro: int):\n",
    "    # summaan lisätään kaikkien rivien halutussa kohdassa oleva alkio\n",
    "    summa = 0\n",
    "    for rivi in matriisi:\n",
    "        summa += rivi[sarake_nro]\n",
    "\n",
    "    return summa\n",
    "\n",
    "matriisi = [\n",
    "    [1,2,3], \n",
    "    [4,5,6], \n",
    "    [7,8,9,]\n",
    "]\n",
    "\n",
    "\n",
    "summa = sarakkeen_alkioiden_summa(matriisi, 2)\n",
    "\n",
    "for i in matriisi:\n",
    "    print(i)\n",
    "\n",
    "print(summa) # tulostuu 18 (saadaan laskemalla 3 + 6 + 9)"
   ]
  },
  {
   "cell_type": "markdown",
   "metadata": {},
   "source": [
    "vaihda yhden alkion arvoa"
   ]
  },
  {
   "cell_type": "code",
   "execution_count": null,
   "metadata": {},
   "outputs": [],
   "source": [
    "def vaihda_arvoon(matriisi, rivi_nro: int, sarake_nro: int, arvo: int):\n",
    "    # haetaan oikea rivi\n",
    "    rivi = matriisi[rivi_nro]\n",
    "    # ja sen sisältä oikea kohta\n",
    "    rivi[sarake_nro] = arvo\n",
    "\n",
    "matriisi = [\n",
    "    [1,2,3], \n",
    "    [4,5,6], \n",
    "    [7,8,9,]\n",
    "]\n",
    "\n",
    "for i in matriisi:\n",
    "    print(i)\n",
    "vaihda_arvoon(matriisi, 1, 2, 100)\n",
    "print('Arvo vaihdettu:')\n",
    "for i in matriisi:\n",
    "    print(i)"
   ]
  },
  {
   "cell_type": "markdown",
   "metadata": {},
   "source": [
    "Koko listaa / matriisia voidaan muokata kerralla"
   ]
  },
  {
   "cell_type": "code",
   "execution_count": null,
   "metadata": {},
   "outputs": [],
   "source": [
    "matriisi = [[1,2,3], [4,5,6], [7,8,9]]\n",
    "\n",
    "for i in range(len(matriisi)):\n",
    "    for j in range(len(matriisi[i])):\n",
    "        matriisi[i][j] *= 2\n",
    "        print(i, j)        \n",
    "\n",
    "for i in matriisi:\n",
    "    print(i)"
   ]
  },
  {
   "cell_type": "markdown",
   "metadata": {},
   "source": [
    "tulosta sudoku"
   ]
  },
  {
   "cell_type": "code",
   "execution_count": null,
   "metadata": {},
   "outputs": [],
   "source": [
    "def tulosta(sudoku):\n",
    "    for i in sudoku:\n",
    "        for j in i:\n",
    "            if j > 0:\n",
    "                print(f\" {j}\", end=\"\")\n",
    "            else:\n",
    "                print(\" _\", end=\"\")\n",
    "        print()\n",
    "\n",
    "sudoku = [\n",
    "  [9, 0, 0, 0, 8, 0, 3, 0, 0],\n",
    "  [0, 0, 0, 2, 5, 0, 7, 0, 0],\n",
    "  [0, 2, 0, 3, 0, 0, 0, 0, 4],\n",
    "  [0, 9, 4, 0, 0, 0, 0, 0, 0],\n",
    "  [0, 0, 0, 7, 3, 0, 5, 6, 0],\n",
    "  [7, 0, 5, 0, 6, 0, 4, 0, 0],\n",
    "  [0, 0, 7, 8, 0, 3, 9, 0, 0],\n",
    "  [0, 0, 1, 0, 0, 0, 0, 0, 3],\n",
    "  [3, 0, 0, 0, 0, 0, 0, 0, 2]\n",
    "]\n",
    "\n",
    "tulosta(matriisi)\n",
    "tulosta(sudoku)"
   ]
  },
  {
   "cell_type": "markdown",
   "metadata": {},
   "source": [
    "Teht. Alkioiden määrä /MOOC\n",
    "\n",
    "Tee funktio laske_alkiot(matriisi: list, alkio: int), joka saa parametrikseen kaksiulotteisen kokonaislukutaulukon. Funktio laskee, kuinka monta annetun alkion mukaista arvoa taulukosta löytyy.\n",
    "\n",
    "Esimerkiksi\n",
    "\n",
    "m = [[1, 2, 1], [0, 3, 4], [1, 0, 0]]\n",
    "\n",
    "print(laske_alkiot(m, 1))\n",
    "\n",
    "3"
   ]
  },
  {
   "cell_type": "code",
   "execution_count": 2,
   "metadata": {},
   "outputs": [
    {
     "name": "stdout",
     "output_type": "stream",
     "text": [
      "3\n"
     ]
    }
   ],
   "source": [
    "def laske_alkiot(matriisi: list, alkio: int) -> int:\n",
    "    '''Count alkio's in matriisi'''\n",
    "    alkioita = 0\n",
    "    for rivi in matriisi:\n",
    "        alkioita += rivi.count(alkio)\n",
    "    return alkioita\n",
    "\n",
    "def main():\n",
    "    m = [[1, 2, 1], [0, 3, 4], [1, 0, 0]]\n",
    "    print(laske_alkiot(m, 1))\n",
    "\n",
    "# run blocks of code only if our program is the main program executed\n",
    "if __name__ == \"__main__\":\n",
    "    main()\n"
   ]
  },
  {
   "cell_type": "markdown",
   "metadata": {},
   "source": [
    "Teht. Sudoku: rivit oikein\n",
    "\n",
    "Tee funktio rivi_oikein(sudoku: list, rivi_nro: int), joka saa parametriksi sudokuruudukkoa esittävän kaksiulotteisen taulukon ja rivin numeron kertovan kokonaisluvun (rivit on numeroitu nollasta alkaen). Metodi palauttaa tiedon, onko rivi oikein täytetty eli onko siinä kukin luvuista 1–9 korkeintaan kerran.\n",
    "\n",
    "    sudoku = [\n",
    "    [9, 0, 0, 0, 8, 0, 3, 0, 0],\n",
    "    [2, 0, 0, 2, 5, 0, 7, 0, 0],\n",
    "    [0, 2, 0, 3, 0, 0, 0, 0, 4],\n",
    "    [2, 9, 4, 0, 0, 0, 0, 0, 0],\n",
    "    [0, 0, 0, 7, 3, 0, 5, 6, 0],\n",
    "    [7, 0, 5, 0, 6, 0, 4, 0, 0],\n",
    "    [0, 0, 7, 8, 0, 3, 9, 0, 0],\n",
    "    [0, 0, 1, 0, 0, 0, 0, 0, 3],\n",
    "    [3, 0, 0, 0, 0, 0, 0, 0, 2]\n",
    "    ]\n",
    "\n",
    "    print(rivi_oikein(sudoku, 0))\n",
    "    print(rivi_oikein(sudoku, 1))\n",
    "    Esimerkkitulostus\n",
    "    True\n",
    "    False\n",
    "\n"
   ]
  },
  {
   "cell_type": "code",
   "execution_count": 3,
   "metadata": {},
   "outputs": [
    {
     "name": "stdout",
     "output_type": "stream",
     "text": [
      "True\n",
      "False\n"
     ]
    }
   ],
   "source": [
    "def rivi_oikein(sudoku: list, rivi_nro: int) -> bool:\n",
    "    '''Checks whether sudoku line is correct: True/False'''\n",
    "    for i in range(1,9):\n",
    "        if sudoku[rivi_nro].count(i) > 1: return False\n",
    "\n",
    "    return True\n",
    "\n",
    "sudoku = [\n",
    "    [9, 0, 0, 0, 8, 0, 3, 0, 0],\n",
    "    [2, 0, 0, 2, 5, 0, 7, 0, 0],\n",
    "    [0, 2, 0, 3, 0, 0, 0, 0, 4],\n",
    "    [2, 9, 4, 0, 0, 0, 0, 0, 0],\n",
    "    [0, 0, 0, 7, 3, 0, 5, 6, 0],\n",
    "    [7, 0, 5, 0, 6, 0, 4, 0, 0],\n",
    "    [0, 0, 7, 8, 0, 3, 9, 0, 0],\n",
    "    [0, 0, 1, 0, 0, 0, 0, 0, 3],\n",
    "    [3, 0, 0, 0, 0, 0, 0, 0, 2]\n",
    "    ]\n",
    "\n",
    "print(rivi_oikein(sudoku, 0))\n",
    "print(rivi_oikein(sudoku, 1))"
   ]
  },
  {
   "cell_type": "markdown",
   "metadata": {},
   "source": [
    "TEHT. Sudoku: sarakkeet oikein / MOOC\n",
    "Tee funktio sarake_oikein(sudoku: list, sarake_nro: int), joka saa parametriksi sudokuruudukkoa esittävän kaksiulotteisen taulukon ja sarakkeen (eli pystyrivin) numeron kertovan kokonaisluvun. Metodi palauttaa tiedon, onko sarake oikein täytetty eli onko siinä kukin luvuista 1–9 korkeintaan kerran.\n",
    "\n",
    "    sudoku = [\n",
    "      [9, 0, 0, 0, 8, 0, 3, 0, 0],\n",
    "      [2, 0, 0, 2, 5, 0, 7, 0, 0],\n",
    "      [0, 2, 0, 3, 0, 0, 0, 0, 4],\n",
    "      [2, 9, 4, 0, 0, 0, 0, 0, 0],\n",
    "      [0, 0, 0, 7, 3, 0, 5, 6, 0],\n",
    "      [7, 0, 5, 0, 6, 0, 4, 0, 0],\n",
    "      [0, 0, 7, 8, 0, 3, 9, 0, 0],\n",
    "      [0, 0, 1, 0, 0, 0, 0, 0, 3],\n",
    "      [3, 0, 0, 0, 0, 0, 0, 0, 2]\n",
    "    ]\n",
    "\n",
    "    print(sarake_oikein(sudoku, 0))\n",
    "    print(sarake_oikein(sudoku, 1))\n",
    "    Esimerkkitulostus\n",
    "    False\n",
    "    True"
   ]
  },
  {
   "cell_type": "code",
   "execution_count": 5,
   "metadata": {},
   "outputs": [
    {
     "name": "stdout",
     "output_type": "stream",
     "text": [
      "False\n",
      "True\n"
     ]
    }
   ],
   "source": [
    "def rivi_oikein(sudoku: list, rivi_nro: int) -> bool:\n",
    "    '''Checks whether sudoku line is correct: True/False'''\n",
    "    for i in range(1,9):\n",
    "        if sudoku[rivi_nro].count(i) > 1: \n",
    "            return False\n",
    "\n",
    "    return True\n",
    "\n",
    "def sarake_oikein(sudoku: list, sarake_nro: int) -> bool:\n",
    "    '''Checks whether sudoku column is correct: True/False'''\n",
    "    flipped = list(map(list, zip(*sudoku))) #transpose matrix = flip rows to columns\n",
    "\n",
    "    return rivi_oikein(flipped, sarake_nro)\n",
    "\n",
    "sudoku = [\n",
    "    [9, 0, 0, 0, 8, 0, 3, 0, 0],\n",
    "    [2, 0, 0, 2, 5, 0, 7, 0, 0],\n",
    "    [0, 2, 0, 3, 0, 0, 0, 0, 4],\n",
    "    [2, 9, 4, 0, 0, 0, 0, 0, 0],\n",
    "    [0, 0, 0, 7, 3, 0, 5, 6, 0],\n",
    "    [7, 0, 5, 0, 6, 0, 4, 0, 0],\n",
    "    [0, 0, 7, 8, 0, 3, 9, 0, 0],\n",
    "    [0, 0, 1, 0, 0, 0, 0, 0, 3],\n",
    "    [3, 0, 0, 0, 0, 0, 0, 0, 2]\n",
    "    ]\n",
    "\n",
    "print(sarake_oikein(sudoku, 0))\n",
    "print(sarake_oikein(sudoku, 1))\n",
    "\n",
    "\n"
   ]
  },
  {
   "cell_type": "markdown",
   "metadata": {},
   "source": [
    "Teht. Sudoku: ruudukon tulostus ja luvun lisäys / MOOC\n",
    "\n",
    "Tässä tehtävässä toteutetaan vielä kaksi funktiota sudokua varten: tulosta ja lisays.\n",
    "\n",
    "Funktio tulosta saa parametriksi sudokuruudukkoa esittävän kaksiulotteisen listan ja tulostaa sen alla olevan esimerkkitulostuksen mukaisessa muodossa.\n",
    "\n",
    "Funktio lisays(sudoku: list, rivi_nro: int, sarake_nro: int, luku:int) saa parametriksi sudokuruudukkoa esittävän kaksiulotteisen listan, rivi- ja sarakenumerot sekä luvun väliltä 1–9. Funktio lisää luvun parametrien ilmoittamaan kohtaan sudokuruudukkoa."
   ]
  },
  {
   "cell_type": "code",
   "execution_count": null,
   "metadata": {},
   "outputs": [],
   "source": [
    "#esimerkkki\n",
    "# sudoku  = [\n",
    "#     [0, 0, 0, 0, 0, 0, 0, 0, 0],\n",
    "#     [0, 0, 0, 0, 0, 0, 0, 0, 0],\n",
    "#     [0, 0, 0, 0, 0, 0, 0, 0, 0],\n",
    "#     [0, 0, 0, 0, 0, 0, 0, 0, 0],\n",
    "#     [0, 0, 0, 0, 0, 0, 0, 0, 0],\n",
    "#     [0, 0, 0, 0, 0, 0, 0, 0, 0],\n",
    "#     [0, 0, 0, 0, 0, 0, 0, 0, 0],\n",
    "#     [0, 0, 0, 0, 0, 0, 0, 0, 0],\n",
    "#     [0, 0, 0, 0, 0, 0, 0, 0, 0]\n",
    "# ]\n",
    "\n",
    "# tulosta(sudoku)\n",
    "# lisays(sudoku, 0, 0, 2)\n",
    "# lisays(sudoku, 1, 2, 7)\n",
    "# lisays(sudoku, 5, 7, 3)\n",
    "# print()\n",
    "# print(\"Kolme numeroa lisätty:\")\n",
    "# print()\n",
    "# tulosta(sudoku)"
   ]
  },
  {
   "cell_type": "code",
   "execution_count": 7,
   "metadata": {},
   "outputs": [
    {
     "name": "stdout",
     "output_type": "stream",
     "text": [
      "[0, 0, 0, 0, 0, 0, 0, 0, 0]\n",
      "[0, 0, 0, 0, 0, 0, 0, 0, 0]\n",
      "[0, 0, 0, 0, 0, 0, 0, 0, 0]\n",
      "[0, 0, 0, 0, 0, 0, 0, 0, 0]\n",
      "[0, 0, 0, 0, 0, 0, 0, 0, 0]\n",
      "[0, 0, 0, 0, 0, 0, 0, 0, 0]\n",
      "[0, 0, 0, 0, 0, 0, 0, 0, 0]\n",
      "[0, 0, 0, 0, 0, 0, 0, 0, 0]\n",
      "[0, 0, 0, 0, 0, 0, 0, 0, 0]\n",
      "\n",
      "Kolme numeroa lisätty:\n",
      "\n",
      "[2, 0, 0, 0, 0, 0, 0, 0, 0]\n",
      "[0, 0, 7, 0, 0, 0, 0, 0, 0]\n",
      "[0, 0, 0, 0, 0, 0, 0, 0, 0]\n",
      "[0, 0, 0, 0, 0, 0, 0, 0, 0]\n",
      "[0, 0, 0, 0, 0, 0, 0, 0, 0]\n",
      "[0, 0, 0, 0, 0, 0, 0, 3, 0]\n",
      "[0, 0, 0, 0, 0, 0, 0, 0, 0]\n",
      "[0, 0, 0, 0, 0, 0, 0, 0, 0]\n",
      "[0, 0, 0, 0, 0, 0, 0, 0, 0]\n"
     ]
    }
   ],
   "source": [
    "def tulosta(sudoku:list) -> None:\n",
    "    '''Prints sudoku matrix'''\n",
    "    for line in sudoku:\n",
    "        print(line)\n",
    "\n",
    "def lisays(sudoku:list, row:int, col:int, num:int) -> None:\n",
    "    '''Add numbers to sudoku matrix.'''\n",
    "    sudoku[row][col] = num\n",
    "    #python lists are mutable, so no need to return\n",
    "    #return sudoku\n",
    "\n",
    "def main():\n",
    "    sudoku  = [\n",
    "    [0, 0, 0, 0, 0, 0, 0, 0, 0],\n",
    "    [0, 0, 0, 0, 0, 0, 0, 0, 0],\n",
    "    [0, 0, 0, 0, 0, 0, 0, 0, 0],\n",
    "    [0, 0, 0, 0, 0, 0, 0, 0, 0],\n",
    "    [0, 0, 0, 0, 0, 0, 0, 0, 0],\n",
    "    [0, 0, 0, 0, 0, 0, 0, 0, 0],\n",
    "    [0, 0, 0, 0, 0, 0, 0, 0, 0],\n",
    "    [0, 0, 0, 0, 0, 0, 0, 0, 0],\n",
    "    [0, 0, 0, 0, 0, 0, 0, 0, 0]\n",
    "    ]\n",
    "\n",
    "    tulosta(sudoku)\n",
    "    lisays(sudoku, 0, 0, 2)\n",
    "    lisays(sudoku, 1, 2, 7)\n",
    "    lisays(sudoku, 5, 7, 3)\n",
    "    print()\n",
    "    print(\"Kolme numeroa lisätty:\")\n",
    "    print()\n",
    "    tulosta(sudoku)\n",
    "\n",
    "# run blocks of code only if our program is the main program executed\n",
    "if __name__ == \"__main__\":\n",
    "    main()\n",
    "\n"
   ]
  },
  {
   "cell_type": "markdown",
   "metadata": {},
   "source": [
    "\n",
    "## Ristinolla\n",
    "\n",
    "Ristinollaa pelataan 3 x 3 -kokoisella ruudukolla, johon pelaajat merkitsevät vuorotellen ristin tai nollan. Pelin voittaa se pelaaja, joka saa ensimmäisenä kolme merkkiä pystyyn, vaakaan tai kulmittain. Peli päättyy tasapeliin, jos kumpikaan pelaaja ei saa kolmen sarjaa.\n",
    "\n",
    "Kirjoita funktio pelaa_siirto(lauta: list, x: int, y: int, nappula: str), jossa sijoitetaan annettu pelinappula annettuihin koordinaatteihin pelilaudalla. Koordinaattien arvot ovat väliltä 0..2.\n",
    "\n",
    "Huomaa että tässä tehtävässä parametrit ovat eri päin kuin sudokussa, ensin annetaan saraketta kuvaava x ja sen jälkeen riviä kuvaava y.\n",
    "\n",
    "Pelilauta koostuu merkkijonoista seuraavasti:\n",
    "\n",
    "\"\": tyhjä ruutu\n",
    "\n",
    "\"X\": pelaajan 1 merkki\n",
    "\n",
    "\"O\": pelaajan 2 merkki\n",
    "\n",
    "Funktio palauttaa arvon True, jos nappula saatiin sijoitettua laudalle (eli jos paikka oli tyhjä), ja arvon False, jos paikka oli varattu TAI jos koordinaatin arvo oli liian pieni tai suuri (eli ei väliltä 0..2)."
   ]
  },
  {
   "cell_type": "markdown",
   "metadata": {},
   "source": [
    "Esimerkiksi:\n",
    "\n",
    "    lauta = [[\"\", \"\", \"\"], [\"\", \"\", \"\"], [\"\", \"\", \"\"]]\n",
    "    print(pelaa_siirto(lauta, 2, 0, \"X\"))\n",
    "    print(lauta)\n",
    "\n",
    "esimerkki tulostus:\n",
    "\n",
    "    True\n",
    "    [['', '', 'X'], ['', '', ''], ['', '', '']]\n",
    "\n"
   ]
  },
  {
   "cell_type": "code",
   "execution_count": 1,
   "metadata": {},
   "outputs": [
    {
     "name": "stdout",
     "output_type": "stream",
     "text": [
      "True\n",
      "True\n",
      "True\n",
      "False\n",
      "False\n",
      "[' ', ' ', 'X']\n",
      "[' ', 'X', ' ']\n",
      "['X', ' ', ' ']\n"
     ]
    }
   ],
   "source": [
    "def tulosta(lauta:list) -> None:\n",
    "    '''Prints lauta matrix'''\n",
    "    for line in lauta:\n",
    "        print(line)\n",
    "\n",
    "def siirto(lauta:list, x:int, y:int, xoro:str) -> None:\n",
    "    '''Add numbers to lauta matrix.'''\n",
    "    try:\n",
    "        if lauta[x][y] == \" \":\n",
    "            lauta[x][y] = xoro\n",
    "            return True\n",
    "        else:\n",
    "            return False\n",
    "    except IndexError:\n",
    "        return False\n",
    "\n",
    "def main():\n",
    "    lauta = [[\" \", \" \", \" \"], [\" \", \" \", \" \"], [\" \", \" \", \" \"]]\n",
    "    print(siirto(lauta, 2, 0, \"X\"))\n",
    "    print(siirto(lauta, 1, 1, \"X\"))\n",
    "    print(siirto(lauta, 0, 2, \"X\"))\n",
    "    print(siirto(lauta, 1, 1, \"O\"))\n",
    "    print(siirto(lauta, 4, 5, \"O\"))\n",
    "    tulosta(lauta)\n",
    "\n",
    "# run blocks of code only if our program is the main program executed\n",
    "if __name__ == \"__main__\":\n",
    "    main()\n",
    "\n"
   ]
  },
  {
   "cell_type": "markdown",
   "metadata": {},
   "source": [
    "Lisäharjoitus:\n",
    "\n",
    "https://www.practicepython.org/exercise/2015/11/16/26-check-tic-tac-toe.html"
   ]
  },
  {
   "cell_type": "markdown",
   "metadata": {},
   "source": [
    "Teht. Matriisin kääntö / MOOC\n",
    "\n",
    "Kirjoita funktio transponoi(matriisi: list), joka saa parametrikseen kaksiulotteisen kokonaislukuja sisältävän taulukon eli matriisin. Funktio transponoi matriisin eli muuntaa rivit sarakkeiksi ja päinvastoin.\n",
    "\n",
    "Voit olettaa, että matriisissa on yhtä monta riviä kuin sarakettakin (eli matriisi on neliömatriisi).\n",
    "\n",
    "Esimerkiksi matriisista\n",
    "\n",
    "    1 2 3\n",
    "    4 5 6\n",
    "    7 8 9\n",
    "\n",
    "tulisi transponoinnin jälkeen tällainen:\n",
    "\n",
    "    1 4 7\n",
    "    2 5 8\n",
    "    3 6 9\n",
    "    \n",
    "Funktio ei palauta mitään, vaan muokkaa parametrinaan saamaansa matriisia."
   ]
  },
  {
   "cell_type": "code",
   "execution_count": 5,
   "metadata": {},
   "outputs": [
    {
     "name": "stdout",
     "output_type": "stream",
     "text": [
      "Matriisi:\n",
      "[1, 2, 3, 4]\n",
      "[5, 6, 7, 8]\n",
      "[9, 10, 11, 12]\n",
      "[13, 14, 15, 16]\n",
      "Transmatriisi:\n",
      "[1, 5, 9, 13]\n",
      "[2, 6, 10, 14]\n",
      "[3, 7, 11, 15]\n",
      "[4, 8, 12, 16]\n"
     ]
    }
   ],
   "source": [
    "def printmatrix(matr:list) -> None:\n",
    "    for row in matr:\n",
    "        print(row)\n",
    "\n",
    "def transponoi(matriisi:list) -> None:\n",
    "    rows = len(matriisi)\n",
    "    cols = len(matriisi[0])\n",
    "    \n",
    "    #tehdään uusi tyhjä matriisi x,y -> y,x    \n",
    "    new = []\n",
    "    for i in range(cols):\n",
    "        newrow = []\n",
    "        for j in range(rows):\n",
    "            newrow.append(\"\")\n",
    "        new.append(newrow)\n",
    "\n",
    "    for x, row in enumerate(matriisi):\n",
    "        for y, var in enumerate(row):\n",
    "            new[y][x] = var \n",
    "\n",
    "    return new\n",
    "\n",
    "def main():\n",
    "    #matrix = [[1,2,3],[4,5,6],[7,8,9]]\n",
    "    matrix = [[1,2,3,4],[5,6,7,8],[9,10,11,12],[13,14,15,16]]\n",
    "    #matrix = [[1,2],[3,4],[5,6],[7,8],[9,10],[11,12],[13,14],[15,16]]\n",
    "    print(\"Matriisi:\")\n",
    "    printmatrix(matrix)\n",
    "    trans = transponoi(matrix)\n",
    "    print(\"Transmatriisi:\")\n",
    "    printmatrix(trans)\n",
    "\n",
    "# run blocks of code only if our program is the main program executed\n",
    "if __name__ == \"__main__\":\n",
    "    main()"
   ]
  },
  {
   "cell_type": "code",
   "execution_count": null,
   "metadata": {},
   "outputs": [],
   "source": [
    "# https://www.practicepython.org/exercise/2016/03/27/28-max-of-three.html"
   ]
  }
 ],
 "metadata": {
  "kernelspec": {
   "display_name": "Python 3.10.7 64-bit",
   "language": "python",
   "name": "python3"
  },
  "language_info": {
   "codemirror_mode": {
    "name": "ipython",
    "version": 3
   },
   "file_extension": ".py",
   "mimetype": "text/x-python",
   "name": "python",
   "nbconvert_exporter": "python",
   "pygments_lexer": "ipython3",
   "version": "3.10.7"
  },
  "orig_nbformat": 4,
  "vscode": {
   "interpreter": {
    "hash": "26de051ba29f2982a8de78e945f0abaf191376122a1563185a90213a26c5da77"
   }
  }
 },
 "nbformat": 4,
 "nbformat_minor": 2
}

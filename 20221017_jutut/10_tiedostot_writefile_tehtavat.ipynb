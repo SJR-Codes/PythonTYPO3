{
 "cells": [
  {
   "cell_type": "markdown",
   "metadata": {},
   "source": [
    "17.10.2022"
   ]
  },
  {
   "cell_type": "markdown",
   "metadata": {},
   "source": [
    "# Tiedostoon kirjoittaminen\n"
   ]
  },
  {
   "cell_type": "code",
   "execution_count": 15,
   "metadata": {},
   "outputs": [],
   "source": [
    "# luodaan uusi tiedosto\n",
    "with open(\"tiedostot/uusi_tiedosto.txt\", 'w') as tiedosto:\n",
    "    tiedosto.write('tässä uusi tiedosto')"
   ]
  },
  {
   "cell_type": "markdown",
   "metadata": {},
   "source": [
    "'w', kun tiedosto avataan, koko sisältö ylikirjoitaan"
   ]
  },
  {
   "cell_type": "code",
   "execution_count": 4,
   "metadata": {},
   "outputs": [],
   "source": [
    "# voi lisätä osissa, mutta ei vaihda riviä\n",
    "with open('tiedostot/uusi_tiedosto.txt', 'w') as tiedosto:\n",
    "    tiedosto.write('ensimmäinen rivi')\n",
    "    tiedosto.write('toinen rivi')\n",
    "    tiedosto.write('kolmas rivi')"
   ]
  },
  {
   "cell_type": "code",
   "execution_count": 5,
   "metadata": {},
   "outputs": [],
   "source": [
    "# lisää rivin vaihto ja encoding\n",
    "with open('tiedostot/uusi_tiedosto.txt', 'w', encoding='utf8') as tiedosto:\n",
    "    tiedosto.write('ensimmäinen rivi\\n')\n",
    "    tiedosto.write('toinen rivi\\n')\n",
    "    tiedosto.write('kolmas rivi\\n')"
   ]
  },
  {
   "cell_type": "code",
   "execution_count": 6,
   "metadata": {},
   "outputs": [],
   "source": [
    "# lisätään tiedostoon, huom! 'a'\n",
    "\n",
    "with open('tiedostot/uusi_tiedosto.txt', 'a', encoding='utf8') as tiedosto:\n",
    "    tiedosto.write('neljäs rivi\\n')\n",
    "    tiedosto.write('viides rivi\\n')"
   ]
  },
  {
   "cell_type": "code",
   "execution_count": 7,
   "metadata": {},
   "outputs": [],
   "source": [
    "# luodaan csv-tiedosto\n",
    "with open('tiedostot/koodarit.csv', 'w') as tiedosto:\n",
    "    tiedosto.write(\"Erkki;Windows;Pascal;10\\n\")\n",
    "    tiedosto.write(\"Matti;Linux;PHP;2\\n\")\n",
    "    tiedosto.write('Antti;Linux;Java;17\\n')\n",
    "    tiedosto.write('Emilia;Mac;Cobol;9\\n')"
   ]
  },
  {
   "cell_type": "code",
   "execution_count": 8,
   "metadata": {},
   "outputs": [
    {
     "name": "stdout",
     "output_type": "stream",
     "text": [
      "[['Erkki', 'Windows', 'Pascal', 10], ['Matti', 'Linux', 'Pascal', 2], ['Antti', 'Linux', 'Java', 17], ['Emilia', 'Mac', 'Cobol', 9]]\n"
     ]
    }
   ],
   "source": [
    "# luodaan lista\n",
    "koodarit = []\n",
    "\n",
    "koodarit.append([\"Erkki\", \"Windows\", \"Pascal\", 10])\n",
    "koodarit.append([\"Matti\", \"Linux\", \"Pascal\", 2])\n",
    "koodarit.append([\"Antti\", \"Linux\", \"Java\", 17])\n",
    "koodarit.append([\"Emilia\", \"Mac\", \"Cobol\", 9])\n",
    "\n",
    "print(koodarit)"
   ]
  },
  {
   "cell_type": "code",
   "execution_count": 9,
   "metadata": {},
   "outputs": [],
   "source": [
    "# lisätään lista tiedostoon\n",
    "with open(\"tiedostot/koodarit.csv\", 'w') as tiedosto:\n",
    "    for koodari in koodarit:\n",
    "        rivi = f'{koodari[0]};{koodari[1]};{koodari[2]};{koodari[3]}'\n",
    "        tiedosto.write(rivi+\"\\n\") "
   ]
  },
  {
   "cell_type": "code",
   "execution_count": 10,
   "metadata": {},
   "outputs": [],
   "source": [
    "# jos ei tiedetä kuinka monta riviä on\n",
    "with open(\"tiedostot/koodarit.csv\", 'w') as tiedosto:\n",
    "    for koodari in koodarit:\n",
    "        rivi = \"\"\n",
    "        for arvo in koodari: \n",
    "            rivi += f\"{arvo};\"\n",
    "        rivi = rivi[:-1]\n",
    "        tiedosto.write(rivi+\"\\n\") "
   ]
  },
  {
   "cell_type": "code",
   "execution_count": 11,
   "metadata": {},
   "outputs": [],
   "source": [
    "# tyhjentää olemassaolevan tiedoston\n",
    "with open('tiedostot/koodarit.csv', 'w') as tiedosto:\n",
    "    pass"
   ]
  },
  {
   "cell_type": "code",
   "execution_count": 12,
   "metadata": {},
   "outputs": [],
   "source": [
    "# tyhjentää tiedoston\n",
    "\n",
    "open('tiedostot/uusi_tiedosto.txt', 'w').close()"
   ]
  },
  {
   "cell_type": "code",
   "execution_count": 13,
   "metadata": {},
   "outputs": [],
   "source": [
    "# poistaa tiedoston järjestelmästä\n",
    "import os\n",
    "\n",
    "os.remove('tiedostot/uusi_tiedosto.txt')\n",
    "os.remove('tiedostot/koodarit.csv')"
   ]
  },
  {
   "cell_type": "markdown",
   "metadata": {},
   "source": [
    "Teht.  Omistuskirjoitus / mooc\n",
    "\n",
    "Tee ohjelma, joka kysyy nimeä ja luo \"omistuskirjoituksen\" käyttäjän haluamaan tiedostoon. Seuraavassa ohjelman esimerkkisuoritus:\n",
    "\n",
    "Kenelle teos omistetaan: Arto\n",
    "\n",
    "Mihin kirjoitetaan: omistettu.txt\n",
    "\n",
    "Tiedoston omistettu.txt sisällöksi tulee\n",
    "\n",
    "Hei Arto, toivomme viihtyisiä hetkiä python-kurssimateriaalin parissa! Terveisin mooc.fi-tiimi"
   ]
  },
  {
   "cell_type": "code",
   "execution_count": null,
   "metadata": {},
   "outputs": [],
   "source": [
    "#teht\n",
    "\n"
   ]
  },
  {
   "cell_type": "markdown",
   "metadata": {},
   "source": [
    "teht Päiväkirja /mooc\n",
    "\n",
    "Tee ohjelma, joka mallintaa yksinkertaista päiväkirjaa. Ohjelman tulee tallentaa päiväkirjamerkinnät tiedostoon paivakirja.txt. Kun ohjelma käynnistetään, se lukee merkinnät tiedostosta.\n",
    "\n",
    "Huom! Paikalliset testit voivat muuttaa tiedoston sisältöä - kopioi siis tiedosto talteen ennen testien ajamista, jos haluat säilyttää sen sisällön.\n",
    "\n",
    "Ohjelman tulee toimia seuraavan esimerkin mukaisesti:\n",
    "\n",
    "        Esimerkkitulostus\n",
    "        1 - lisää merkintä, 2 - lue merkinnät, 0 - lopeta\n",
    "        Valinta: 1\n",
    "        Anna merkintä: Tänään söin puuroa\n",
    "        Päiväkirja tallennettu\n",
    "\n",
    "        1 - lisää merkintä, 2 - lue merkinnät, 0 - lopeta\n",
    "        Valinta: 2\n",
    "        Merkinnät:\n",
    "        Tänään söin puuroa\n",
    "        1 - lisää merkintä, 2 - lue merkinnät, 0 - lopeta\n",
    "        Valinta: 1\n",
    "        Anna merkintä: Illalla kävin saunassa\n",
    "        Päiväkirja tallennettu\n",
    "\n",
    "        1 - lisää merkintä, 2 - lue merkinnät, 0 - lopeta\n",
    "        Valinta: 2\n",
    "        Merkinnät:\n",
    "        Tänään söin puuroa\n",
    "        Illalla kävin saunassa\n",
    "        1 - lisää merkintä, 2 - lue merkinnät, 0 - lopeta\n",
    "        Valinta: 0\n",
    "        Heippa!\n",
    "\n",
    "Uusi käynnistys:\n",
    "\n",
    "        Esimerkkitulostus\n",
    "        1 - lisää merkintä, 2 - lue merkinnät, 0 - lopeta\n",
    "        Valinta: 2\n",
    "        Merkinnät:\n",
    "        Tänään söin puuroa\n",
    "        Illalla kävin saunassa\n",
    "        1 - lisää merkintä, 2 - lue merkinnät, 0 - lopeta\n",
    "        Valinta: 0\n",
    "        Heippa!\n"
   ]
  },
  {
   "cell_type": "code",
   "execution_count": null,
   "metadata": {},
   "outputs": [],
   "source": [
    "# teht paivakirja\n",
    "\n"
   ]
  },
  {
   "cell_type": "markdown",
   "metadata": {},
   "source": [
    "\n",
    "teht Henkilöt talteen / mooc\n",
    "\n",
    "Kirjoita funktio tallenna_henkilo(henkilo: tuple) joka saa parametrikseen henkilöä kuvaavan tuplen. Tuplessa on seuraavat tiedot tässä järjestyksessä:\n",
    "\n",
    "Nimi (merkkijono)\n",
    "\n",
    "Ikä (kokonaisluku)\n",
    "\n",
    "Pituus (liukuluku)\n",
    "\n",
    "Tallenna henkilön tiedot tiedostoon henkilot.csv olemassa olevien tietojen perään. Tiedot tulee tallentaa muodosssa\n",
    "\n",
    "nimi;ikä;pituus\n",
    "\n",
    "eli yhden henkilön tiedot tulevat yhdelle riville. Jos funktiota esim. kutsuttaisiin parametrien arvoilla (\"Kimmo Kimmonen\", 37, 175.5), ohjelma kirjoittaisi tiedoston loppuun rivin\n",
    "\n",
    "Kimmo Kimmonen;37;175.5"
   ]
  },
  {
   "cell_type": "code",
   "execution_count": null,
   "metadata": {},
   "outputs": [],
   "source": [
    "\n",
    "#teht. \n",
    "\n"
   ]
  },
  {
   "cell_type": "markdown",
   "metadata": {},
   "source": [
    "Tehtavia:\n",
    "\n",
    "- muuta puhelinluetteloa niin, että numerot tallennetaan ja haetaan tiedostosta\n",
    "- tehtävä Kurssin tulokset, osa 4  https://ohjelmointi-22.mooc.fi/osa-6/2-tiedostojen-kirjoittaminen"
   ]
  }
 ],
 "metadata": {
  "kernelspec": {
   "display_name": "Python 3.9.5 64-bit",
   "language": "python",
   "name": "python3"
  },
  "language_info": {
   "codemirror_mode": {
    "name": "ipython",
    "version": 3
   },
   "file_extension": ".py",
   "mimetype": "text/x-python",
   "name": "python",
   "nbconvert_exporter": "python",
   "pygments_lexer": "ipython3",
   "version": "3.9.5"
  },
  "orig_nbformat": 4,
  "vscode": {
   "interpreter": {
    "hash": "36cf16204b8548560b1c020c4e8fb5b57f0e4c58016f52f2d4be01e192833930"
   }
  }
 },
 "nbformat": 4,
 "nbformat_minor": 2
}

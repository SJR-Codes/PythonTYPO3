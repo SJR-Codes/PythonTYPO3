{
 "cells": [
  {
   "cell_type": "markdown",
   "metadata": {},
   "source": [
    "13.10.2022"
   ]
  },
  {
   "cell_type": "markdown",
   "metadata": {},
   "source": [
    "# Tiedostojen käsittelyä"
   ]
  },
  {
   "cell_type": "markdown",
   "metadata": {},
   "source": [
    "## tavoitteet\n",
    "\n",
    "- osaa lukea tiedoston sisällön Pythonissa\n",
    "- tietää mikä on tekstitiedosto ja csv-tiedosto\n",
    "- osaa käsitellä tiedoston sisältöä ohjelmassa"
   ]
  },
  {
   "cell_type": "markdown",
   "metadata": {},
   "source": [
    "open()\n",
    "\n",
    "tiedoston nimi ja tehtävä\n",
    "\n",
    "        \"r\", read, oletusarvo, palautta virheen jos tiedostoa ei ole\n",
    "\n",
    "        \"a\", append, luo tiedoston, jos ei ole olemassa\n",
    "\n",
    "        \"w\", write, luo tiedoston, jos ei ole\n",
    "\n",
    "        \"x\", luo tietyn tiedoston, palauttaa virheen jos ei ole jo olemassa\n",
    "\n",
    "lisäksi:\n",
    "\n",
    "        \"t\", text, oletusarvo\n",
    "        \"b\", binary (esim valokuvat)\n",
    "\n",
    "https://www.w3schools.com/python/python_file_handling.asp\n"
   ]
  },
  {
   "cell_type": "code",
   "execution_count": 1,
   "metadata": {},
   "outputs": [
    {
     "data": {
      "text/plain": [
       "'tÃ¤hÃ¤n jotain\\nkjekrjkwnkqwn\\nkolme riviÃ¤ vaikka\\n'"
      ]
     },
     "execution_count": 1,
     "metadata": {},
     "output_type": "execute_result"
    }
   ],
   "source": [
    "# luodaan tiedosto resurssinhallinnassa\n",
    "\n",
    "# avataan tiedosto open()\n",
    "esim1 = open('esimteksti.txt', 'rt')\n",
    "\n",
    "# luetaan tiedosto read() \n",
    "esim1.read() # voi antaa parametriksi numeron"
   ]
  },
  {
   "cell_type": "code",
   "execution_count": 2,
   "metadata": {},
   "outputs": [
    {
     "name": "stdout",
     "output_type": "stream",
     "text": [
      "dasklakals\n",
      "\n",
      "kjlakÃ¶aaÃ¶\n",
      "\n"
     ]
    }
   ],
   "source": [
    "# lue rivi kerrallaan\n",
    "\n",
    "esim2 = open('tiedostot\\esimteksti2.txt', 'r')\n",
    "\n",
    "print(esim2.readline())\n",
    "print(esim2.readline())"
   ]
  },
  {
   "cell_type": "code",
   "execution_count": 3,
   "metadata": {},
   "outputs": [
    {
     "name": "stdout",
     "output_type": "stream",
     "text": [
      "dasklakals\n",
      "\n",
      "kjlakÃ¶aaÃ¶\n",
      "\n",
      "alksdlaklsakl\n",
      "\n",
      "\n",
      "\n",
      "U:\\Users\\kerttuli.ratilainen\\Documents\\python\\tiedostot\\esimteksti2.txt\n",
      "\n"
     ]
    }
   ],
   "source": [
    "# lue koko tiedosto for-loopissa\n",
    "\n",
    "esim_3 = open('tiedostot\\esimteksti2.txt', 'r')\n",
    "for i in esim_3:\n",
    "    print(i)"
   ]
  },
  {
   "cell_type": "code",
   "execution_count": 4,
   "metadata": {},
   "outputs": [
    {
     "name": "stdout",
     "output_type": "stream",
     "text": [
      "dasklakals\n",
      "kjlakÃ¶aaÃ¶\n",
      "alksdlaklsakl\n",
      "\n",
      "U:\\Users\\kerttuli.ratilainen\\Documents\\python\\tiedostot\\esimteksti2.txt\n",
      "\n"
     ]
    }
   ],
   "source": [
    "# with open() as\n",
    "# avaa nätimmin kuin pelkkä read()\n",
    "\n",
    "# avaa\n",
    "with open('tiedostot\\esimteksti2.txt') as tiedosto:\n",
    "    # lukee\n",
    "    sisalto = tiedosto.read()\n",
    "    print(sisalto)"
   ]
  },
  {
   "cell_type": "code",
   "execution_count": 16,
   "metadata": {},
   "outputs": [
    {
     "name": "stdout",
     "output_type": "stream",
     "text": [
      "dasklakals\n",
      "laskuri: 1  rivi:  dasklakals\n",
      "rivin pituus 10\n",
      "kjlaköaaö\n",
      "laskuri: 2  rivi:  kjlaköaaö\n",
      "rivin pituus 9\n",
      "alksdlaklsakl\n",
      "laskuri: 3  rivi:  alksdlaklsakl\n",
      "rivin pituus 13\n",
      "\n",
      "laskuri: 4  rivi:  \n",
      "rivin pituus 0\n",
      "U:\\Users\\kerttuli.ratilainen\\Documents\\python\\tiedostot\\esimteksti2.txt\n",
      "laskuri: 5  rivi:  U:\\Users\\kerttuli.ratilainen\\Documents\\python\\tiedostot\\esimteksti2.txt\n",
      "rivin pituus 71\n",
      "Rivien yhteispituus: 103\n"
     ]
    }
   ],
   "source": [
    "# encoding='utf8, ääkköset\n",
    "# rivin pituus\n",
    "\n",
    "with open(\"tiedostot\\esimteksti2.txt\", 'r', encoding='utf8') as tiedosto:\n",
    "    laskuri = 0\n",
    "    yhteispituus = 0\n",
    "\n",
    "    for rivi in tiedosto:\n",
    "        rivi = rivi.replace(\"\\n\", \"\") # rivinvaihto korjataan tyhjällä\n",
    "        print(rivi)\n",
    "        laskuri += 1\n",
    "        print(\"laskuri:\", laskuri, \" rivi: \", rivi)\n",
    "        pituus = len(rivi)\n",
    "        print(\"rivin pituus\", len(rivi))\n",
    "        # lasketaan kaikki rivit yhteen\n",
    "        yhteispituus += pituus\n",
    "\n",
    "print(\"Rivien yhteispituus:\", yhteispituus)"
   ]
  },
  {
   "cell_type": "markdown",
   "metadata": {},
   "source": [
    "## CSV-tiedosto\n",
    "\n",
    "tiedot erotetaan usein joko pilkulla (,) tai puolipisteellä (;)"
   ]
  },
  {
   "cell_type": "code",
   "execution_count": 6,
   "metadata": {},
   "outputs": [
    {
     "name": "stdout",
     "output_type": "stream",
     "text": [
      "apina,banaani,cembalo\n",
      "<class 'str'>\n",
      "['apina', 'banaani', 'cembalo']\n",
      "<class 'list'>\n",
      "<class 'str'>\n",
      "apina\n",
      "<class 'str'>\n",
      "banaani\n",
      "<class 'str'>\n",
      "cembalo\n"
     ]
    }
   ],
   "source": [
    "# merkkijono jaetaan osiin split()\n",
    "# \n",
    "teksti = \"apina,banaani,cembalo\"\n",
    "print(teksti)\n",
    "print(type(teksti))\n",
    "\n",
    "# split() luo listan sanoista\n",
    "sanat = teksti.split(',')\n",
    "print(sanat)\n",
    "print(type(sanat))\n",
    "\n",
    "# for loopilla luetaan sana kerrallaan\n",
    "for sana in sanat:\n",
    "    print(type(sana))\n",
    "    print(sana)"
   ]
  },
  {
   "cell_type": "code",
   "execution_count": 15,
   "metadata": {},
   "outputs": [
    {
     "name": "stdout",
     "output_type": "stream",
     "text": [
      "{'Pekka': [5, 4, 5, 3, 4, 5, 5, 4, 2, 4], 'Paula': [3, 4, 2, 4, 4, 2, 3, 1, 3, 3], 'Pirjo': [4, 5, 5, 4, 5, 5, 4, 5, 4, 4]}\n"
     ]
    }
   ],
   "source": [
    "# arvosanat sanakirjaan /dictionaryyn\n",
    "arvosanat = {}\n",
    "\n",
    "with open('tiedostot/arvosanat.csv') as tiedosto:\n",
    "    for rivi in tiedosto:\n",
    "        rivi = rivi.replace(\"\\n\", \"\") # poistetaan rivin vaihdot\n",
    "        osat = rivi.split(';')  # jaetaan listaksi\n",
    "        nimi = osat[0]         \n",
    "        # arvosanat = osat[1:]\n",
    "        # print('Nimi:', nimi)\n",
    "        # print('Arvosanat', arvosanat)\n",
    "        arvosanat[nimi] = []        # annetaan arvosanat-sanakirjalle avaimeksi nimi ja arvoksi lista\n",
    "        #print(arvosanat)\n",
    "        for arvosana in osat[1:]:           # nimi jätetään arvosanat listasta pois\n",
    "            arvosanat[nimi].append(int(arvosana)) # listaan lisätään kaikki arvosanat\n",
    "\n",
    "print(arvosanat)"
   ]
  },
  {
   "cell_type": "code",
   "execution_count": null,
   "metadata": {},
   "outputs": [
    {
     "name": "stdout",
     "output_type": "stream",
     "text": [
      "{'Pekka': [5, 4, 5, 3, 4, 5, 5, 4, 2, 4], 'Paula': [3, 4, 2, 4, 4, 2, 3, 1, 3, 3], 'Pirjo': [4, 5, 5, 4, 5, 5, 4, 5, 4, 4]}\n",
      "Pekka: paras arvosana 5, keskiarvo 4.1\n",
      "Paula: paras arvosana 4, keskiarvo 2.9\n",
      "Pirjo: paras arvosana 5, keskiarvo 4.5\n"
     ]
    }
   ],
   "source": [
    "print(arvosanat)\n",
    "for nimi, lista in arvosanat.items():\n",
    "    paras = max(lista)\n",
    "    keskiarvo = sum(lista)/len(lista)\n",
    "    print(f'{nimi}: paras arvosana {paras}, keskiarvo {keskiarvo}')"
   ]
  },
  {
   "cell_type": "code",
   "execution_count": 11,
   "metadata": {},
   "outputs": [
    {
     "name": "stdout",
     "output_type": "stream",
     "text": [
      "nimet: {'080488-123X': 'Pekka Mikkola', '290274-044S': 'Liisa Marttinen', '010479-007Z': 'Arto Vihavainen', '010499-345K': 'Leevi Hellas'}\n",
      "palkat: {'080488-123X': 3300, '290274-044S': 4350, '010479-007Z': 2500}\n",
      "ansiot:\n",
      "Pekka Mikkola    3300 euroa\n",
      "Liisa Marttinen  4350 euroa\n",
      "Arto Vihavainen  2500 euroa\n",
      "Leevi Hellas     0 euroa\n"
     ]
    }
   ],
   "source": [
    "# yhdistetään kaksi eri tiedostoa\n",
    "nimet = {}\n",
    "\n",
    "with open('tiedostot/tyontekijat.csv') as tiedosto:\n",
    "    for rivi in tiedosto:\n",
    "        osat = rivi.split(';')\n",
    "        if osat[0] == 'hetu':\n",
    "            continue\n",
    "        nimet[osat[0]] = osat[1]\n",
    "        \n",
    "print('nimet:', nimet)\n",
    "\n",
    "\n",
    "palkat = {}\n",
    "\n",
    "with open('tiedostot/palkat.csv') as tiedosto:\n",
    "    for rivi in tiedosto:\n",
    "        osat = rivi.split(';')\n",
    "        #print(osat)\n",
    "        if osat[0] == 'hetu': # ensimmäinen rivi kertoo otsikot se ohitetaan\n",
    "            continue\n",
    "        palkat[osat[0]] = int(osat[1]) + int(osat[2])\n",
    "        \n",
    "\n",
    "print('palkat:', palkat)\n",
    "\n",
    "print('ansiot:')\n",
    "        \n",
    "for hetu, nimi in nimet.items():\n",
    "    if hetu in palkat:\n",
    "        palkka = palkat[hetu]\n",
    "        #print(palkka)\n",
    "        print(f'{nimi:<16} {palkka} euroa')\n",
    "    else:\n",
    "        print(f'{nimi:<16} 0 euroa')"
   ]
  },
  {
   "cell_type": "markdown",
   "metadata": {},
   "source": [
    "## tehtavia"
   ]
  },
  {
   "cell_type": "markdown",
   "metadata": {},
   "source": [
    "https://www.practicepython.org/exercise/2014/12/06/22-read-from-file.html myös extra\n",
    "\n",
    "kuinka paljon nimiä on yhteensä?\n",
    "\n",
    "kenen nimiä on eniten?\n",
    "\n",
    "\n",
    "https://www.practicepython.org/exercise/2016/09/24/30-pick-word.html\n"
   ]
  },
  {
   "cell_type": "code",
   "execution_count": 1,
   "metadata": {},
   "outputs": [
    {
     "name": "stdout",
     "output_type": "stream",
     "text": [
      "{'Darth': 31, 'Luke': 15, 'Lea': 54}\n"
     ]
    }
   ],
   "source": [
    "#practice python teht 22\n",
    "\n",
    "counter = {}\n",
    "with open('tiedostot\\sample.txt') as f:\n",
    "\tline = f.readline()\n",
    "\twhile line:\n",
    "\t\tline = line.strip()\n",
    "\t\tif line in counter:\n",
    "\t\t\tcounter[line] += 1\n",
    "\t\telse:\n",
    "\t\t\tcounter[line] = 1\n",
    "\t\tline = f.readline()\n",
    "\n",
    "print(counter)\n"
   ]
  },
  {
   "cell_type": "code",
   "execution_count": 2,
   "metadata": {},
   "outputs": [
    {
     "data": {
      "text/plain": [
       "100"
      ]
     },
     "execution_count": 2,
     "metadata": {},
     "output_type": "execute_result"
    }
   ],
   "source": [
    "#kuinka monta nimeä yhteensä?\n",
    "sum(counter.values())"
   ]
  },
  {
   "cell_type": "code",
   "execution_count": 3,
   "metadata": {},
   "outputs": [
    {
     "data": {
      "text/plain": [
       "3"
      ]
     },
     "execution_count": 3,
     "metadata": {},
     "output_type": "execute_result"
    }
   ],
   "source": [
    "#kuinka monta eri nimeä?\n",
    "len(counter)"
   ]
  },
  {
   "cell_type": "code",
   "execution_count": 6,
   "metadata": {},
   "outputs": [
    {
     "name": "stdout",
     "output_type": "stream",
     "text": [
      "Lea 54\n"
     ]
    }
   ],
   "source": [
    "# mitä nimeä on eniten ja kuinka monta?\n",
    "\n",
    "print(max(counter, key=counter.get), max(counter.values()))\n",
    "\n"
   ]
  },
  {
   "cell_type": "code",
   "execution_count": null,
   "metadata": {},
   "outputs": [],
   "source": []
  },
  {
   "cell_type": "markdown",
   "metadata": {},
   "source": [
    "https://ohjelmointi-22.mooc.fi/osa-6/1-tiedostojen-lukeminen\n",
    "\n",
    "tee Kurssin tulokset, osat 1, 2 ja 3"
   ]
  },
  {
   "cell_type": "code",
   "execution_count": 30,
   "metadata": {},
   "outputs": [
    {
     "name": "stdout",
     "output_type": "stream",
     "text": [
      "nimi                          teht_lkm  teht_pist koe_pist  yht_pist  arvosana  \n",
      "pekka peloton                 21        5         9         14        0\n",
      "jaana javanainen              27        6         11        17        1\n",
      "liisa virtanen                35        8         14        22        3\n"
     ]
    }
   ],
   "source": [
    "if False:   #True\n",
    "    # tänne ei tulla\n",
    "    opiskelijatiedot = input(\"Opiskelijatiedot: \")\n",
    "    tehtavatiedot = input(\"Tehtävätiedot: \")\n",
    "    koepisteet = input(\"Koepisteet: \")\n",
    "else:\n",
    "    # kovakoodatut syötteet\n",
    "    opiskelijatiedot = \"tiedostot/opiskelijat1.csv\"\n",
    "    tehtavatiedot = \"tiedostot/tehtavat1.csv\"\n",
    "    koepisteet = \"tiedostot/koepisteet1.csv\"\n",
    "\n",
    "opiskelijat = {}    \n",
    "\n",
    "with open(opiskelijatiedot) as tiedosto:\n",
    "    for rivi in tiedosto:\n",
    "        osat = rivi.strip().split(';')\n",
    "        if osat[0] == \"opnro\":\n",
    "            continue\n",
    "        opiskelijat.update({osat[0]:osat[1]+\" \"+osat[2]})\n",
    "#print(opiskelijat)\n",
    "\n",
    "harjoitukset = {}\n",
    "\n",
    "with open(tehtavatiedot) as tiedosto:\n",
    "    for rivi in tiedosto:\n",
    "        osat = rivi.split(';')\n",
    "        if osat[0] == \"opnro\":\n",
    "            continue\n",
    "        harjoitukset[osat[0]] = list(map(int,osat[1:]))\n",
    "        #summa voidaan laskea myös täällä\n",
    "        # summa = 0\n",
    "        # for i in osat[1:len(osat)]:\n",
    "        #     summa += i\n",
    "        # harjoitukset.update({osat[0]:summa})\n",
    "\n",
    "#print(harjoitukset)\n",
    "\n",
    "# teht 1\n",
    "\n",
    "for opnro, tiedot in opiskelijat.items():\n",
    "    if opnro in harjoitukset:\n",
    "        tulokset = harjoitukset[opnro]\n",
    "        tulokset = sum(tulokset)\n",
    "        #print(tiedot, tulokset)\n",
    "\n",
    "# teht 2\n",
    "\n",
    "koe = {}\n",
    "\n",
    "with open(koepisteet) as tiedosto:\n",
    "    for rivi in tiedosto:\n",
    "        osat = rivi.split(';')\n",
    "        if osat[0] == \"opnro\":\n",
    "            continue\n",
    "        koe[osat[0]] = list(map(int,osat[1:]))\n",
    "\n",
    "#print(koe)\n",
    "\n",
    "otsikko = [\"nimi\",\"teht_lkm\", \"teht_pist\", \"koe_pist\", \"yht_pist\", \"arvosana\"]\n",
    "\n",
    "print(f'{otsikko[0]:30}{otsikko[1]:10}{otsikko[2]:10}{otsikko[3]:10}{otsikko[4]:10}{otsikko[5]:10}')\n",
    "\n",
    "for opnro, nimi in opiskelijat.items():\n",
    "    if opnro in harjoitukset:\n",
    "        koe_pisteet = 0\n",
    "        if opnro in koe:\n",
    "            koe_pisteet = sum(koe[opnro])\n",
    "            #print(koe_pisteet)\n",
    "        harjoitus_pisteet = int(sum(harjoitukset[opnro])/40*10)\n",
    "        #print(harjoitus_pisteet)\n",
    "        yhteispisteet = koe_pisteet + harjoitus_pisteet\n",
    "        arvosana = 0\n",
    "        rajat = [0,15,18,21,24,28]\n",
    "        for i in range(len(rajat)):\n",
    "            if yhteispisteet < rajat[i]:\n",
    "                arvosana = i-1\n",
    "                break\n",
    "            else:\n",
    "                arvosana = i\n",
    "        #print(f'{nimi}, {arvosana}')\n",
    "        print(f'{nimi:30}{sum(harjoitukset[opnro]):<10}{harjoitus_pisteet:<10}{koe_pisteet:<10}{koe_pisteet+harjoitus_pisteet:<10}{arvosana}')\n",
    "\n",
    "\n",
    "\n"
   ]
  }
 ],
 "metadata": {
  "kernelspec": {
   "display_name": "Python 3.10.7 64-bit",
   "language": "python",
   "name": "python3"
  },
  "language_info": {
   "codemirror_mode": {
    "name": "ipython",
    "version": 3
   },
   "file_extension": ".py",
   "mimetype": "text/x-python",
   "name": "python",
   "nbconvert_exporter": "python",
   "pygments_lexer": "ipython3",
   "version": "3.10.8"
  },
  "orig_nbformat": 4,
  "vscode": {
   "interpreter": {
    "hash": "26de051ba29f2982a8de78e945f0abaf191376122a1563185a90213a26c5da77"
   }
  }
 },
 "nbformat": 4,
 "nbformat_minor": 2
}

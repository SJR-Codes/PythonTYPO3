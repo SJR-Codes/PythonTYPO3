{
 "cells": [
  {
   "cell_type": "markdown",
   "metadata": {},
   "source": [
    "30.9.2022"
   ]
  },
  {
   "cell_type": "markdown",
   "metadata": {},
   "source": [
    "# Merkkijonot"
   ]
  },
  {
   "cell_type": "markdown",
   "metadata": {},
   "source": [
    "tavoitteet:\n",
    "\n",
    "- osaa tarkistaa merkkijonon pituuden\n",
    "- osaa tulostaa merkkijonon merkit for-loopilla\n",
    "- osaa muokata lukuarvon merkkijonoksi esimerkiksi tulostusta varten\n",
    "- käyttää operaattoreita + ja * merkkijonojen kanssa\n",
    "- ymmärtää, miten merkkijonoa voi käsitellä esimerkiksi indeksin avulla\n",
    "- osaa etsiä osajonoja ja laskea niiden määrän merkkijonosta\n",
    "- osaa etsiä ja muokata isoja ja pieniä alkukirjaimia\n",
    "- tuntee muutamia merkkijonon käsittelyyn tarkoitettuja metodeja\n",
    "\n",
    "\n",
    "merkkijonometodeja:\n",
    "\n",
    "https://www.w3schools.com/python/python_strings_methods.asp"
   ]
  },
  {
   "cell_type": "markdown",
   "metadata": {},
   "source": [
    "# Kertausta"
   ]
  },
  {
   "cell_type": "code",
   "execution_count": null,
   "metadata": {},
   "outputs": [],
   "source": [
    "# muuttuja ja tulostus\n",
    "esim = \"esimerkki\"\n",
    "print(esim)"
   ]
  },
  {
   "cell_type": "code",
   "execution_count": null,
   "metadata": {},
   "outputs": [],
   "source": [
    "# sanan pituus\n",
    "len(esim)"
   ]
  },
  {
   "cell_type": "code",
   "execution_count": null,
   "metadata": {},
   "outputs": [],
   "source": [
    "# for loop\n",
    "\n",
    "for i in \"merkkijono\":\n",
    "    print(i)"
   ]
  },
  {
   "cell_type": "code",
   "execution_count": null,
   "metadata": {},
   "outputs": [],
   "source": [
    "# muuttaa jonkun arvon stringiksi, tarvitaan esim tulostuksissa\n",
    "str()"
   ]
  },
  {
   "cell_type": "code",
   "execution_count": null,
   "metadata": {},
   "outputs": [],
   "source": [
    "# voi yhdistää operaattoreilla\n",
    "\n",
    "esim2 = esim*3\n",
    "print(esim2)"
   ]
  },
  {
   "cell_type": "code",
   "execution_count": null,
   "metadata": {},
   "outputs": [],
   "source": [
    "# tulostus usealle riville joko \"\"\" \"\"\" tai hipsut\n",
    "\n",
    "print(\"\"\"Twinkle, twinkle, little star, \n",
    "    How I wonder what you are!\n",
    "            Up above the world so high, \n",
    "            Like a diamond in the sky. \n",
    "Twinkle, twinkle, little star, \n",
    "    How I wonder what you are\"\"\")"
   ]
  },
  {
   "cell_type": "markdown",
   "metadata": {},
   "source": [
    "# merkkijonon indeksi\n",
    "\n",
    "sana = \"merkkijono\"\n",
    "\n",
    "indeksi \n",
    "0 | 1 | 2| 3 | 4| 5 |6 | 7| 8 | 9\n",
    ":----: | :----: | :----: | :----: | :----: | :----: | :----:| :----: | :----: | :----:\n",
    "m | e| r | k| k |i | j| o| n | o"
   ]
  },
  {
   "cell_type": "code",
   "execution_count": 65,
   "metadata": {},
   "outputs": [
    {
     "name": "stdout",
     "output_type": "stream",
     "text": [
      "m\n",
      "e\n",
      "k\n",
      "o\n"
     ]
    }
   ],
   "source": [
    "# Esim. merkkijono jos hei, niin mitä tapahtuu?\n",
    "\n",
    "sana = input(\"Anna merkkijono: \")\n",
    "print(sana[0]) # ensimmäinen\n",
    "print(sana[1])\n",
    "print(sana[3]) # jos  esim 'hei'  > IndexError: string index out of range\n",
    "print(sana[len(sana)-1]) # viimeinen"
   ]
  },
  {
   "cell_type": "markdown",
   "metadata": {},
   "source": [
    "# negatiivinen indeksi\n",
    "\n",
    "sana = \"merkkijono\"\n",
    "\n",
    "indeksi \n",
    "-10 |-9 | -8 | -7| -6 | -5|-4 |-3 | -2 | -1\n",
    ":----: | :----: | :----: | :----: | :----: | :----: | :----:| :----: | :----: | :----:\n",
    "m | e| r | k| k |i | j| o| n | o\n"
   ]
  },
  {
   "cell_type": "code",
   "execution_count": 67,
   "metadata": {},
   "outputs": [
    {
     "name": "stdout",
     "output_type": "stream",
     "text": [
      "i\n",
      "k\n",
      "m\n"
     ]
    }
   ],
   "source": [
    "# Esim. \n",
    "\n",
    "sana = \"esimerkki\" #input(\"Anna merkkijono: \")\n",
    "print(sana[-1]) \n",
    "print(sana[-3])\n",
    "print(sana[-6]) "
   ]
  },
  {
   "cell_type": "markdown",
   "metadata": {},
   "source": [
    "TEHT. Lopusta alkuun / MOOC\n",
    "\n",
    "Kirjoita ohjelma, joka kysyy käyttäjältä merkkijonon ja tulostaa sitten merkkijonon merkit allekkain käänteisessä järjestyksessä lopusta alkuun.\n",
    "\n",
    "Esimerkkisuoritus:\n",
    "\n",
    "Anna merkkijono: heippa\n",
    "\n",
    "a\n",
    "\n",
    "p\n",
    "\n",
    "p\n",
    "\n",
    "i\n",
    "\n",
    "e\n",
    "\n",
    "h"
   ]
  },
  {
   "cell_type": "code",
   "execution_count": 7,
   "metadata": {},
   "outputs": [
    {
     "name": "stdout",
     "output_type": "stream",
     "text": [
      "a\n",
      "p\n",
      "p\n",
      "i\n",
      "e\n",
      "h\n"
     ]
    }
   ],
   "source": [
    "jono = input(\"Anna merkkijono:\")\n",
    "for i in jono[::-1]:\n",
    "    print(i)"
   ]
  },
  {
   "cell_type": "markdown",
   "metadata": {},
   "source": [
    "TEHT.  Risuaitaviiva /MOOC\n",
    "\n",
    "Tee ohjelma, joka piirtää käyttäjän määräämän levyisen risuaitaviivan.\n",
    "\n",
    "Esimerkkitulostus\n",
    "\n",
    "Leveys: 3\n",
    "\n",
    "`###`\n",
    "\n",
    "Leveys: 8\n",
    "\n",
    "########"
   ]
  },
  {
   "cell_type": "code",
   "execution_count": 4,
   "metadata": {},
   "outputs": [
    {
     "name": "stdout",
     "output_type": "stream",
     "text": [
      "#####\n"
     ]
    }
   ],
   "source": [
    "x = int(input(\"Leveys:\"))\n",
    "print(\"#\"*x)"
   ]
  },
  {
   "cell_type": "code",
   "execution_count": 12,
   "metadata": {},
   "outputs": [
    {
     "name": "stdout",
     "output_type": "stream",
     "text": [
      "#####\n",
      "#####\n",
      "#####\n",
      "#####\n",
      "#####\n",
      "\n"
     ]
    }
   ],
   "source": [
    "x = int(input(\"Leveys: \"))\n",
    "y = int(input(\"Korkeus: \"))\n",
    "#for _ in range(0,y):\n",
    "#    print(\"#\"*x)\n",
    "print(y * (\"#\" * x + \"\\n\"))"
   ]
  },
  {
   "cell_type": "markdown",
   "metadata": {},
   "source": [
    "TEHT. Alleviivaus / MOOC\n",
    "\n",
    "Tee ohjelma, joka pyytää käyttäjältä merkkijonoja ja tulostaa kunkin merkkijonon oheisen esimerkin mukaisesti alleviivattuna. Ohjelman suoritus päättyy, kun käyttäjä syöttää tyhjän merkkijonon, eli merkkijonon jonka pituus on 0.\n",
    "\n",
    "Esimerkkitulostus\n",
    "\n",
    "Anna merkkijono: Moi kaikki!\n",
    "\n",
    "Moi kaikki!\n",
    "\n",
    "`-----------`\n",
    "\n",
    "Anna merkkijono: Tämä on testijono\n",
    "\n",
    "Tämä on testijono\n",
    "\n",
    "`-----------------`\n",
    "\n",
    "Anna merkkijono: a\n",
    "\n",
    "a\n",
    "\n",
    "`-`\n",
    "\n",
    "Anna merkkijono:"
   ]
  },
  {
   "cell_type": "code",
   "execution_count": 6,
   "metadata": {},
   "outputs": [
    {
     "name": "stdout",
     "output_type": "stream",
     "text": [
      "hei\n",
      "___\n",
      "juu\n",
      "___\n",
      "dfdffdgfgfdg\n",
      "____________\n"
     ]
    }
   ],
   "source": [
    "while True:\n",
    "    x = input(\"Anna merkkijono: \")\n",
    "    if len(x) <= 0:\n",
    "        break\n",
    "    else:\n",
    "        print(x)\n",
    "        print(\"_\" * len(x))"
   ]
  },
  {
   "cell_type": "markdown",
   "metadata": {},
   "source": [
    "## osajonot\n",
    "\n",
    "\n",
    "\n",
    "- laskee mukaan ensimmäisen eli tässä tapauksessa indeksi 1, mutta ei viimeistä eli indeksi 5\n",
    "\n",
    "print(sana[1:5]) \n",
    "\n",
    "- jos alkukohta puuttuu, oletetaan, että se on 0\n",
    "\n",
    "print(sana[:2])\n",
    "\n",
    "- jos loppukohta puuttuu oletetaan, että se on merkkijonon pituus\n",
    "\n",
    "print(sana[2:])"
   ]
  },
  {
   "cell_type": "code",
   "execution_count": 50,
   "metadata": {},
   "outputs": [
    {
     "name": "stdout",
     "output_type": "stream",
     "text": [
      "erkk\n",
      "me\n",
      "rkkijono\n"
     ]
    }
   ],
   "source": [
    "# esim\n",
    "sana = \"merkkijono\" #input(\"Anna merkkijono: \")\n",
    "print(sana[1:5])\n",
    "print(sana[:2])\n",
    "print(sana[2:])"
   ]
  },
  {
   "cell_type": "markdown",
   "metadata": {},
   "source": [
    "# osajonon etsiminen\n",
    "\n",
    "- in-operaattorin avulla\n",
    "- find() metodi\n",
    "- indeksointi"
   ]
  },
  {
   "cell_type": "code",
   "execution_count": 51,
   "metadata": {},
   "outputs": [
    {
     "name": "stdout",
     "output_type": "stream",
     "text": [
      "True\n",
      "False\n",
      "True\n",
      "False\n"
     ]
    }
   ],
   "source": [
    "# Esim. in-operaattori\n",
    "mjono = \"testi\"\n",
    "\n",
    "print(\"t\" in mjono)\n",
    "print(\"x\" in mjono)\n",
    "print(\"est\" in mjono)\n",
    "print(\"ets\" in mjono)"
   ]
  },
  {
   "cell_type": "markdown",
   "metadata": {},
   "source": [
    "find()\n",
    "\n",
    "rfind()\n",
    "\n",
    "missä merkkijonon indeksissä haluttu merkki tai merkkijono on joko alusta tai lopusta lähtine"
   ]
  },
  {
   "cell_type": "code",
   "execution_count": 52,
   "metadata": {},
   "outputs": [
    {
     "name": "stdout",
     "output_type": "stream",
     "text": [
      "4\n",
      "83\n"
     ]
    }
   ],
   "source": [
    "# Esim.\n",
    "\n",
    "esimTeksti2= \"Parametrille on mahdollista lisätä jonkun oletus arvo jos kutsuttaessa ei annetaan mitään sille\"\n",
    "\n",
    "#le\n",
    "\n",
    "eka = esimTeksti2.find('m')\n",
    "toka = esimTeksti2.rfind('m')\n",
    "print(eka)\n",
    "print(toka)"
   ]
  },
  {
   "cell_type": "markdown",
   "metadata": {},
   "source": [
    "TEHT. Ensimmäisen osajonon haku / MOOC\n",
    "\n",
    "Tee ohjelma, joka kysyy käyttäjältä merkkijonoa ja yksittäistä merkkiä. Ohjelma tulostaa merkkijonosta löytyvän ensimmäisen kolmen merkin pituisen osajonon, jonka alkukirjain on käyttäjän syöttämä merkki. Voit olettaa, että merkkijono on vähintään kolmen merkin pituinen.\n",
    "\n",
    "Esimerkkitulostus\n",
    "\n",
    "Sana: apinatalo\n",
    "\n",
    "Merkki: a\n",
    "\n",
    "api\n",
    "\n",
    "Sana: banaani\n",
    "\n",
    "Merkki: n\n",
    "\n",
    "naa\n",
    "\n",
    "Sana: tomaatti\n",
    "\n",
    "Merkki: x\n",
    "\n",
    "\n",
    "Sana: python\n",
    "\n",
    "Merkki: n"
   ]
  },
  {
   "cell_type": "code",
   "execution_count": 51,
   "metadata": {},
   "outputs": [],
   "source": [
    "jono = \"python\" #input(\"Sana: \")\n",
    "merkki = \"n\" # input(\"Merkki\")\n",
    "\n",
    "alku = jono.find(merkki)\n",
    "jono = jono[alku:alku+3]\n",
    "if len(jono) >= 3:\n",
    "    print(jono)"
   ]
  },
  {
   "cell_type": "markdown",
   "metadata": {},
   "source": [
    "TEHT.\n",
    "\n",
    "Tee edellisestä ohjelmasta laajennettu versio, joka tulostaa kaikki merkkijonon sisältämät kolmen merkin pituiset osajonot, joiden alkukirjain on käyttäjän syöttämä merkki. Voit olettaa, että merkkijono on vähintään kolmen merkin pituinen.\n",
    "\n",
    "Esimerkkitulostus\n",
    "Sana: apinatalo\n",
    "\n",
    "Merkki: a\n",
    "\n",
    "api\n",
    "\n",
    "ata\n",
    "\n",
    "alo\n",
    "\n",
    "\n",
    "\n",
    "Sana: banaani\n",
    "\n",
    "Merkki: n\n",
    "\n",
    "naa\n",
    "\n",
    "Vihje seuraava esimerkki saattaa antaa jotain inspiraatiota eräästä tavasta miten tätä tehtävää voi lähestyä\n",
    "\n",
    "sana = input(\"Sana: \")\n",
    "\n",
    "while True:\n",
    "\n",
    "    if len(sana) == 0:\n",
    "\n",
    "        break\n",
    "\n",
    "    print(sana)\n",
    "\n",
    "    sana = sana[2:]\n",
    "\n",
    "Esimerkkitulostus\n",
    "\n",
    "Sana: apinatalo\n",
    "\n",
    "apinatalo\n",
    "\n",
    "inatalo\n",
    "\n",
    "atalo\n",
    "\n",
    "alo\n",
    "\n",
    "o"
   ]
  },
  {
   "cell_type": "code",
   "execution_count": 3,
   "metadata": {},
   "outputs": [
    {
     "name": "stdout",
     "output_type": "stream",
     "text": [
      "api\n",
      "ata\n",
      "alo\n"
     ]
    }
   ],
   "source": [
    "jono = input(\"Sana: \")\n",
    "merkki = input(\"Merkki\")\n",
    "\n",
    "while True:\n",
    "    if jono[0] == merkki:\n",
    "        x = jono[:3]\n",
    "        if len(x) >= 3:\n",
    "            print(x)\n",
    "    jono = jono[1:]\n",
    "    if len(jono) < 3:\n",
    "        break"
   ]
  },
  {
   "cell_type": "markdown",
   "metadata": {},
   "source": [
    "count()\n",
    "\n",
    "laskee kuinka monta kertaa haluttu merkkijono esiintyy tekstissä"
   ]
  },
  {
   "cell_type": "code",
   "execution_count": 1,
   "metadata": {},
   "outputs": [
    {
     "data": {
      "text/plain": [
       "3"
      ]
     },
     "execution_count": 1,
     "metadata": {},
     "output_type": "execute_result"
    }
   ],
   "source": [
    "#esim\n",
    "esimTeksti= \"Parametrille on mahdollista lisätä jonkun oletus arvo jos kutsuttaessa ei annetaan mitään sille\"\n",
    "\n",
    "# \"le\"\n",
    "\n",
    "count = esimTeksti.count('le')\n",
    "count"
   ]
  },
  {
   "cell_type": "markdown",
   "metadata": {},
   "source": [
    "join() iteroi ja liittää uuteen\n",
    "\n",
    "reversed() lukee lopusta alkuun"
   ]
  },
  {
   "cell_type": "markdown",
   "metadata": {},
   "source": [
    "TEHT. \n",
    "\n",
    "tulosta lopusta alkuun sana 'parametri'\n",
    "\n",
    "esimerkkitulostus:\n",
    "\n",
    "irtemarap\n",
    "\n",
    "- käytä join() ja reversed()\n",
    "- tee sama merkkijonon indekseillä"
   ]
  },
  {
   "cell_type": "code",
   "execution_count": 33,
   "metadata": {},
   "outputs": [
    {
     "name": "stdout",
     "output_type": "stream",
     "text": [
      "irtemarap\n",
      "irtemarap\n"
     ]
    }
   ],
   "source": [
    "word = \"parametri\"\n",
    "print(\"\".join(reversed(word)))\n",
    "print(word[::-1])"
   ]
  },
  {
   "cell_type": "markdown",
   "metadata": {},
   "source": [
    "Teht 6. String lists / Palindromi\n",
    "\n",
    "Tee ohjelma, joka kysyy sanoja niin kauan kunnes käyttäjä syöttää sanan, joka  on palindromi. \n",
    "\n",
    "Jos merkkijono on palindromi se voidaan lukea alusta loppuun tai lopusta alkuun.\n",
    "\n",
    "Tee myös funktiota hyödyntävä pääohjelma, joka kyselee käyttäjältä sanoja niin kauan, kunnes käyttäjä syöttää palindromin:\n",
    "\n",
    "Esimerkkitulostus\n",
    "\n",
    "Anna palindromi: python\n",
    "\n",
    "python ei ole palindromi\n",
    "\n",
    "Anna palindromi: saippuakauppias\n",
    "\n",
    "saippuakauppias on palindromi!\n",
    "\n",
    "\n",
    "https://www.practicepython.org/exercise/2014/03/12/06-string-lists.html"
   ]
  },
  {
   "cell_type": "code",
   "execution_count": 37,
   "metadata": {},
   "outputs": [
    {
     "name": "stdout",
     "output_type": "stream",
     "text": [
      "lksfdjg ei ole palindromi\n",
      "sdlkfj ei ole palindromi\n",
      "sdkfj ei ole palindromi\n",
      "ihi on palindromi\n"
     ]
    }
   ],
   "source": [
    "def is_palin(word):\n",
    "    return word == word[::-1]\n",
    "\n",
    "def main():\n",
    "    while True:\n",
    "        word = input(\"Anna palindromi: \")\n",
    "        if is_palin(word):\n",
    "            print(f\"{word} on palindromi\")\n",
    "            break\n",
    "        else:\n",
    "            print(f\"{word} ei ole palindromi\")\n",
    "main()"
   ]
  },
  {
   "cell_type": "markdown",
   "metadata": {},
   "source": [
    "title() ekat kirjaimet isoiksi\n",
    "\n",
    "lower() muuttaaa pieniksi kirjaimiksi\n",
    "\n",
    "upper() muuttaaa isoiksi kirjaimiksi\n",
    "\n",
    "islower() tarkistaa onko pieniä kirjaimia\n",
    "\n",
    "isupper() tarkistaa onko isoja kirjaimia\n",
    "\n",
    "isdigit() palauttaa luvun\n",
    "\n",
    "isalpha() palauttaa aakkosen"
   ]
  },
  {
   "cell_type": "code",
   "execution_count": 35,
   "metadata": {},
   "outputs": [],
   "source": []
  },
  {
   "cell_type": "markdown",
   "metadata": {},
   "source": [
    "teht. \n",
    "\n",
    "Kysy käyttäjältä erikseen etunimi ja sukunimi.\n",
    "\n",
    "yhdistä nimet samaan tulostukseen. Muuta ensimmäiset kirjaimet isoiksi."
   ]
  },
  {
   "cell_type": "code",
   "execution_count": 38,
   "metadata": {},
   "outputs": [
    {
     "name": "stdout",
     "output_type": "stream",
     "text": [
      "Etu Suku\n"
     ]
    }
   ],
   "source": [
    "en = input(\"Etunimi: \").title()\n",
    "sn = input(\"Sukunimi: \").title()\n",
    "print(f\"{en} {sn}\")"
   ]
  },
  {
   "cell_type": "markdown",
   "metadata": {},
   "source": [
    "Teht. \n",
    "\n",
    "järjestä sana niin, että pienet kirjaimet tulevat alkuun ja isot kirjaimet tulee loppuun\n",
    "\n",
    "esim. \"TaitotaloHelsinki\"\n",
    "\n",
    "tulostus\n",
    "\n",
    "aitotaloelsinkiTH"
   ]
  },
  {
   "cell_type": "code",
   "execution_count": 49,
   "metadata": {},
   "outputs": [
    {
     "name": "stdout",
     "output_type": "stream",
     "text": [
      "aitotaloelsinkiTH\n"
     ]
    }
   ],
   "source": [
    "w = \"TaitotaloHelsinki\"\n",
    "nl = \"\"\n",
    "nu = \"\"\n",
    "for i in w:\n",
    "    if i.isupper():\n",
    "        nu += i\n",
    "    else:\n",
    "        nl += i\n",
    "print(nl + nu)"
   ]
  },
  {
   "cell_type": "markdown",
   "metadata": {},
   "source": [
    "TEHT. \n",
    "\n",
    "tehtävä : kuinka monta kirjainta, lukua tai symbolia sanassa on\n",
    "\n",
    "\"9iJ4d7&Oskfbu6hkP7O!%L0#1@yzL\""
   ]
  },
  {
   "cell_type": "code",
   "execution_count": 48,
   "metadata": {},
   "outputs": [
    {
     "name": "stdout",
     "output_type": "stream",
     "text": [
      "9iJ4d7&Oskfbu6hkP7O!%L0#1@yzL sisältää: 17 kirjainta, 7 numeroa ja 5 merkkiä\n"
     ]
    }
   ],
   "source": [
    "letters = 0\n",
    "digits = 0\n",
    "symbols = 0\n",
    "foo = \"9iJ4d7&Oskfbu6hkP7O!%L0#1@yzL\"\n",
    "for i in foo:\n",
    "    if i.isalpha(): letters += 1\n",
    "    elif i.isdigit(): digits += 1\n",
    "    else: symbols += 1\n",
    "print(f\"{foo} sisältää: {letters} kirjainta, {digits} numeroa ja {symbols} merkkiä\")"
   ]
  },
  {
   "cell_type": "markdown",
   "metadata": {},
   "source": [
    "split()\n",
    "\n",
    "jakaa stringin listaksi"
   ]
  },
  {
   "cell_type": "code",
   "execution_count": null,
   "metadata": {},
   "outputs": [],
   "source": [
    "#Esim.\n",
    "\n",
    "\n",
    "esimTeksti2= \"Parametrille-on-mahdollista-lisätä-jonkun-oletus-arvo\"\n",
    "\n",
    "splitattu = esimTeksti2.split(\"-\")\n",
    "\n",
    "print(splitattu)\n",
    "\n",
    "for sana in splitattu:\n",
    "    print(sana)"
   ]
  },
  {
   "cell_type": "markdown",
   "metadata": {},
   "source": [
    "strip()\n",
    "\n",
    "rstrip()\n",
    "\n",
    "lstrip()\n",
    "\n",
    "poistaa alusta ja lopusta"
   ]
  },
  {
   "cell_type": "code",
   "execution_count": null,
   "metadata": {},
   "outputs": [],
   "source": [
    "#ESIM.\n",
    "\n",
    "esimSana3 = \"9iJ4d7&Oskfbu6hkP7O!%L0#1@yzL\"\n",
    "\n",
    "stripattu = esimSana3.strip('9,L')\n",
    "esimSana4 = \" 9iJ4d7&Oskfbu6hkP7O!%L0#1@yzL \"\n",
    "\n",
    "stripattu2 = esimSana4.lstrip()\n",
    "stripattu3 = esimSana4.rstrip()\n",
    "\n",
    "print('1', stripattu)\n",
    "print('esim')\n",
    "print('x', esimSana4)\n",
    "print('2', stripattu2)\n",
    "print('3', stripattu3)"
   ]
  },
  {
   "cell_type": "markdown",
   "metadata": {},
   "source": [
    "replace()\n",
    "\n",
    "korvaa uudella merkkijonolla"
   ]
  },
  {
   "cell_type": "code",
   "execution_count": null,
   "metadata": {},
   "outputs": [],
   "source": [
    "# Esim.\n",
    "tervehdys = \"Hello, World!\"\n",
    "print(tervehdys.replace(\"Hello\", \"Hi\"))"
   ]
  },
  {
   "cell_type": "markdown",
   "metadata": {},
   "source": [
    "TEHT. \n",
    "\n",
    "Tallenna Twinkle, Twinkle muuttujaan ja korvaa siinä joku sana"
   ]
  }
 ],
 "metadata": {
  "kernelspec": {
   "display_name": "Python 3.10.7 64-bit",
   "language": "python",
   "name": "python3"
  },
  "language_info": {
   "codemirror_mode": {
    "name": "ipython",
    "version": 3
   },
   "file_extension": ".py",
   "mimetype": "text/x-python",
   "name": "python",
   "nbconvert_exporter": "python",
   "pygments_lexer": "ipython3",
   "version": "3.10.7"
  },
  "orig_nbformat": 4,
  "vscode": {
   "interpreter": {
    "hash": "26de051ba29f2982a8de78e945f0abaf191376122a1563185a90213a26c5da77"
   }
  }
 },
 "nbformat": 4,
 "nbformat_minor": 2
}

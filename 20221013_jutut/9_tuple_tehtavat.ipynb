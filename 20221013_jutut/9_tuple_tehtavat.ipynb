{
 "cells": [
  {
   "cell_type": "markdown",
   "metadata": {},
   "source": [
    "13.10.2022"
   ]
  },
  {
   "cell_type": "markdown",
   "metadata": {},
   "source": [
    "muista tarkistaa arvosanatilasto"
   ]
  },
  {
   "cell_type": "markdown",
   "metadata": {},
   "source": [
    "## lisää tulostuksen muotoilusta"
   ]
  },
  {
   "cell_type": "code",
   "execution_count": null,
   "metadata": {},
   "outputs": [],
   "source": [
    "def tulostus():\n",
    "    name ='Pekka'\n",
    "    number = 100.5\n",
    "    number2 = 1.2445667\n",
    "    print('%s %s %s %d %f %.3f %g %g' % (name, number, number2, number, number, number2, number, number2))\n",
    "    print(f'numero on: {number2:.2f}')\n",
    "    print ('%s on %d vuotta vanha' % (name, number))\n",
    "\n",
    "# %s string\n",
    "# %d integer\n",
    "# %f float eli liukuluku\n",
    "# %g on geneerinen numero\n",
    "\n",
    "#https://stackoverflow.com/questions/4288973/whats-the-difference-between-s-and-d-in-python-string-formatting\n",
    "\n",
    "tulostus()"
   ]
  },
  {
   "cell_type": "markdown",
   "metadata": {},
   "source": [
    "# Tuple"
   ]
  },
  {
   "cell_type": "markdown",
   "metadata": {},
   "source": [
    "## tavoitteet\n",
    "\n",
    "- osaa käyttää tuplea\n",
    "- osaa käyttää ja tunnistaa eri pythonin tietorakenteita"
   ]
  },
  {
   "cell_type": "markdown",
   "metadata": {},
   "source": [
    "## Datarakenne\n",
    "\n",
    "### yleistä\n",
    "\n",
    "Kaikki hyväksyvät eri tietotyyppejä samaan rakenteeseen.\n",
    "\n",
    "### set = {}\n",
    "\n",
    "- satunnaisessa järjestyksessa, ei indeksiä\n",
    "\n",
    "- ei muutettavissa\n",
    "\n",
    "- ei hyväksy duplikaatteja\n",
    "\n",
    "https://www.w3schools.com/python/trypython.asp?filename=demo_set_datatypes3\n",
    "\n",
    "### list = []\n",
    "\n",
    "- muutettavissa\n",
    "\n",
    "- tavallisinta on lisätä uusi alkio listan loppuun\n",
    "\n",
    "- alkiot löytvät indeksillä\n",
    "\n",
    "### dict = {key:value}\n",
    "\n",
    "- avain-arvo-parit\n",
    "\n",
    "- muokattavissa\n",
    "\n",
    "- sama avain ei voi olla kahteen kertaan\n",
    "\n",
    "### tuple = ()\n",
    "\n",
    "- kiinteä kokoelma arvoja, jotka liittyvät toisiinsa\n",
    "\n",
    "- voidaan käyttää sanakirjan (dictionary) arvona\n",
    "\n",
    "- indeksin mukaan järjestyksessä \n",
    "\n",
    "- hyväksyy duplikaatteja (koska indeksi on aina uniikki)\n",
    "\n",
    "- tuplea ei voi muuttaa sen jälkeen, kun se on luotu\n",
    "\n",
    "metodit:\n",
    "\n",
    "https://www.w3schools.com/python/python_tuples_methods.asp"
   ]
  },
  {
   "cell_type": "code",
   "execution_count": null,
   "metadata": {},
   "outputs": [],
   "source": [
    "# luodaan käyttämällä () , alkio voi olla str, int, float, list\n",
    "\n",
    "esim_tuple = ('Tuple', 30, 45.75, [25, 78])\n",
    "print(esim_tuple)\n",
    "\n",
    "#löytää alkion\n",
    "print(esim_tuple[0])\n",
    "\n",
    "#mutta sitä ei voi muokata\n",
    "#esim_tuple[0] = 1 # virhe:'tuple' object does not support item assignment \n",
    "# esim_tuple"
   ]
  },
  {
   "cell_type": "code",
   "execution_count": null,
   "metadata": {},
   "outputs": [],
   "source": [
    "# luodaan käyttämällä tuple()\n",
    "esim_tuple2 = tuple(('Tuple', 30, 45.75, [25, 78]))\n",
    "esim_tuple2"
   ]
  },
  {
   "cell_type": "code",
   "execution_count": null,
   "metadata": {},
   "outputs": [],
   "source": [
    "esim_tuple2 = tuple(('Tuple', ))\n",
    "esim_tuple2 "
   ]
  },
  {
   "cell_type": "code",
   "execution_count": null,
   "metadata": {},
   "outputs": [],
   "source": [
    "# str vs tuple\n",
    "\n",
    "tervehdys = ('heippa')\n",
    "print(type(tervehdys))\n",
    "print(tervehdys)\n",
    "\n",
    "tervehdys1 = ('heippa',)\n",
    "print(type(tervehdys1))\n",
    "print(tervehdys1)"
   ]
  },
  {
   "cell_type": "code",
   "execution_count": null,
   "metadata": {},
   "outputs": [],
   "source": [
    "# muodostaminen ilman sulkuja\n",
    "esim_tuple3 = 1,2,\"tuple\"\n",
    "print(type(esim_tuple3))\n",
    "print(esim_tuple3)"
   ]
  },
  {
   "cell_type": "code",
   "execution_count": null,
   "metadata": {},
   "outputs": [],
   "source": [
    "# annetaam muuttujille nimet\n",
    "\n",
    "esim_tuple4 = 10,20,30,40\n",
    "print(type(esim_tuple4))\n",
    "print(esim_tuple4)\n",
    "\n",
    "a, b, c, d = esim_tuple4\n",
    "print(type(a))\n",
    "print(b)\n",
    "print(c)\n",
    "print(d)\n",
    "print(esim_tuple4)\n"
   ]
  },
  {
   "cell_type": "code",
   "execution_count": null,
   "metadata": {},
   "outputs": [],
   "source": [
    "# palauttaa kaksi arvoa tuplena\n",
    "# funktion paluuarvo palautuu yhtä aikaa kahteen eri muuttujaan\n",
    "def minmax(lista):\n",
    "  return min(lista), max(lista)\n",
    "\n",
    "lista = [33, 5, 21, 7, 88, 312, 5]\n",
    "\n",
    "pienin, suurin = minmax(lista)\n",
    "print(f\"Pienin luku on {pienin} ja suurin on {suurin}\")"
   ]
  },
  {
   "cell_type": "code",
   "execution_count": null,
   "metadata": {},
   "outputs": [],
   "source": [
    "#vaihdetaan sisältöä paikkaa vaihtamalla\n",
    "tuple5 = (11, 22)\n",
    "tuple6 = (99, 88)\n",
    "tuple5, tuple6 = tuple6, tuple5\n",
    "print('tuple5', tuple5)\n",
    "print('tuple6', tuple6)"
   ]
  },
  {
   "cell_type": "code",
   "execution_count": null,
   "metadata": {},
   "outputs": [],
   "source": [
    "#alkioiden määrä len()\n",
    "\n",
    "print(esim_tuple3)\n",
    "print(len(esim_tuple3))"
   ]
  },
  {
   "cell_type": "code",
   "execution_count": null,
   "metadata": {},
   "outputs": [],
   "source": [
    "# käydään tuple läpi for-loopilla\n",
    "print(esim_tuple)\n",
    "\n",
    "for i in esim_tuple:\n",
    "    print(i)"
   ]
  },
  {
   "cell_type": "code",
   "execution_count": null,
   "metadata": {},
   "outputs": [],
   "source": [
    "# range\n",
    "\n",
    "print(esim_tuple)\n",
    "\n",
    "for i in range(2):\n",
    "    print(esim_tuple[i])"
   ]
  },
  {
   "cell_type": "code",
   "execution_count": null,
   "metadata": {},
   "outputs": [],
   "source": [
    "# alusta loppuun negatiivisella indeksillä\n",
    "print(esim_tuple)\n",
    "for i in range(-4, 0):\n",
    "    print(esim_tuple[i], end=\", \") \n",
    "    print('i on:',i)"
   ]
  },
  {
   "cell_type": "code",
   "execution_count": null,
   "metadata": {},
   "outputs": [],
   "source": [
    "# joltain väliltä arvot\n",
    "\n",
    "tuple7 = (11, 22, 33, 44, 55, 66)\n",
    "print(tuple7)\n",
    "tuple8 = tuple7[3:-1]\n",
    "print(tuple8)\n"
   ]
  },
  {
   "cell_type": "code",
   "execution_count": null,
   "metadata": {},
   "outputs": [],
   "source": [
    "# laskee kuinka monta tiettyä count()\n",
    "tuple7 = (11, 22, 33, 44, 55, 66, 33)\n",
    "print(tuple7)\n",
    "print(tuple7.count(33))\n",
    "print(tuple8)\n",
    "\n",
    "tuple9 = tuple7+tuple8\n",
    "print(tuple9)\n",
    "print(tuple9.count(44))"
   ]
  },
  {
   "cell_type": "markdown",
   "metadata": {},
   "source": [
    "https://ohjelmointi-21.mooc.fi/osa-5/4-tuple\n",
    "\n",
    "tehtävä vanhin henkilöistä\n",
    "\n",
    "Tee funktio vanhin(henkilot: list), joka saa parametrikseen listan henkilöitä esittäviä tupleja. Funktio etsii ja palauttaa vanhimman henkilön nimen.\n",
    "\n",
    "Henkilötuplessa on ensin henkilön nimi merkkijonona ja toisena alkiona henkilön syntymävuosi.\n",
    "\n",
    "Esimerkiksi:"
   ]
  },
  {
   "cell_type": "code",
   "execution_count": null,
   "metadata": {},
   "outputs": [],
   "source": [
    "# h1 = (\"Arto\", 1977)\n",
    "# h2 = (\"Einari\", 1985)\n",
    "# h3 = (\"Maija\", 1953)\n",
    "# h4 = (\"Essi\", 1997)\n",
    "# hlista = [h1, h2, h3, h4]\n",
    "\n",
    "# print(vanhin(hlista))"
   ]
  },
  {
   "cell_type": "code",
   "execution_count": null,
   "metadata": {},
   "outputs": [
    {
     "ename": "",
     "evalue": "",
     "output_type": "error",
     "traceback": [
      "\u001b[1;31mThe kernel failed to start as '_psutil_linux' could not be imported from 'most likely due to a circular import'.\n",
      "\u001b[1;31mClick <a href='https://aka.ms/kernelFailuresModuleImportErrFromFile'>here</a> for more info."
     ]
    }
   ],
   "source": [
    "def vanhin(lista: list) -> str:\n",
    "    '''Find oldest person on tuples-list and return their name'''\n",
    "\n",
    "    #change tuples list to dictionary\n",
    "    new = {lista[i][0]: lista[i][1] for i in range(len(lista))}    \n",
    "    #print(new)\n",
    "    return min(new, key=new.get)\n",
    "\n",
    "h1 = (\"Arto\", 1977)\n",
    "h2 = (\"Einari\", 1985)\n",
    "h3 = (\"Maija\", 1953)\n",
    "h4 = (\"Essi\", 1997)\n",
    "hlista = [h1, h2, h3, h4]\n",
    "\n",
    "print(\"Vanhin henkilö: \", vanhin(hlista))\n",
    "#vanhin(hlista)"
   ]
  }
 ],
 "metadata": {
  "kernelspec": {
   "display_name": "Python 3.9.5 64-bit",
   "language": "python",
   "name": "python3"
  },
  "language_info": {
   "codemirror_mode": {
    "name": "ipython",
    "version": 3
   },
   "file_extension": ".py",
   "mimetype": "text/x-python",
   "name": "python",
   "nbconvert_exporter": "python",
   "pygments_lexer": "ipython3",
   "version": "3.9.5"
  },
  "orig_nbformat": 4,
  "vscode": {
   "interpreter": {
    "hash": "36cf16204b8548560b1c020c4e8fb5b57f0e4c58016f52f2d4be01e192833930"
   }
  }
 },
 "nbformat": 4,
 "nbformat_minor": 2
}

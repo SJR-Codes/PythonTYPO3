{
 "cells": [
  {
   "cell_type": "markdown",
   "metadata": {},
   "source": [
    "13.10.2022"
   ]
  },
  {
   "cell_type": "markdown",
   "metadata": {},
   "source": [
    "# Tiedostojen käsittelyä"
   ]
  },
  {
   "cell_type": "markdown",
   "metadata": {},
   "source": [
    "## tavoitteet\n",
    "\n",
    "- osaa lukea tiedoston sisällön Pythonissa\n",
    "- tietää mikä on tekstitiedosto ja csv-tiedosto\n",
    "- osaa käsitellä tiedoston sisältöä ohjelmassa"
   ]
  },
  {
   "cell_type": "markdown",
   "metadata": {},
   "source": [
    "open()\n",
    "\n",
    "tiedoston nimi ja tehtävä\n",
    "\n",
    "        \"r\", read, oletusarvo, palautta virheen jos tiedostoa ei ole\n",
    "\n",
    "        \"a\", append, luo tiedoston, jos ei ole olemassa\n",
    "\n",
    "        \"w\", write, luo tiedoston, jos ei ole\n",
    "\n",
    "        \"x\", luo tietyn tiedoston, palauttaa virheen jos ei ole jo olemassa\n",
    "\n",
    "lisäksi:\n",
    "\n",
    "        \"t\", text, oletusarvo\n",
    "        \"b\", binary (esim valokuvat)\n",
    "\n",
    "https://www.w3schools.com/python/python_file_handling.asp\n"
   ]
  },
  {
   "cell_type": "code",
   "execution_count": 8,
   "metadata": {},
   "outputs": [
    {
     "data": {
      "text/plain": [
       "'tÃ¤hÃ¤n jotain\\nkjekrjkwnkqwn\\nkolme riviÃ¤ vaikka\\n'"
      ]
     },
     "execution_count": 8,
     "metadata": {},
     "output_type": "execute_result"
    }
   ],
   "source": [
    "# luodaan tiedosto resurssinhallinnassa\n",
    "\n",
    "# avataan tiedosto open()\n",
    "esim1 = open('esimteksti.txt', 'rt')\n",
    "\n",
    "# luetaan tiedosto read() \n",
    "esim1.read() # voi antaa parametriksi numeron"
   ]
  },
  {
   "cell_type": "code",
   "execution_count": 5,
   "metadata": {},
   "outputs": [
    {
     "name": "stdout",
     "output_type": "stream",
     "text": [
      "dasklakals\n",
      "\n",
      "kjlakÃ¶aaÃ¶\n",
      "\n"
     ]
    }
   ],
   "source": [
    "# lue rivi kerrallaan\n",
    "\n",
    "esim2 = open('tiedostot\\esimteksti2.txt', 'r')\n",
    "\n",
    "print(esim2.readline())\n",
    "print(esim2.readline())"
   ]
  },
  {
   "cell_type": "code",
   "execution_count": 6,
   "metadata": {},
   "outputs": [
    {
     "name": "stdout",
     "output_type": "stream",
     "text": [
      "dasklakals\n",
      "\n",
      "kjlakÃ¶aaÃ¶\n",
      "\n",
      "alksdlaklsakl\n",
      "\n",
      "\n",
      "\n",
      "U:\\Users\\kerttuli.ratilainen\\Documents\\python\\tiedostot\\esimteksti2.txt\n",
      "\n"
     ]
    }
   ],
   "source": [
    "# lue koko tiedosto for-loopissa\n",
    "\n",
    "esim_3 = open('tiedostot\\esimteksti2.txt', 'r')\n",
    "for i in esim_3:\n",
    "    print(i)"
   ]
  },
  {
   "cell_type": "code",
   "execution_count": 10,
   "metadata": {},
   "outputs": [
    {
     "name": "stdout",
     "output_type": "stream",
     "text": [
      "dasklakals\n",
      "kjlakÃ¶aaÃ¶\n",
      "alksdlaklsakl\n",
      "\n",
      "U:\\Users\\kerttuli.ratilainen\\Documents\\python\\tiedostot\\esimteksti2.txt\n",
      "\n"
     ]
    }
   ],
   "source": [
    "# with open() as\n",
    "# avaa nätimmin kuin pelkkä read()\n",
    "\n",
    "# avaa\n",
    "with open('tiedostot\\esimteksti2.txt') as tiedosto:\n",
    "    # lukee\n",
    "    sisalto = tiedosto.read()\n",
    "    print(sisalto)"
   ]
  },
  {
   "cell_type": "code",
   "execution_count": 19,
   "metadata": {},
   "outputs": [
    {
     "name": "stdout",
     "output_type": "stream",
     "text": [
      "dasklakals\n",
      "laskuri: 1  rivi:  dasklakals\n",
      "rivin pituus 10\n",
      "kjlaköaaö\n",
      "laskuri: 2  rivi:  kjlaköaaö\n",
      "rivin pituus 9\n",
      "alksdlaklsakl\n",
      "laskuri: 3  rivi:  alksdlaklsakl\n",
      "rivin pituus 13\n",
      "\n",
      "laskuri: 4  rivi:  \n",
      "rivin pituus 0\n",
      "U:\\Users\\kerttuli.ratilainen\\Documents\\python\\tiedostot\\esimteksti2.txt\n",
      "laskuri: 5  rivi:  U:\\Users\\kerttuli.ratilainen\\Documents\\python\\tiedostot\\esimteksti2.txt\n",
      "rivin pituus 71\n",
      "Rivien yhteispituus: 103\n"
     ]
    }
   ],
   "source": [
    "# encoding='utf8, ääkköset\n",
    "# rivin pituus\n",
    "\n",
    "with open(\"tiedostot\\esimteksti2.txt\", 'r', encoding='utf8') as tiedosto:\n",
    "    laskuri = 0\n",
    "    yhteispituus = 0\n",
    "\n",
    "    for rivi in tiedosto:\n",
    "        rivi = rivi.replace(\"\\n\", \"\") # rivinvaihto korjataan tyhjällä\n",
    "        print(rivi)\n",
    "        laskuri += 1\n",
    "        print(\"laskuri:\", laskuri, \" rivi: \", rivi)\n",
    "        pituus = len(rivi)\n",
    "        print(\"rivin pituus\", len(rivi))\n",
    "        # lasketaan kaikki rivit yhteen\n",
    "        yhteispituus += pituus\n",
    "\n",
    "print(\"Rivien yhteispituus:\", yhteispituus)"
   ]
  },
  {
   "cell_type": "markdown",
   "metadata": {},
   "source": [
    "## CSV-tiedosto\n",
    "\n",
    "tiedot erotetaan usein joko pilkulla (,) tai puolipisteellä (;)"
   ]
  },
  {
   "cell_type": "code",
   "execution_count": 20,
   "metadata": {},
   "outputs": [
    {
     "name": "stdout",
     "output_type": "stream",
     "text": [
      "apina,banaani,cembalo\n",
      "<class 'str'>\n",
      "['apina', 'banaani', 'cembalo']\n",
      "<class 'list'>\n",
      "<class 'str'>\n",
      "apina\n",
      "<class 'str'>\n",
      "banaani\n",
      "<class 'str'>\n",
      "cembalo\n"
     ]
    }
   ],
   "source": [
    "# merkkijono jaetaan osiin split()\n",
    "# \n",
    "teksti = \"apina,banaani,cembalo\"\n",
    "print(teksti)\n",
    "print(type(teksti))\n",
    "\n",
    "# split() luo listan sanoista\n",
    "sanat = teksti.split(',')\n",
    "print(sanat)\n",
    "print(type(sanat))\n",
    "\n",
    "# for loopilla luetaan sana kerrallaan\n",
    "for sana in sanat:\n",
    "    print(type(sana))\n",
    "    print(sana)"
   ]
  },
  {
   "cell_type": "code",
   "execution_count": null,
   "metadata": {},
   "outputs": [],
   "source": [
    "# arvosanat sanakirjaan /dictionaryyn\n",
    "arvosanat = {}\n",
    "\n",
    "with open('tiedostot\\csvdata.csv') as tiedosto:\n",
    "    for rivi in tiedosto:\n",
    "        rivi = rivi.replace(\"\\n\", \"\") # poistetaan rivin vaihdot\n",
    "        osat = rivi.split(';')  # jaetaan listaksi\n",
    "        nimi = osat[0]         \n",
    "        # arvosanat = osat[1:]\n",
    "        # print('Nimi:', nimi)\n",
    "        # print('Arvosanat', arvosanat)\n",
    "        arvosanat[nimi] = []        # annetaan arvosanat-sanakirjalle avaimeksi nimi ja arvoksi lista\n",
    "        print(arvosanat)\n",
    "        for arvosana in osat[1:]:           # nimi jätetään arvosanat listasta pois\n",
    "            arvosanat[nimi].append(int(arvosana))\n",
    "\n",
    "print(arvosanat)"
   ]
  },
  {
   "cell_type": "code",
   "execution_count": null,
   "metadata": {},
   "outputs": [],
   "source": [
    "print(arvosanat)\n",
    "for nimi, lista in arvosanat.items():\n",
    "    paras = max(lista)\n",
    "    keskiarvo = sum(lista)/len(lista)\n",
    "    print(f'{nimi}: paras arvosana {paras}, keskiarvo {keskiarvo}')"
   ]
  },
  {
   "cell_type": "code",
   "execution_count": null,
   "metadata": {},
   "outputs": [],
   "source": [
    "# yhdistetään kaksi eri tiedostoa\n",
    "nimet = {}\n",
    "\n",
    "with open('tyontekijat.csv') as tiedosto:\n",
    "    for rivi in tiedosto:\n",
    "        osat = rivi.split(';')\n",
    "        if osat[0] == 'hetu':\n",
    "            continue\n",
    "        nimet[osat[0]] = osat[1]\n",
    "        \n",
    "print('nimet:', nimet)\n",
    "\n",
    "\n",
    "palkat = {}\n",
    "\n",
    "with open('palkat.csv') as tiedosto:\n",
    "    for rivi in tiedosto:\n",
    "        osat = rivi.split(';')\n",
    "        print(osat)\n",
    "        if osat[0] == 'hetu': # ensimmäinen rivi kertoo otsikot se ohitetaan\n",
    "            continue\n",
    "        palkat[osat[0]] = int(osat[1]) + int(osat[2])\n",
    "        \n",
    "\n",
    "print('palkat:', palkat)\n",
    "\n",
    "print('ansiot:')\n",
    "        \n",
    "for hetu, nimi in nimet.items():\n",
    "    if hetu in palkat:\n",
    "        palkka = palkat[hetu]\n",
    "        print(palkka)\n",
    "        print(f'{nimi:16} {palkka} euroa')\n",
    "    else:\n",
    "        print(f'{nimi:16} 0 euroa')\n",
    "\n"
   ]
  },
  {
   "cell_type": "markdown",
   "metadata": {},
   "source": [
    "## tehtavia"
   ]
  },
  {
   "cell_type": "markdown",
   "metadata": {},
   "source": [
    "https://www.practicepython.org/exercise/2014/12/06/22-read-from-file.html myös extra\n",
    "\n",
    "kuinka paljon nimiä on yhteensä?\n",
    "\n",
    "kenen nimiä on eniten?\n",
    "\n",
    "\n",
    "https://www.practicepython.org/exercise/2016/09/24/30-pick-word.html\n"
   ]
  },
  {
   "cell_type": "markdown",
   "metadata": {},
   "source": [
    "https://ohjelmointi-22.mooc.fi/osa-6/1-tiedostojen-lukeminen\n",
    "\n",
    "tee Kurssin tulokset, osat 1, 2 ja 3"
   ]
  }
 ],
 "metadata": {
  "kernelspec": {
   "display_name": "Python 3.9.5 64-bit",
   "language": "python",
   "name": "python3"
  },
  "language_info": {
   "codemirror_mode": {
    "name": "ipython",
    "version": 3
   },
   "file_extension": ".py",
   "mimetype": "text/x-python",
   "name": "python",
   "nbconvert_exporter": "python",
   "pygments_lexer": "ipython3",
   "version": "3.9.5"
  },
  "orig_nbformat": 4,
  "vscode": {
   "interpreter": {
    "hash": "36cf16204b8548560b1c020c4e8fb5b57f0e4c58016f52f2d4be01e192833930"
   }
  }
 },
 "nbformat": 4,
 "nbformat_minor": 2
}

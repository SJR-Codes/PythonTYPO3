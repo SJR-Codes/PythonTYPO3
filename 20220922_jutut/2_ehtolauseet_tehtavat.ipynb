{
 "cells": [
  {
   "cell_type": "markdown",
   "metadata": {},
   "source": [
    "22.9.2022\n",
    "# Kertaus"
   ]
  },
  {
   "cell_type": "markdown",
   "metadata": {},
   "source": [
    "#### Mitä viime kerralla opittiin yleisesti:\n",
    "\n",
    "-\tmiten pythonia voi käyttää komentokehotteella\n",
    "\n",
    "-\tmiten python koodia voi kirjoittaa muistioon ja ajaa komentokehotteella\n",
    "\n",
    "-\tmiten käyttää tekstieditoria esim. visual studio codea\n",
    "\n",
    "#### Mitä opittiin pythonin syntaksista:\n",
    "-\t'#'  kommentit risuaidalla\n",
    "\n",
    "\n",
    "-\tmuuttujat\n",
    "\n",
    "> -\tmuuttujalle annetaan arvo\n",
    "> -\tmuuttujan arvoa voidaan muuttaa, ohjelma lukee viimeksi annetun arvon\n",
    "> - muuttujalle kannattaa antaa selkeä nimi\n",
    "> - muuttujaan voidaan viitata myöhemmin ohjelmassa\n",
    "> - eri tyyppejä: merkkijono, kokonaisluku, liukuluku\n",
    "> -\tisoilla ja pienillä kirjaimilla on ero\n",
    "> -\tvoi käyttää isoja ja pieniä kirjaimia, alaviivaa, ym.\n",
    "> - ei erikoismerkkejä tai muuttuja ei saa alkaa numerolla"
   ]
  },
  {
   "cell_type": "markdown",
   "metadata": {},
   "source": [
    "-\ttekstin tulostus\n",
    "> -\tprint()\n",
    "> -\tmiten merkkijonopätkiä voi yhdistää tai erottaa\n",
    ">>\t- '+'\n",
    ">>\t- ','\n",
    ">>\t- print(f” { _ } ”)\n",
    ">>\t- \\n, \\t, end=””, sep=\"*\"\n",
    "\n",
    "-\tperuslaskutoimituksia pythonilla\n",
    "\n",
    "\n",
    "-\tsyötteet käyttäjältä\n",
    "> -\tinput()\n",
    ">- \tlähtökohtaisesti merkkijono, mutta syötteen tyyppiä voi muokata tarpeen mukaan \n",
    "> -\tohjelmalle voi antaa useita eri  syötteitä\n"
   ]
  },
  {
   "cell_type": "markdown",
   "metadata": {},
   "source": [
    "Teht. \n",
    "\n",
    "Kysy ohjelman käyttäjältä nimi ja ikä ja kerro minä vuonna käyttäjä on 100-vuotias.\n",
    "\n",
    "https://www.practicepython.org/exercise/2014/01/29/01-character-input.html"
   ]
  },
  {
   "cell_type": "code",
   "execution_count": 5,
   "metadata": {},
   "outputs": [
    {
     "name": "stdout",
     "output_type": "stream",
     "text": [
      "pekka vuonna 2072 olet 100-vuotias\n"
     ]
    }
   ],
   "source": [
    "nimi = input('anna nimi:')\n",
    "ika = int(input('anna ika:'))\n",
    "vuosi = 2022 - ika + 100\n",
    "print(nimi + \" vuonna \" + str(vuosi) + \" olet 100-vuotias\")\n",
    "             "
   ]
  },
  {
   "cell_type": "markdown",
   "metadata": {},
   "source": [
    "# Tavoitteet tälle päivälle\n",
    "\n",
    "- tutustuu pythonin valmiiksi antamiin funktiohin\n",
    "- osaa ohjelmoida yksinkertaisia ehtorakenteita\n",
    "- osaa luoda ehtoja vertailuoperaattoreita ja loogisia operaattoreita käyttäen \n",
    "- osaa luoda sisäkkäisiä ehtolauseita"
   ]
  },
  {
   "cell_type": "markdown",
   "metadata": {},
   "source": [
    "# Pythonin valmiiksi tarjoamat funktiot\n",
    "\n",
    "Pythonissa on joukko sisäänrakennettuja funkioita\n",
    "\n",
    "https://docs.python.org/3.10/library/functions.html#built-in-functions\n",
    "\n",
    "näistä olemme käyttäneet jo\n",
    "\n",
    "print(), input(), abs(), float(), int(), str()\n",
    "\n",
    "\n",
    "- funktiota kutsutaan koodissa\n",
    "- funktiolle annetaan parametri suluissa \n",
    "- parametrin tai parametrit ilmaisevat mitä funktion tulee tehdä tarkalleen \n",
    "\n",
    "Merkkijonon merkkien määrä haetaan funktiolla len()\n"
   ]
  },
  {
   "cell_type": "code",
   "execution_count": 63,
   "metadata": {},
   "outputs": [
    {
     "data": {
      "text/plain": [
       "10"
      ]
     },
     "execution_count": 63,
     "metadata": {},
     "output_type": "execute_result"
    }
   ],
   "source": [
    "# ESIM\n",
    "\n",
    "len('merkkijono')"
   ]
  },
  {
   "cell_type": "markdown",
   "metadata": {},
   "source": [
    "TEHT. Merkkien määrä /MOOC\n",
    "\n",
    "Tee ohjelma, joka lukee käyttäjältä sanan ja tulostaa sanan merkkien määrän, mikäli niitä on enemmän kuin yksi.\n",
    "\n",
    "Esimerkkitulostus:\n",
    "\n",
    "Anna sana: hei\n",
    "\n",
    "Sanassa hei on 3 kirjainta\n",
    "\n",
    "Kiitos!"
   ]
  },
  {
   "cell_type": "code",
   "execution_count": 9,
   "metadata": {},
   "outputs": [
    {
     "name": "stdout",
     "output_type": "stream",
     "text": [
      "kiitos!\n"
     ]
    }
   ],
   "source": [
    "sana = input('Anna sana:')\n",
    "if len(sana) > 1:\n",
    "    kirjaimia = len(sana)\n",
    "    print(f'Sanassa {sana} on {kirjaimia} kirjainta')\n",
    "    print('kiitos!')"
   ]
  },
  {
   "cell_type": "markdown",
   "metadata": {},
   "source": [
    "# Ehtolauseet"
   ]
  },
  {
   "cell_type": "markdown",
   "metadata": {},
   "source": [
    "Ohjelmassa on ehto, jonka perusteella koodin suoritus siirtyy tiettyyn kohtaan vain, jos tietty ehto on tosi. \n",
    "Muuten jatketaan koodin suorittamista ylhäältä alaspäin."
   ]
  },
  {
   "cell_type": "markdown",
   "metadata": {},
   "source": [
    "if, yksi ehto"
   ]
  },
  {
   "cell_type": "code",
   "execution_count": 46,
   "metadata": {},
   "outputs": [],
   "source": [
    "#Esimerkki\n",
    "\n",
    "ika = int(input('kuinka vanha olet?')) # muista muuttaa tyyppi oikeaksi\n",
    "if ika >= 18: # python vaatii kaksoispisteen loppuun\n",
    "    print('olet täysi-ikäinen') # koodilohko määritellään sisennyksellä"
   ]
  },
  {
   "cell_type": "code",
   "execution_count": 47,
   "metadata": {},
   "outputs": [
    {
     "name": "stdout",
     "output_type": "stream",
     "text": [
      "False\n"
     ]
    }
   ],
   "source": [
    "#Esimerkki\n",
    "\n",
    "# antaa totuusarvon TRUE or FALSE, huom! sulkuja ei tarvita\n",
    "ika = int(input('kuinka vanha olet?')) \n",
    "ehto = ika >= 18  # lauseke on koodin osa, jolla on jokin tyyppi, esim. boolean. Lausekkeen voi sijoittaa muuttujaan\n",
    "print(ehto)\n",
    "if ehto: \n",
    "    print('olet täysi-ikäinen') "
   ]
  },
  {
   "cell_type": "markdown",
   "metadata": {},
   "source": [
    "if - else\n"
   ]
  },
  {
   "cell_type": "code",
   "execution_count": 48,
   "metadata": {},
   "outputs": [
    {
     "name": "stdout",
     "output_type": "stream",
     "text": [
      "olet ala-ikäinen\n"
     ]
    }
   ],
   "source": [
    "# Esimerkki\n",
    "\n",
    "ika = int(input('kuinka vanha olet?'))\n",
    "if ika >= 18:\n",
    "    print('olet täysi-ikäinen')\n",
    "else: \n",
    "    print('olet ala-ikäinen')"
   ]
  },
  {
   "cell_type": "markdown",
   "metadata": {},
   "source": [
    "if - elif - else\n",
    "\n",
    "elif voi olla monta, else vain yksi"
   ]
  },
  {
   "cell_type": "code",
   "execution_count": 49,
   "metadata": {},
   "outputs": [
    {
     "name": "stdout",
     "output_type": "stream",
     "text": [
      "olet ala-ikäinen\n"
     ]
    }
   ],
   "source": [
    "#Esimerkki\n",
    "\n",
    "ika = int(input('kuinka vanha olet?'))\n",
    "if ika > 18:\n",
    "    print('olet täysi-ikäinen')\n",
    "elif ika == 18:\n",
    "    print('olet 18-vuotias')\n",
    "else: \n",
    "    print('olet ala-ikäinen')"
   ]
  },
  {
   "cell_type": "markdown",
   "metadata": {},
   "source": [
    "## Vertailuoperaattorit\n",
    "\n",
    "verrataan kahta arvoa toisiinsa\n",
    "\n",
    "a == b, yhtä suuri kuin\n",
    "\n",
    "a != b, eri suuri kuin\n",
    "\n",
    "a > b, suurempi kuin\n",
    "\n",
    "a < b, pienempi kuin\n",
    "\n",
    "a >= b, suurempi tai yhtä suuri kuin\n",
    "\n",
    "a <= b, pienempi tai yhtä suuri kuin"
   ]
  },
  {
   "cell_type": "markdown",
   "metadata": {},
   "source": [
    "Ehdon toteutuesssa voi tapahtua myös jotain muuta kuin tulostus:"
   ]
  },
  {
   "cell_type": "code",
   "execution_count": 51,
   "metadata": {},
   "outputs": [
    {
     "name": "stdout",
     "output_type": "stream",
     "text": [
      "4\n"
     ]
    }
   ],
   "source": [
    "# Esimerkki\n",
    "\n",
    "pisteet = int(input('anna pisteet'))\n",
    "if pisteet != 0:\n",
    "    pisteet -= 1 # jos annetut pisteet ei ole 0, vähennetään pisteistä 1.\n",
    "else:\n",
    "    print('Game over')\n",
    "\n",
    "print(pisteet)"
   ]
  },
  {
   "cell_type": "markdown",
   "metadata": {},
   "source": [
    "TEHT. itseisarvo /MOOC\n",
    "\n",
    "Kirjoita ohjelma, joka lukee käyttäjältä kokonaisluvun. Mikäli luku on pienempi kuin 0, ohjelma tulostaa luvun kerrottuna luvulla -1. Muulloin ohjelma tulostaa käyttäjän syöttämän luvun. Alla on muutamia esimerkkejä ohjelman odotetusta toiminnasta.\n",
    "\n",
    "esim.\n",
    "\n",
    "Anna luku: -7\n",
    "\n",
    "Luvun itseisarvo on 7\n",
    "\n",
    "Anna luku: 1\n",
    "\n",
    "Luvun itseisarvo on 1\n",
    "\n",
    "\n",
    "\n",
    "\n"
   ]
  },
  {
   "cell_type": "code",
   "execution_count": 5,
   "metadata": {},
   "outputs": [
    {
     "name": "stdout",
     "output_type": "stream",
     "text": [
      "Luvun 1 itseisarvo on: 1\n"
     ]
    }
   ],
   "source": [
    "luku = int(input(\"Anna luku:\"))\n",
    "print(f\"Luvun {luku} itseisarvo on: {abs(luku)}\")"
   ]
  },
  {
   "cell_type": "markdown",
   "metadata": {},
   "source": [
    "TEHT. keittoa vai ei /MOOC\n",
    "\n",
    "Kirjoita ohjelma, joka kysyy ensin käyttäjän nimen. Jos nimi on mikä tahansa muu kuin \"Jerry\", ohjelma kysyy keittoannosten lukumäärän ja kertoo sitten kokonaishinnan. Yksi annos maksaa 5,90.\n",
    "\n",
    "Kaksi esimerkkisuoritusta:\n",
    "\n",
    "Mikä on nimesi: Kramer\n",
    "\n",
    "Kuinka monta annosta keittoa: 2\n",
    "\n",
    "Kokonaishinta on 11.8\n",
    "\n",
    "Seuraava!\n",
    "\n",
    "\n",
    "\n",
    "Mikä on nimesi: Jerry\n",
    "\n",
    "Seuraava!\n"
   ]
  },
  {
   "cell_type": "code",
   "execution_count": 23,
   "metadata": {},
   "outputs": [
    {
     "name": "stdout",
     "output_type": "stream",
     "text": [
      "Kokonaishinta on 11.8\n",
      "Seuraava!\n"
     ]
    }
   ],
   "source": [
    "hinta = 5.9\n",
    "nimi = input(\"Kerroppa nimesi:\")\n",
    "if nimi != \"Jerry\":\n",
    "    montako = int(input(\"Kuinka monta annosta keittoa: \"))\n",
    "    print(f\"Kokonaishinta on {hinta * montako:.2f}\")\n",
    "\n",
    "print(\"Seuraava!\")"
   ]
  },
  {
   "cell_type": "markdown",
   "metadata": {},
   "source": [
    "TEHT. Luvun suuruusluokka /MOOC\n",
    "\n",
    "Tee ohjelma, joka lukee käyttäjältä kokonaisluvun ja kertoo sitten sen suuruusluokan oheisten esimerkkisuoritusten mukaisesti:\n",
    "\n",
    "Anna luku: 950\n",
    "\n",
    "Luku on pienempi kuin 1000\n",
    "\n",
    "Kiitos!\n",
    "\n",
    "\n",
    "\n",
    "Anna luku: 59\n",
    "\n",
    "Luku on pienempi kuin 1000\n",
    "\n",
    "Luku on pienempi kuin 100\n",
    "\n",
    "Kiitos!\n",
    "\n",
    "\n",
    "\n",
    "Anna luku: 2\n",
    "\n",
    "Luku on pienempi kuin 1000\n",
    "\n",
    "Luku on pienempi kuin 100\n",
    "\n",
    "Luku on pienempi kuin 10\n",
    "\n",
    "Kiitos!\n",
    "\n",
    "\n",
    "\n",
    "Anna luku: 1123\n",
    "\n",
    "Kiitos!"
   ]
  },
  {
   "cell_type": "code",
   "execution_count": 9,
   "metadata": {},
   "outputs": [
    {
     "name": "stdout",
     "output_type": "stream",
     "text": [
      "Kiitos!\n"
     ]
    }
   ],
   "source": [
    "luku = int(input(\"Annappa luku: \"))\n",
    "if luku < 1000:\n",
    "    print(\"Luku on pienempi kuin 1000\")\n",
    "if luku < 100:\n",
    "    print(\"Luku on pienempi kuin 100\")    \n",
    "if luku < 10:\n",
    "    print(\"Luku on pienempi kuin 10\")\n",
    "print(\"Kiitos!\")"
   ]
  },
  {
   "cell_type": "code",
   "execution_count": 32,
   "metadata": {},
   "outputs": [
    {
     "name": "stdout",
     "output_type": "stream",
     "text": [
      "Luku on pienempi kuin 100000\n",
      "Luku on pienempi kuin 10000\n",
      "Luku on pienempi kuin 1000\n",
      "Luku on pienempi kuin 100\n",
      "Luku on pienempi kuin 10\n",
      "Kiitos!\n"
     ]
    }
   ],
   "source": [
    "luku = int(input(\"Annappa luku: \"))\n",
    "raja = 100000\n",
    "\n",
    "while raja > 1:\n",
    "    if luku < raja:\n",
    "        print(f\"Luku on pienempi kuin {raja:.0f}\")\n",
    "    raja /= 10\n",
    "print(\"Kiitos!\")\n"
   ]
  },
  {
   "cell_type": "markdown",
   "metadata": {},
   "source": [
    "TEHT. erotus /MOOC\n",
    "\n",
    "Tee ohjelma, joka kysyy käyttäjältä ensin kaksi lukua ja sen jälkeen komennon. Jos komento on joko summa, tulo tai erotus, ohjelma laskee syötteille kyseisen operaation tuloksen. Muussa tapauksessa ohjelma ei tulosta mitään.\n",
    "\n",
    "Tee ohjelma, joka kysyy käyttäjältä ensin kaksi lukua ja sen jälkeen komennon. Jos komento on joko summa, tulo tai erotus, ohjelma laskee syötteille kyseisen operaation tuloksen. Muussa tapauksessa ohjelma ei tulosta mitään.\n",
    "\n",
    "Esimerkkitulostuksia:\n",
    "\n",
    "Luku 1: 10\n",
    "\n",
    "Luku 2: 17\n",
    "\n",
    "Komento: summa\n",
    "\n",
    "10 + 17 = 27\n",
    "\n",
    "\n",
    "Luku 1: 4\n",
    "\n",
    "Luku 2: 6\n",
    "\n",
    "Komento: tulo\n",
    "\n",
    "4 * 6 = 24\n",
    "\n",
    "\n",
    "Luku 1: 4\n",
    "\n",
    "Luku 2: 6\n",
    "\n",
    "Komento: erotus\n",
    "\n",
    "4 - 6 = -2\n"
   ]
  },
  {
   "cell_type": "code",
   "execution_count": 11,
   "metadata": {},
   "outputs": [
    {
     "name": "stdout",
     "output_type": "stream",
     "text": [
      "4 - 6 = -2\n"
     ]
    }
   ],
   "source": [
    "luku1 = int(input(\"Anna eka luku: \"))\n",
    "luku2 = int(input(\"Anna toka luku: \"))\n",
    "toimitus = input(\"Toimitus (summa, tulo, erotus): \")\n",
    "\n",
    "if toimitus == \"summa\":\n",
    "    print(f\"{luku1} + {luku2} = {luku1+luku2}\")\n",
    "if toimitus == \"tulo\":\n",
    "    print(f\"{luku1} * {luku2} = {luku1*luku2}\")\n",
    "if toimitus == \"erotus\":\n",
    "    print(f\"{luku1} - {luku2} = {luku1-luku2}\")"
   ]
  },
  {
   "cell_type": "code",
   "execution_count": 44,
   "metadata": {},
   "outputs": [
    {
     "name": "stdout",
     "output_type": "stream",
     "text": [
      "5 ** 5 = 3125\n"
     ]
    }
   ],
   "source": [
    "luku1 = int(input(\"Anna eka luku: \"))\n",
    "luku2 = int(input(\"Anna toka luku: \"))\n",
    "toimitus = input(\"Toimitus (summa, tulo, erotus): \").lower()\n",
    "\n",
    "operaatiot = {\"summa\": \"+\", \"tulo\": \"*\", \"erotus\": \"-\", \"jako\": \"/\", \"potenssi\": \"**\", \"jakojäännos\": \"%\"}\n",
    "\n",
    "operaatio = operaatiot.get(toimitus, False)\n",
    "if operaatio:\n",
    "    vastaus = eval(str(luku1) + operaatio + str(luku2))\n",
    "    print(f\"{luku1} {operaatio} {luku2} = {vastaus}\")\n",
    "else:\n",
    "    print(f\"Virhe: ei ymmärrä operaatiota '{toimitus}'.\")"
   ]
  },
  {
   "cell_type": "markdown",
   "metadata": {},
   "source": [
    "TEHT. Palkka /MOOC\n",
    "\n",
    "Tee ohjelma, joka kysyy tuntipalkkaa, työskenneltyjen tuntien määrää ja viikonpäivää. Ohjelma tulostaa palkan, joka on tuntipalkka kertaa tuntien määrä muina päivinä paitsi sunnuntaisin, jolloin tuntipalkka on kaksinkertainen.\n",
    "\n",
    "Esimerkkitulostukset \n",
    "\n",
    "Tuntipalkka: 8.5\n",
    "\n",
    "Työtunnit: 3\n",
    "\n",
    "Viikonpäivä: maanantai\n",
    "\n",
    "Palkka 25.5 euroa\n",
    "\n",
    "\n",
    "Tuntipalkka: 12.5\n",
    "\n",
    "Työtunnit: 10\n",
    "\n",
    "Viikonpäivä: sunnuntai\n",
    "\n",
    "Palkka 250.0 euroa"
   ]
  },
  {
   "cell_type": "code",
   "execution_count": 29,
   "metadata": {},
   "outputs": [
    {
     "name": "stdout",
     "output_type": "stream",
     "text": [
      "Palkka 500.00 euroa\n"
     ]
    }
   ],
   "source": [
    "liksa = float(input(\"Tuntipalkka: \"))\n",
    "tunnit = float(input(\"Työtunnit: \"))\n",
    "paiva = input(\"Viikonpäivä: \").lower()\n",
    "\n",
    "if paiva == \"sunnuntai\" or paiva == \"su\":\n",
    "    liksa *= 2\n",
    "\n",
    "print(f\"Palkka {liksa*tunnit:.2f} euroa\")"
   ]
  },
  {
   "cell_type": "markdown",
   "metadata": {},
   "source": [
    "TEHT. Korkoa kortille /MOOC\n",
    "\n",
    "Ohjelmassa lasketaan bonuskortin saldoon vuoden lopussa lisättävä bonuspistemäärä seuraavan kaavan mukaisesti:\n",
    "\n",
    "- Jos bonuspisteitä on alle sata, korkona saa 10 % lisää pisteitä\n",
    "- Muussa tapauksessa korkona saa 15 % lisää pisteitä\n",
    "\n",
    "Ohjelma siis toimii esim. näin:\n",
    "\n",
    "Kuinka paljon pisteitä? 55\n",
    "\n",
    "Sait 10 % bonusta\n",
    "\n",
    "Pisteitä on nyt 60.5"
   ]
  },
  {
   "cell_type": "code",
   "execution_count": 17,
   "metadata": {},
   "outputs": [
    {
     "name": "stdout",
     "output_type": "stream",
     "text": [
      "Sait 15% bonusta\n",
      "Pisteitä on nyt 115.0\n"
     ]
    }
   ],
   "source": [
    "pisteet = int(input(\"Kuinka paljon pisteitä: \"))\n",
    "bonus = 15\n",
    "if pisteet < 100:\n",
    "    bonus = 10\n",
    "\n",
    "print(f\"Sait {bonus}% bonusta\")\n",
    "print(f\"Pisteitä on nyt {pisteet*(1+bonus/100):.1f}\")"
   ]
  },
  {
   "cell_type": "code",
   "execution_count": 46,
   "metadata": {},
   "outputs": [
    {
     "name": "stdout",
     "output_type": "stream",
     "text": [
      "Sait 10% bonusta\n",
      "Pisteitä on nyt 11.0\n"
     ]
    }
   ],
   "source": [
    "pisteet = int(input(\"Kuinka paljon pisteitä: \"))\n",
    "bonus = 10 if pisteet < 100 else 15\n",
    "\n",
    "print(f\"Sait {bonus}% bonusta\")\n",
    "print(f\"Pisteitä on nyt {pisteet*(1+bonus/100):.1f}\")"
   ]
  },
  {
   "cell_type": "markdown",
   "metadata": {},
   "source": [
    "TEHT. parillinen vai pariton\n",
    "\n",
    "Kysy käyttäjältä lukua. Kerro käyttäjälle onko kyseessä pariton vai parillinen luku.\n",
    "\n",
    "https://www.practicepython.org/exercise/2014/02/05/02-odd-or-even.html\n"
   ]
  },
  {
   "cell_type": "code",
   "execution_count": 19,
   "metadata": {},
   "outputs": [
    {
     "name": "stdout",
     "output_type": "stream",
     "text": [
      "Luku 1 on pariton\n"
     ]
    }
   ],
   "source": [
    "luku = int(input(\"Anna luku: \"))\n",
    "if luku % 2 != 0:\n",
    "    print(f\"Luku {luku} on pariton\")\n",
    "else:\n",
    "    print(f\"Luku {luku} on parillinen\")"
   ]
  },
  {
   "cell_type": "code",
   "execution_count": 84,
   "metadata": {},
   "outputs": [
    {
     "name": "stdout",
     "output_type": "stream",
     "text": [
      "Luku on pariton\n"
     ]
    }
   ],
   "source": [
    "print(\"Luku on\", \"pariton\" if int(input(\"Anna luku: \")) % 2 != 0 else \"parillinen\")"
   ]
  },
  {
   "cell_type": "markdown",
   "metadata": {},
   "source": [
    "TEHT. \n",
    "\n",
    "Kysy käyttäjältä luku. Tarkista nyt onko luku jaollinen neljällä, pariton vai parillinen ja tulosta tarkistus.\n",
    "\n",
    "Kysy nyt käyttäjältä toinen luku. Jos jaat ensimmäisen luvun tällä toisella meneekö jako tasan, vai ei. Tulosta 'jako menee tasan'  tai 'jako ei mene tasan')\n",
    "\n",
    "https://www.practicepython.org/exercise/2014/02/05/02-odd-or-even.html\n"
   ]
  },
  {
   "cell_type": "code",
   "execution_count": 50,
   "metadata": {},
   "outputs": [
    {
     "name": "stdout",
     "output_type": "stream",
     "text": [
      "Luku 16 on jaollinen neljällä\n",
      "Luku 16 on parillinen\n",
      "Virhe: nollalla ei voi jakaa!\n"
     ]
    }
   ],
   "source": [
    "luku1 = int(input(\"Anna luku: \"))\n",
    "if luku1 % 4 == 0:\n",
    "    print(f\"Luku {luku1} on jaollinen neljällä\")\n",
    "if luku1 % 2 != 0:\n",
    "    print(f\"Luku {luku1} on pariton\")\n",
    "else:\n",
    "    print(f\"Luku {luku1} on parillinen\")\n",
    "\n",
    "luku2 = int(input(\"Anna toinen luku: \"))\n",
    "try:\n",
    "    if luku1 % luku2 == 0:\n",
    "        print(f\"Jako menee tasan\")\n",
    "    else:\n",
    "        print(f\"Jako ei mene tasan\")\n",
    "except ZeroDivisionError:\n",
    "    print(\"Virhe: nollalla ei voi jakaa!\")"
   ]
  },
  {
   "cell_type": "markdown",
   "metadata": {},
   "source": [
    "TEHT. Suurempi tai yhtäsuuri kuin /MOOC\n",
    "\n",
    "Tee ohjelma, joka kysyy käyttäjältä kaksi kokonaislukua ja tulostaa niistä suuremman. Jos luvut ovat yhtä suuret, ohjelma huomaa myös tämän.\n",
    "\n",
    "Esimerkkitulostuksia:\n",
    "\n",
    "Anna ensimmäinen luku: 5\n",
    "\n",
    "Anna toinen luku: 3\n",
    "\n",
    "Suurempi luku: 5\n",
    "\n",
    "\n",
    "Anna ensimmäinen luku: 5\n",
    "\n",
    "Anna toinen luku: 8\n",
    "\n",
    "Suurempi luku: 8\n",
    "\n",
    "\n",
    "Anna ensimmäinen luku: 5\n",
    "\n",
    "Anna toinen luku: 5\n",
    "\n",
    "Luvut ovat yhtä suuret!"
   ]
  },
  {
   "cell_type": "code",
   "execution_count": 26,
   "metadata": {},
   "outputs": [
    {
     "name": "stdout",
     "output_type": "stream",
     "text": [
      "Luvut ovat yhtä suuret!\n"
     ]
    }
   ],
   "source": [
    "luku1 = int(input(\"Luku 1: \"))\n",
    "luku2 = int(input(\"Luku 2: \"))\n",
    "\n",
    "if luku1 == luku2:\n",
    "    print(\"Luvut ovat yhtä suuret!\")\n",
    "elif luku1 > luku2:\n",
    "    print(f\"Suurempi luku: {luku1}\")\n",
    "elif luku1 < luku2:\n",
    "    print(f\"Suurempi luku: {luku2}\")"
   ]
  },
  {
   "cell_type": "code",
   "execution_count": 75,
   "metadata": {},
   "outputs": [
    {
     "name": "stdout",
     "output_type": "stream",
     "text": [
      "Suurempi luku: 10\n"
     ]
    }
   ],
   "source": [
    "luku1 = int(input(\"Luku 1: \"))\n",
    "luku2 = int(input(\"Luku 2: \"))\n",
    "\n",
    "if luku1 == luku2:\n",
    "    print(\"Luvut ovat yhtä suuret!\")\n",
    "else:\n",
    "    print(f\"Suurempi luku: {luku1 if luku1 > luku2 else luku2}\")"
   ]
  },
  {
   "cell_type": "markdown",
   "metadata": {},
   "source": [
    "TEHT. Vanhempi /MOOC\n",
    "\n",
    "Tee ohjelma, joka kysyy kahden henkilön nimen ja iän ja tulostaa vanhemman henkilön nimen.\n",
    "\n",
    "Esimerkkitulostuksia:\n",
    "\n",
    "Henkilö 1: \n",
    "\n",
    "Nimi: Teppo\n",
    "\n",
    "Ikä: 26\n",
    "\n",
    "Henkilö 2:\n",
    "\n",
    "Nimi: Tiina\n",
    "\n",
    "Ikä: 27\n",
    "\n",
    "Vanhempi on Tiina\n",
    "\n",
    "\n",
    "Henkilö 1:\n",
    "\n",
    "Nimi: Antti\n",
    "\n",
    "Ikä: 1\n",
    "\n",
    "Henkilö 2:\n",
    "\n",
    "Nimi: Venla\n",
    "\n",
    "Ikä: 1\n",
    "\n",
    "Antti ja Venla ovat yhtä vanhoja"
   ]
  },
  {
   "cell_type": "code",
   "execution_count": 29,
   "metadata": {},
   "outputs": [
    {
     "name": "stdout",
     "output_type": "stream",
     "text": [
      "a ja b ovat yhtä vanhoja!\n"
     ]
    }
   ],
   "source": [
    "nimi1 = input(\"Nimi: \")\n",
    "ika1 = int(input(\"Ikä: \"))\n",
    "nimi2 = input(\"Nimi: \")\n",
    "ika2 = int(input(\"Ikä: \"))\n",
    "\n",
    "if ika1 == ika2:\n",
    "    print(f\"{nimi1} ja {nimi2} ovat yhtä vanhoja!\")\n",
    "elif ika1 > ika2:\n",
    "    print(f\"Vanhempi on {nimi1}\")\n",
    "else:\n",
    "    print(f\"Vanhempi on {nimi2}\")"
   ]
  },
  {
   "cell_type": "code",
   "execution_count": 89,
   "metadata": {},
   "outputs": [
    {
     "name": "stdout",
     "output_type": "stream",
     "text": [
      "Vanhempi on a15\n"
     ]
    }
   ],
   "source": [
    "nimi1 = input(\"Nimi: \")\n",
    "ika1 = int(input(\"Ikä: \"))\n",
    "nimi2 = input(\"Nimi: \")\n",
    "ika2 = int(input(\"Ikä: \"))\n",
    "\n",
    "if ika1 == ika2:\n",
    "    print(f\"{nimi1} ja {nimi2} ovat yhtä vanhoja!\")\n",
    "else:\n",
    "    print(f\"Vanhempi on {nimi1 if ika1 > ika2 else nimi2}\")"
   ]
  },
  {
   "cell_type": "markdown",
   "metadata": {},
   "source": [
    "TEHT. Aakkosjärjestyksestä viimeinen /MOOC\n",
    "\n",
    "Lukujen lisäksi Python osaa vertailla myös merkkijonojen suuruusjärjestystä. Merkkijono a on pienempi kuin merkkijono b, jos merkkijono a tulee aakkosjärjestyksessä ennen jonoa b. Huomaa kuitenkin, että tämä pätee varmasti vain kun\n",
    "\n",
    "vertaillaan samankokoisia kirjaimia (eli ISOJA tai pieniä kirjaimia) keskenään ja\n",
    "vertailtavissa sanoissa on vain englannin kielestä tuttuja kirjaimia (eli a-z tai A-Z).\n",
    "Tee ohjelma, joka kysyy käyttäjältä kahta sanaa. Ohjelma tulostaa sanoista sen, joka on aakkosjärjestyksessä jälkimmäinen.\n",
    "\n",
    "Voit olettaa, että sanat on syötetty kokonaan pienillä kirjaimilla.\n",
    "\n",
    "Esimerkkisuorituksia eri syötteillä:\n",
    "\n",
    "Anna 1. sana: auto\n",
    "\n",
    "Anna 2. sana: mopo\n",
    "\n",
    "mopo on aakkosjärjestyksessä viimeinen.\n",
    "\n",
    "\n",
    "Anna 1. sana: zorro\n",
    "\n",
    "Anna 2. sana: batman\n",
    "\n",
    "zorro on aakkosjärjestyksessä viimeinen.\n",
    "\n",
    "\n",
    "Anna 1. sana: python\n",
    "\n",
    "Anna 2. sana: python\n",
    "\n",
    "Annoit saman sanan kahdesti."
   ]
  },
  {
   "cell_type": "code",
   "execution_count": 32,
   "metadata": {},
   "outputs": [
    {
     "name": "stdout",
     "output_type": "stream",
     "text": [
      "Annoit saman sanan kahdesti.\n"
     ]
    }
   ],
   "source": [
    "sana1 = input(\"Anna 1. sana: \")\n",
    "sana2 = input(\"Anna 2. sana: \")\n",
    "\n",
    "if sana1 == sana2:\n",
    "    print(\"Annoit saman sanan kahdesti.\")\n",
    "elif sana1 > sana2:\n",
    "    print(f\"{sana1} on aakkosjärjestyksessä viimeinen\")    \n",
    "else:\n",
    "    print(f\"{sana2} on aakkosjärjestyksessä viimeinen\")"
   ]
  },
  {
   "cell_type": "code",
   "execution_count": 87,
   "metadata": {},
   "outputs": [
    {
     "name": "stdout",
     "output_type": "stream",
     "text": [
      "mopo on aakkosjärjestyksessä viimeinen\n"
     ]
    }
   ],
   "source": [
    "sana1 = input(\"Anna 1. sana: \")\n",
    "sana2 = input(\"Anna 2. sana: \")\n",
    "\n",
    "if sana1 == sana2:\n",
    "    print(\"Annoit saman sanan kahdesti.\")\n",
    "else:\n",
    "    print(f\"{sana1 if sana1 > sana2 else sana2} on aakkosjärjestyksessä viimeinen\")"
   ]
  },
  {
   "cell_type": "markdown",
   "metadata": {},
   "source": [
    "## Loogiset operaattorit\n",
    "\n",
    "Ehtoja voidaan yhdistää loogisilla operaattoreilla:\n",
    "\n",
    "and, or, not\n",
    "\n",
    "https://www.w3schools.com/python/gloss_python_logical_operators.asp"
   ]
  },
  {
   "cell_type": "code",
   "execution_count": 60,
   "metadata": {},
   "outputs": [
    {
     "name": "stdout",
     "output_type": "stream",
     "text": [
      "Molemmat ehdot pitävät paikkansa\n"
     ]
    }
   ],
   "source": [
    "# Esimerkki. Onko a suurempi kuin b ja c suurempi kuin a\n",
    "\n",
    "a = 150\n",
    "b = 20\n",
    "c = 1000\n",
    "if a > b and c > a:\n",
    "  print(\"Molemmat ehdot pitävät paikkansa\")"
   ]
  },
  {
   "cell_type": "code",
   "execution_count": 61,
   "metadata": {},
   "outputs": [
    {
     "name": "stdout",
     "output_type": "stream",
     "text": [
      "Toinen ehdoista pitää paikkansa\n"
     ]
    }
   ],
   "source": [
    "# Esimerkki. Onko a suurempi kuin b vai a suurempi kuin c\n",
    "\n",
    "a = 150\n",
    "b = 20\n",
    "c = 1000\n",
    "if a > b or a > c:\n",
    "  print(\"Toinen ehdoista pitää paikkansa\")"
   ]
  },
  {
   "cell_type": "markdown",
   "metadata": {},
   "source": [
    "TEHT. Iän tarkistus /MOOC\n",
    "\n",
    "Tee ohjelma, joka kysyy käyttäjän ikää. Jos ikä ei ole uskottava (se on alle 5 tai mahdoton luku iälle), antaa ohjelma siihen liittyvän kommentin.\n",
    "\n",
    "Vinkki: tarkastele esimerkkisuorituksia löytääksesi oikean vastineen eri vaihtoehdoille.\n",
    "\n",
    "Esimerkkitulostuksia:\n",
    "\n",
    "\n",
    "Kerro ikäsi? 13\n",
    "\n",
    "Ok, olet siis 13-vuotias\n",
    "\n",
    "\n",
    "Kerro ikäsi? 2\n",
    "\n",
    "En usko, että osaat kirjoittaa...\n",
    "\n",
    "\n",
    "Kerro ikäsi? -4\n",
    "\n",
    "Taitaa olla virhe\n",
    "\n"
   ]
  },
  {
   "cell_type": "code",
   "execution_count": 35,
   "metadata": {},
   "outputs": [
    {
     "name": "stdout",
     "output_type": "stream",
     "text": [
      "Ok, olet siis 46-vuotias\n"
     ]
    }
   ],
   "source": [
    "ika = int(input(\"Kerro ikäsi: \"))\n",
    "\n",
    "if ika < 5 and ika > 0:\n",
    "    print(\"En usko, että osaat kirjoittaa...\")\n",
    "elif ika > 5 and ika < 119:\n",
    "    print(f\"Ok, olet siis {ika}-vuotias\")\n",
    "else:\n",
    "    print(\"Taitaa olla virhe!\")"
   ]
  },
  {
   "cell_type": "markdown",
   "metadata": {},
   "source": [
    "TEHT. VELJENPOJAT /MOOC\n",
    "\n",
    "Tee ohjelma, joka kysyy käyttäjän nimeä. Jos nimeksi syötetään Tupu, Hupu tai Lupu, ohjelma tunnistaa käyttäjän Aku Ankan veljenpojaksi.\n",
    "\n",
    "Jos nimeksi annetaan Mortti tai Vertti, ohjelma vastaavasti tunnistaa käyttäjän Mikki Hiiren veljenpojaksi.\n",
    "\n",
    "Esimerkkitulostuksia:\n",
    "\n",
    "Anna nimesi: Mortti\n",
    "\n",
    "Olet luultavasti Mikki Hiiren veljenpoika.\n",
    "\n",
    "\n",
    "Anna nimesi: Hupu\n",
    "\n",
    "Olet luultavasti Aku Ankan veljenpoika.\n",
    "\n",
    "\n",
    "Anna nimesi: Keijo\n",
    "\n",
    "Et ole kenenkään tuntemani hahmon veljenpoika."
   ]
  },
  {
   "cell_type": "code",
   "execution_count": 38,
   "metadata": {},
   "outputs": [
    {
     "name": "stdout",
     "output_type": "stream",
     "text": [
      "Et ole kenenkään tuntemani hahmon veljenpoika.\n"
     ]
    }
   ],
   "source": [
    "nimi = input(\"Kerro nimi: \")\n",
    "akun = [\"Tupu\",\"Hupu\",\"Lupu\"]\n",
    "mikin = [\"Mortti\",\"Vertti\"]\n",
    "\n",
    "if nimi in akun:\n",
    "    print(\"Olet luultavasti Aku Ankan veljenpoika.\")\n",
    "elif nimi in mikin:\n",
    "    print(\"Olet luultavasti Mikki Hiiren veljenpoika.\")\n",
    "else:\n",
    "    print(\"Et ole kenenkään tuntemani hahmon veljenpoika.\")"
   ]
  },
  {
   "cell_type": "markdown",
   "metadata": {},
   "source": [
    "## Sisäkkäiset ehtolauseet\n",
    "\n",
    "Ehtolauseita voi kirjoittaa toistensa sisään"
   ]
  },
  {
   "cell_type": "code",
   "execution_count": 1,
   "metadata": {},
   "outputs": [
    {
     "name": "stdout",
     "output_type": "stream",
     "text": [
      "luku on yli 10\n",
      "mutta ei yli 20\n"
     ]
    }
   ],
   "source": [
    "# Esimerkki\n",
    "x = int(input('Anna luku'))\n",
    "\n",
    "if x > 10:\n",
    "  print(\"luku on yli 10\")\n",
    "  if x > 20:\n",
    "    print(\"ja myös yli 20\")\n",
    "  else:\n",
    "    print(\"mutta ei yli 20\")\n"
   ]
  },
  {
   "cell_type": "markdown",
   "metadata": {},
   "source": [
    "TEHT. Karkausvuosi /MOOC\n",
    "\n",
    "Vuosi on karkausvuosi, jos se on jaollinen 4:llä. Kuitenkin jos vuosi on jaollinen 100:lla, se on karkausvuosi vain silloin, kun se on jaollinen myös 400:lla.\n",
    "\n",
    "Tee ohjelma, joka lukee käyttäjältä vuosiluvun, ja tarkistaa, onko vuosi karkausvuosi.\n",
    "\n",
    "\n",
    "Anna vuosi: 2011\n",
    "\n",
    "Vuosi ei ole karkausvuosi.\n",
    "\n",
    "\n",
    "Anna vuosi: 2020\n",
    "\n",
    "Vuosi on karkausvuosi.\n",
    "\n",
    "\n",
    "Anna vuosi: 1800\n",
    "\n",
    "Vuosi ei ole karkausvuosi."
   ]
  },
  {
   "cell_type": "code",
   "execution_count": 13,
   "metadata": {},
   "outputs": [
    {
     "name": "stdout",
     "output_type": "stream",
     "text": [
      "Vuosi on karkausvuosi\n"
     ]
    }
   ],
   "source": [
    "vuosi = int(input(\"Anna vuosi: \"))\n",
    "if vuosi % 4 == 0:\n",
    "    if vuosi % 100 == 0 and vuosi % 400 != 0:\n",
    "        print(\"Vuosi ei ole karkausvuosi\")\n",
    "    else:\n",
    "        print(\"Vuosi on karkausvuosi\")\n",
    "else:\n",
    "    print(\"Vuosi ei ole karkausvuosi\")"
   ]
  },
  {
   "cell_type": "code",
   "execution_count": 72,
   "metadata": {},
   "outputs": [
    {
     "name": "stdout",
     "output_type": "stream",
     "text": [
      "Vuosi on karkausvuosi\n"
     ]
    }
   ],
   "source": [
    "vuosi = int(input(\"Anna vuosi: \"))\n",
    "onvaiei = \"on\" if (vuosi % 100 == 0 and vuosi % 400 == 0) or (vuosi % 4 == 0 and vuosi % 100 != 0) else \"ei ole\"\n",
    "print(f\"Vuosi {onvaiei} karkausvuosi\")"
   ]
  },
  {
   "cell_type": "code",
   "execution_count": 8,
   "metadata": {},
   "outputs": [
    {
     "name": "stdout",
     "output_type": "stream",
     "text": [
      "Vuosi on karkausvuosi\n"
     ]
    }
   ],
   "source": [
    "import calendar\n",
    "print(\"Vuosi\", \"on\" if calendar.isleap(int(input(\"Anna vuosi: \"))) else \"ei ole\", \"karkausvuosi\")"
   ]
  },
  {
   "cell_type": "markdown",
   "metadata": {},
   "source": [
    "TEHT. aakkosissa keskimmmäinen / MOOC\n",
    "\n",
    "Tee ohjelma, joka kysyy käyttäjältä kolme kirjainta. Ohjelma tulostaa kirjaimista aakkosjärjestyksessä keskimmäisen.\n",
    "\n",
    "Voit olettaa, että kirjaimet ovat joko kaikki isoja tai kaikki pieniä kirjaimia.\n",
    "\n",
    "Esimerkkitulostuksia:\n",
    "\n",
    "\n",
    "Anna 1. kirjain: x\n",
    "\n",
    "Anna 2. kirjain: c\n",
    "\n",
    "Anna 3. kirjain: p\n",
    "\n",
    "Keskimmäinen kirjain on p\n",
    "\n",
    "\n",
    "Anna 1. kirjain: C\n",
    "\n",
    "Anna 2. kirjain: B\n",
    "\n",
    "Anna 3. kirjain: A\n",
    "\n",
    "Keskimmäinen kirjain on B\n"
   ]
  },
  {
   "cell_type": "code",
   "execution_count": 15,
   "metadata": {},
   "outputs": [
    {
     "name": "stdout",
     "output_type": "stream",
     "text": [
      "Keskimmäinen kirjain on p\n"
     ]
    }
   ],
   "source": [
    "inp = []\n",
    "inp.append(input(\"Anna kirjain: \"))\n",
    "inp.append(input(\"Anna kirjain: \"))\n",
    "inp.append(input(\"Anna kirjain: \"))\n",
    "inp.sort()\n",
    "\n",
    "print(f\"Keskimmäinen kirjain on {inp[1]}\")"
   ]
  },
  {
   "cell_type": "markdown",
   "metadata": {},
   "source": [
    "TEHT. Lahjaverolaskuri /MOOC\n",
    "\n",
    "Verottajan mukaan lahja tarkoittaa sitä, että omaisuus siirtyy toiselle henkilölle ilman korvausta. Lahjasta pitää maksaa lahjaveroa, jos samalta lahjanantajalta saatujen lahjojen arvo on kolmen vuoden aikana 5 000 euroa tai enemmän.\n",
    "\n",
    "Kun lahja tulee lähimmiltä sukulaisilta, lahjaveron määrä määräytyy seuraavan taulukon mukaan:\n",
    "\n",
    "\n",
    "|Lahja   | Vero alarajalla  |  Veroprosentti ylimenevästä |\n",
    "|---|---|---|\n",
    "|  5 000 — 25 000 |  100 |  8 |   \n",
    "|  25 000 — 55 000\t  |  1 700\t   |  10   | \n",
    "| 55 000 — 200 000  |  4 700 |12   |  \n",
    "|  200 000 — 1 000 000\t |   22 100\t   |  15 |\n",
    "|1 000 000 —\t    |    142 100\t   | 17  |\n",
    "\n",
    "Esimerkiksi 6000 euron lahjasta tulee maksaa veroa 180 euroa (100 + (6000-5000) * 0.08) ja 75000 euron lahjasta tulee maksaa veroa 7100 euroa (4700 + (75000-55000) * 0.12).\n",
    "\n",
    "Tee ohjelma, joka laskee lahjaveron lähimpien sukulaisten antamalle lahjalle. Alla on muutama esimerkki ohjelman toiminnasta.\n",
    "\n",
    "Esimerkkitulostus\n",
    "\n",
    "Lahjan suuruus? 3500\n",
    "\n",
    "Ei veroa!\n",
    "\n",
    "\n",
    "Lahjan suuruus? 5000\n",
    "\n",
    "Vero: 100.0 euroa\n",
    "\n",
    "\n",
    "Lahjan suuruus? 27500\n",
    "\n",
    "Vero: 1950.0 euroa"
   ]
  },
  {
   "cell_type": "code",
   "execution_count": 22,
   "metadata": {},
   "outputs": [
    {
     "name": "stdout",
     "output_type": "stream",
     "text": [
      "Vero: 312100.0 euroa\n"
     ]
    }
   ],
   "source": [
    "lahja = int(input(\"Lahjan suuruus: \"))\n",
    "\n",
    "if lahja < 5000:\n",
    "    print(\"Ei veroa!\")\n",
    "else:\n",
    "    if lahja < 25000:\n",
    "        raja = 5000\n",
    "        min = 100\n",
    "        vero = 8\n",
    "    elif lahja < 55000:\n",
    "        raja = 25000\n",
    "        min = 1700\n",
    "        vero = 10\n",
    "    elif lahja < 200000:\n",
    "        raja = 55000\n",
    "        min = 4700\n",
    "        vero = 12\n",
    "    elif lahja < 1000000:\n",
    "        raja = 200000\n",
    "        min = 22100\n",
    "        vero = 15\n",
    "    else:\n",
    "        raja = 1000000\n",
    "        min = 142100\n",
    "        vero = 17\n",
    "\n",
    "    print(f\"Vero: {(min+(lahja-raja)*(vero/100)):.1f} euroa\")\n"
   ]
  },
  {
   "cell_type": "code",
   "execution_count": 9,
   "metadata": {},
   "outputs": [
    {
     "name": "stdout",
     "output_type": "stream",
     "text": [
      "Vero: 4200.0 euroa\n"
     ]
    }
   ],
   "source": [
    "lahja = int(input(\"Lahjan suuruus: \"))\n",
    "\n",
    "verot = {\n",
    "    5000: {\"raja\": 0, \"min\": 0, \"vero\": 0},\n",
    "    25000: {\"raja\": 5000, \"min\": 100, \"vero\": 8},\n",
    "    55000: {\"raja\": 25000, \"min\": 1700, \"vero\": 10},\n",
    "    200000: {\"raja\": 55000, \"min\": 4700, \"vero\": 12},\n",
    "    1000000: {\"raja\": 200000, \"min\": 22100, \"vero\": 15},\n",
    "    999999999: {\"raja\": 1000000, \"min\": 142100, \"vero\": 17}\n",
    "}\n",
    "vero = 0\n",
    "for key in verot:\n",
    "    if lahja < key and lahja >= verot[key][\"raja\"]:\n",
    "        raja = verot[key][\"raja\"]\n",
    "        min = verot[key][\"min\"]\n",
    "        vero = verot[key][\"vero\"]\n",
    "        break\n",
    "if vero > 0:\n",
    "    print(f\"Vero: {(min+(lahja-raja)*(vero/100)):.1f} euroa\")\n",
    "else:\n",
    "    print(\"Ei veroa!\")"
   ]
  }
 ],
 "metadata": {
  "kernelspec": {
   "display_name": "Python 3.10.7 64-bit",
   "language": "python",
   "name": "python3"
  },
  "language_info": {
   "codemirror_mode": {
    "name": "ipython",
    "version": 3
   },
   "file_extension": ".py",
   "mimetype": "text/x-python",
   "name": "python",
   "nbconvert_exporter": "python",
   "pygments_lexer": "ipython3",
   "version": "3.10.7"
  },
  "vscode": {
   "interpreter": {
    "hash": "26de051ba29f2982a8de78e945f0abaf191376122a1563185a90213a26c5da77"
   }
  }
 },
 "nbformat": 4,
 "nbformat_minor": 4
}
